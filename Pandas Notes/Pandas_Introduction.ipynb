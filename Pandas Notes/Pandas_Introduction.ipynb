{
  "cells": [
    {
      "cell_type": "markdown",
      "metadata": {
        "id": "view-in-github",
        "colab_type": "text"
      },
      "source": [
        "<a href=\"https://colab.research.google.com/github/rutvik1990/Data_Analysis_Notebooks/blob/main/Pandas%20Notes/Pandas_Introduction.ipynb\" target=\"_parent\"><img src=\"https://colab.research.google.com/assets/colab-badge.svg\" alt=\"Open In Colab\"/></a>"
      ]
    },
    {
      "cell_type": "markdown",
      "metadata": {
        "id": "9dKhqwnj1SYS"
      },
      "source": [
        "# Introduction To Pandas\n",
        "The word pandas is an acronym which is derived from \"Python and data analysis\" and \"panel data\".\n",
        "There is often some confusion about whether Pandas is an alternative to Numpy, SciPy and Matplotlib. The truth is that it is built on top of Numpy. This means that Numpy is required by pandas. Scipy and Matplotlib on the other hand are not required by pandas but they are extremely useful."
      ]
    },
    {
      "cell_type": "markdown",
      "metadata": {
        "id": "qXrGcQRx1SYc"
      },
      "source": [
        "# Data Structures\n",
        "We will start with the following two important data structures of Pandas:\n",
        "\n",
        "Series and\n",
        "DataFrame\n",
        "\n",
        "Pandas is a software library written for the Python programming language. It is used for data manipulation and analysis. It provides special data structures and operations for the manipulation of numerical tables and time series. "
      ]
    },
    {
      "cell_type": "markdown",
      "metadata": {
        "id": "fHif3N7x1SYh"
      },
      "source": [
        "# Series\n",
        "A Series is a one-dimensional labelled array-like object. It is capable of holding any data type, e.g. integers, floats, strings, Python objects, and so on. It can be seen as a data structure with two arrays: one functioning as the index, i.e. the labels, and the other one contains the actual data.\n",
        "\n",
        "We define a simple Series object in the following example by instantiating a Pandas Series object with a list. "
      ]
    },
    {
      "cell_type": "code",
      "execution_count": null,
      "metadata": {
        "id": "jwNeEbSq1SYm",
        "outputId": "7b1178b3-d930-41c9-e737-049920034ef1"
      },
      "outputs": [
        {
          "data": {
            "text/plain": [
              "11"
            ]
          },
          "execution_count": 2,
          "metadata": {},
          "output_type": "execute_result"
        }
      ],
      "source": [
        "import pandas as pd\n",
        "S = pd.Series([11, 28, 72, 3, 5, 8])\n",
        "S[0]"
      ]
    },
    {
      "cell_type": "code",
      "execution_count": null,
      "metadata": {
        "id": "OVQH8GNy1SYp",
        "outputId": "ed5aa8db-f3d3-4087-ec6a-bbc092b4e681"
      },
      "outputs": [
        {
          "name": "stdout",
          "output_type": "stream",
          "text": [
            "RangeIndex(start=0, stop=6, step=1)\n",
            "[11 28 72  3  5  8]\n"
          ]
        }
      ],
      "source": [
        "#we can access the seriese like this also\n",
        "print(S.index)\n",
        "print(S.values)"
      ]
    },
    {
      "cell_type": "code",
      "execution_count": null,
      "metadata": {
        "id": "rXsdyyZK1SYs",
        "outputId": "d0a218b1-8fba-4869-d4d6-6431c0e2d392"
      },
      "outputs": [
        {
          "data": {
            "text/plain": [
              "20"
            ]
          },
          "execution_count": 17,
          "metadata": {},
          "output_type": "execute_result"
        }
      ],
      "source": [
        "#we can create a serise with specific index value also\n",
        "fruits = ['apples', 'oranges', 'cherries', 'pears']\n",
        "quantities = [20, 33, 52, 10]\n",
        "S = pd.Series(quantities, index=fruits)\n",
        "S['apples']"
      ]
    },
    {
      "cell_type": "code",
      "execution_count": null,
      "metadata": {
        "id": "lwQ7IU1n1SYu",
        "outputId": "d3a95fe4-2432-4edc-d51f-a166d19c8075"
      },
      "outputs": [
        {
          "name": "stdout",
          "output_type": "stream",
          "text": [
            "apples      37\n",
            "oranges     46\n",
            "cherries    83\n",
            "pears       42\n",
            "dtype: int64\n",
            "sum of S:  115\n"
          ]
        }
      ],
      "source": [
        "#If we addd to serise we can get a new serise with the same index  \n",
        "fruits = ['apples', 'oranges', 'cherries', 'pears']\n",
        "S = pd.Series([20, 33, 52, 10], index=fruits)\n",
        "S2 = pd.Series([17, 13, 31, 32], index=fruits)\n",
        "print(S + S2)\n",
        "print(\"sum of S: \", sum(S))"
      ]
    },
    {
      "cell_type": "code",
      "execution_count": null,
      "metadata": {
        "id": "76zoz6sA1SYw",
        "outputId": "ae54d04c-a381-4a5b-ddfa-884931c22c98"
      },
      "outputs": [
        {
          "name": "stdout",
          "output_type": "stream",
          "text": [
            "cherries       83.0\n",
            "oranges        46.0\n",
            "peaches         NaN\n",
            "pears          42.0\n",
            "raspberries     NaN\n",
            "dtype: float64\n"
          ]
        }
      ],
      "source": [
        "#if both series have different index then \n",
        "fruits = ['peaches', 'oranges', 'cherries', 'pears']\n",
        "fruits2 = ['raspberries', 'oranges', 'cherries', 'pears']\n",
        "S = pd.Series([20, 33, 52, 10], index=fruits)\n",
        "S2 = pd.Series([17, 13, 31, 32], index=fruits2)\n",
        "print(S + S2)"
      ]
    },
    {
      "cell_type": "code",
      "execution_count": null,
      "metadata": {
        "id": "zWbC5lBs1SY1",
        "outputId": "9dc2ac4f-dd0f-455b-d89d-74c6bf992578"
      },
      "outputs": [
        {
          "name": "stdout",
          "output_type": "stream",
          "text": [
            "apples      NaN\n",
            "cherries    NaN\n",
            "cireșe      NaN\n",
            "mere        NaN\n",
            "oranges     NaN\n",
            "pears       NaN\n",
            "pere        NaN\n",
            "portocale   NaN\n",
            "dtype: float64\n"
          ]
        }
      ],
      "source": [
        "fruits = ['apples', 'oranges', 'cherries', 'pears']\n",
        "fruits_ro = [\"mere\", \"portocale\", \"cireșe\", \"pere\"]\n",
        "S = pd.Series([20, 33, 52, 10], index=fruits)\n",
        "S2 = pd.Series([17, 13, 31, 32], index=fruits_ro)\n",
        "print(S+S2)"
      ]
    },
    {
      "cell_type": "code",
      "execution_count": null,
      "metadata": {
        "id": "MDlgD7cG1SY6",
        "outputId": "5891649d-a16c-4aff-e111-c7fa2e48168a"
      },
      "outputs": [
        {
          "name": "stdout",
          "output_type": "stream",
          "text": [
            "20\n",
            "apples      20\n",
            "oranges     33\n",
            "cherries    52\n",
            "dtype: int64\n"
          ]
        }
      ],
      "source": [
        "# we can print more or one values by index\n",
        "print(S['apples'])\n",
        "print(S[['apples', 'oranges', 'cherries']])"
      ]
    },
    {
      "cell_type": "code",
      "execution_count": null,
      "metadata": {
        "id": "UanvoZBc1SY8",
        "outputId": "9261f3df-c64c-4e4b-88f4-d76f877a71e0"
      },
      "outputs": [
        {
          "name": "stdout",
          "output_type": "stream",
          "text": [
            "apples       92\n",
            "oranges     144\n",
            "cherries    220\n",
            "pears        52\n",
            "dtype: int64\n",
            "======================\n",
            "apples      0.912945\n",
            "oranges     0.999912\n",
            "cherries    0.986628\n",
            "pears      -0.544021\n",
            "dtype: float64\n",
            "0.9129452507276277\n"
          ]
        }
      ],
      "source": [
        "import numpy as np\n",
        "print((S + 3) * 4)\n",
        "print(\"======================\")\n",
        "print(np.sin(S))\n",
        "print(np.sin(20))"
      ]
    },
    {
      "cell_type": "markdown",
      "metadata": {
        "id": "XCCPxWHu1SY_"
      },
      "source": [
        "# pandas.Series.apply\n",
        "Series.apply(func, convert_dtype=True, args=(), **kwds)\n",
        "\n",
        "The function \"func\" will be applied to the Series and it returns either a Series or a DataFrame, depending on \"func\".\n",
        "\n",
        "Parameter\tMeaning\n",
        "func\ta function, which can be a NumPy function that will be applied to the entire Series or a Python function that will be applied to every single value of the series\n",
        "convert_dtype\tA boolean value. If it is set to True (default), apply will try to find better dtype for elementwise function results. If False, leave as dtype=object\n",
        "args\tPositional arguments which will be passed to the function \"func\" additionally to the values from the series.\n",
        "**kwds\tAdditional keyword arguments will be passed as keywords to the function\n",
        "Example:\n"
      ]
    },
    {
      "cell_type": "code",
      "execution_count": null,
      "metadata": {
        "id": "RyH4YR6t1SZB",
        "outputId": "fd499017-cef5-4f37-d967-844f7b54b468"
      },
      "outputs": [
        {
          "data": {
            "text/plain": [
              "apples      10\n",
              "oranges     23\n",
              "cherries    42\n",
              "pears        0\n",
              "dtype: int64"
            ]
          },
          "execution_count": 10,
          "metadata": {},
          "output_type": "execute_result"
        }
      ],
      "source": [
        "def apply_a(S):\n",
        "    S = S-10\n",
        "    return S\n",
        "S.apply(apply_a)"
      ]
    },
    {
      "cell_type": "code",
      "execution_count": null,
      "metadata": {
        "id": "67jEt-611SZC",
        "outputId": "497e7cb9-2f68-43f8-c038-86b2aaad0803"
      },
      "outputs": [
        {
          "name": "stdout",
          "output_type": "stream",
          "text": [
            "[8615246 3562166 3165235 2874038 2273305 1805681 1803425 1760433 1754000\n",
            " 1740119 1602386 1493900 1350680]\n"
          ]
        }
      ],
      "source": [
        "# We can pass a dict to serise\n",
        "cities = {\"London\":   8615246, \n",
        "          \"Berlin\":   3562166, \n",
        "          \"Madrid\":   3165235, \n",
        "          \"Rome\":     2874038, \n",
        "          \"Paris\":    2273305, \n",
        "          \"Vienna\":   1805681, \n",
        "          \"Bucharest\":1803425, \n",
        "          \"Hamburg\":  1760433,\n",
        "          \"Budapest\": 1754000,\n",
        "          \"Warsaw\":   1740119,\n",
        "          \"Barcelona\":1602386,\n",
        "          \"Munich\":   1493900,\n",
        "          \"Milan\":    1350680}\n",
        "city_series = pd.Series(cities)\n",
        "print(city_series)"
      ]
    },
    {
      "cell_type": "code",
      "execution_count": null,
      "metadata": {
        "id": "He6pkZv21SZF",
        "outputId": "9cb82d2d-bb89-47f0-cb03-3236d51efaac"
      },
      "outputs": [
        {
          "data": {
            "text/plain": [
              "London       8615246.0\n",
              "Paris        2273305.0\n",
              "Zurich             NaN\n",
              "Berlin       3562166.0\n",
              "Stuttgart          NaN\n",
              "Hamburg      1760433.0\n",
              "dtype: float64"
            ]
          },
          "execution_count": 15,
          "metadata": {},
          "output_type": "execute_result"
        }
      ],
      "source": [
        "# Handling Missing Values- Nan values\n",
        "my_cities = [\"London\", \"Paris\", \"Zurich\", \"Berlin\", \n",
        "             \"Stuttgart\", \"Hamburg\"]\n",
        "my_city_series = pd.Series(cities, \n",
        "                           index=my_cities)\n",
        "my_city_series\n",
        "# here values are converted into floats due to missing values"
      ]
    },
    {
      "cell_type": "code",
      "execution_count": null,
      "metadata": {
        "id": "cEURvy1V1SZJ",
        "outputId": "317db06e-f5c2-41a6-ab3e-aa920f58ba7d"
      },
      "outputs": [
        {
          "data": {
            "text/plain": [
              "London     8615246\n",
              "Paris      2273305\n",
              "Berlin     3562166\n",
              "Hamburg    1760433\n",
              "dtype: int64"
            ]
          },
          "execution_count": 13,
          "metadata": {},
          "output_type": "execute_result"
        }
      ],
      "source": [
        "# if we do not have missing valures ans is in int\n",
        "my_cities = [\"London\", \"Paris\", \"Berlin\", \"Hamburg\"]\n",
        "my_city_series = pd.Series(cities, \n",
        "                           index=my_cities)\n",
        "my_city_series"
      ]
    },
    {
      "cell_type": "code",
      "execution_count": null,
      "metadata": {
        "id": "AXtoUxCT1SZL",
        "outputId": "8132e6cf-0a25-42ad-ae14-bdac1c80017b"
      },
      "outputs": [
        {
          "name": "stdout",
          "output_type": "stream",
          "text": [
            "London       False\n",
            "Paris        False\n",
            "Zurich        True\n",
            "Berlin       False\n",
            "Stuttgart     True\n",
            "Hamburg      False\n",
            "dtype: bool\n",
            "London        True\n",
            "Paris         True\n",
            "Zurich       False\n",
            "Berlin        True\n",
            "Stuttgart    False\n",
            "Hamburg       True\n",
            "dtype: bool\n"
          ]
        }
      ],
      "source": [
        "#Methods isnull() and notnull()\n",
        "\n",
        "my_cities = [\"London\", \"Paris\", \"Zurich\", \"Berlin\", \n",
        "             \"Stuttgart\", \"Hamburg\"]\n",
        "my_city_series = pd.Series(cities, \n",
        "                           index=my_cities)\n",
        "print(my_city_series.isnull())#isnull()\n",
        "\n",
        "print(my_city_series.notnull())#notnull()\n"
      ]
    },
    {
      "cell_type": "code",
      "execution_count": null,
      "metadata": {
        "id": "jcHwgfpW1SZO",
        "outputId": "b548a6db-8f47-472c-b38a-6ca2dce1d048"
      },
      "outputs": [
        {
          "name": "stdout",
          "output_type": "stream",
          "text": [
            "a    23.0\n",
            "b    45.0\n",
            "c     NaN\n",
            "d     0.0\n",
            "dtype: float64\n"
          ]
        },
        {
          "data": {
            "text/plain": [
              "a    False\n",
              "b    False\n",
              "c     True\n",
              "d    False\n",
              "dtype: bool"
            ]
          },
          "execution_count": 2,
          "metadata": {},
          "output_type": "execute_result"
        }
      ],
      "source": [
        "#if dict have value none for some key it becomes Nan\n",
        "import pandas as pd\n",
        "\n",
        "\n",
        "d = {\"a\":23, \"b\":45, \"c\":None, \"d\":0}\n",
        "S = pd.Series(d)\n",
        "print(S)\n",
        "pd.isnull(S)"
      ]
    },
    {
      "cell_type": "code",
      "execution_count": null,
      "metadata": {
        "id": "Cm5_yzTB1SZO",
        "outputId": "20acde2d-95ba-49e7-a4a2-2a2fa2427951"
      },
      "outputs": [
        {
          "name": "stdout",
          "output_type": "stream",
          "text": [
            "London     8615246.0\n",
            "Paris      2273305.0\n",
            "Berlin     3562166.0\n",
            "Hamburg    1760433.0\n",
            "dtype: float64\n"
          ]
        }
      ],
      "source": [
        "# Filtering out missing values with the Series method dropna it excludes missing value fields\n",
        "\n",
        "print(my_city_series.dropna())\n"
      ]
    },
    {
      "cell_type": "markdown",
      "metadata": {
        "id": "tpQL20Pz1SZP"
      },
      "source": [
        "# Filling in Missing Data\n",
        "In many cases you don't want to filter out missing data, but you want to fill in appropriate data for the empty gaps. A suitable method in many situations will be fillna:"
      ]
    },
    {
      "cell_type": "code",
      "execution_count": null,
      "metadata": {
        "id": "I_tUXOBD1SZQ",
        "outputId": "b6f3b8fc-a288-4fa9-d658-420ae6a30a4e"
      },
      "outputs": [
        {
          "name": "stdout",
          "output_type": "stream",
          "text": [
            "London       8615246.0\n",
            "Paris        2273305.0\n",
            "Zurich            12.0\n",
            "Berlin       3562166.0\n",
            "Stuttgart         12.0\n",
            "Hamburg      1760433.0\n",
            "dtype: float64\n"
          ]
        }
      ],
      "source": [
        "\n",
        "print(my_city_series.fillna(12))"
      ]
    },
    {
      "cell_type": "markdown",
      "metadata": {
        "id": "qsXXxq1Y1SZR"
      },
      "source": [
        "# DataFrame\n",
        "The underlying idea of a DataFrame is based on spreadsheets. We can see the data structure of a DataFrame as tabular and spreadsheet-like. A DataFrame logically corresponds to a \"sheet\" of an Excel document. A DataFrame has both a row and a column index.\n",
        "There is a close connection between the DataFrames and the Series of Pandas. A DataFrame can be seen as a concatenation of Series, each Series having the same index, i.e. the index of the DataFrame."
      ]
    },
    {
      "cell_type": "markdown",
      "metadata": {
        "id": "81taWomV1SZT"
      },
      "source": [
        "\n"
      ]
    },
    {
      "cell_type": "code",
      "execution_count": null,
      "metadata": {
        "id": "V_T4tm0k1SZU",
        "outputId": "52c44978-7f05-4f9d-f916-be5e37d2e7e4"
      },
      "outputs": [
        {
          "data": {
            "text/plain": [
              "2014    2409.14\n",
              "2015    2941.01\n",
              "2016    3496.83\n",
              "2017    3119.55\n",
              "2014    1203.45\n",
              "2015    3441.62\n",
              "2016    3007.83\n",
              "2017    3619.53\n",
              "2014    3412.12\n",
              "2015    3491.16\n",
              "2016    3457.19\n",
              "2017    1963.10\n",
              "dtype: float64"
            ]
          },
          "execution_count": 20,
          "metadata": {},
          "output_type": "execute_result"
        }
      ],
      "source": [
        "import pandas as pd\n",
        "years = range(2014, 2018)\n",
        "shop1 = pd.Series([2409.14, 2941.01, 3496.83, 3119.55], index=years)\n",
        "shop2 = pd.Series([1203.45, 3441.62, 3007.83, 3619.53], index=years)\n",
        "shop3 = pd.Series([3412.12, 3491.16, 3457.19, 1963.10], index=years)\n",
        "pd.concat([shop1, shop2, shop3])"
      ]
    },
    {
      "cell_type": "markdown",
      "metadata": {
        "id": "NEgUaZbd1SZW"
      },
      "source": [
        "# DataFrames from Dictionaries\n",
        "A DataFrame has a row and column index; it's like a dict of Series with a common index."
      ]
    },
    {
      "cell_type": "code",
      "execution_count": null,
      "metadata": {
        "id": "3dj1yPwV1SZX",
        "outputId": "0bb24a1b-3dd6-4fa6-c666-34e263f72edd"
      },
      "outputs": [
        {
          "name": "stdout",
          "output_type": "stream",
          "text": [
            "     name  population  country\n",
            "0  London     8615246  England\n",
            "1  Berlin     3562166  Germany\n",
            "2  Madrid     3165235    Spain\n",
            "3    Rome     2874038    Italy\n",
            "4   Paris     2273305   France\n"
          ]
        }
      ],
      "source": [
        "cities = {\"name\": [\"London\", \"Berlin\", \"Madrid\", \"Rome\", \n",
        "                   \"Paris\"],\n",
        "          \"population\": [8615246, 3562166, 3165235, 2874038,\n",
        "                         2273305],\n",
        "          \"country\": [\"England\", \"Germany\", \"Spain\", \"Italy\",\n",
        "                      \"France\"]}\n",
        "city_frame = pd.DataFrame(cities)\n",
        "print(city_frame)"
      ]
    },
    {
      "cell_type": "code",
      "execution_count": null,
      "metadata": {
        "id": "8owQvlAg1SZZ",
        "outputId": "bc85e229-c226-4ffc-ded6-9e069ba1b03b"
      },
      "outputs": [
        {
          "data": {
            "text/plain": [
              "array(['țară', 'populație', 'cum_population'], dtype=object)"
            ]
          },
          "execution_count": 22,
          "metadata": {},
          "output_type": "execute_result"
        }
      ],
      "source": [
        "#Retrieving the Column Names\n",
        "\n",
        "city_frame.columns.values"
      ]
    },
    {
      "cell_type": "markdown",
      "metadata": {
        "id": "cZQh6zCQ1SZa"
      },
      "source": [
        "# Custom Index\n",
        "We can see that an index (0,1,2, ...) has been automatically assigned to the DataFrame. We can also assign a custom index to the DataFrame object:"
      ]
    },
    {
      "cell_type": "code",
      "execution_count": null,
      "metadata": {
        "id": "nD5_JHbJ1SZb",
        "outputId": "070e2c71-fb0c-42f5-ecc4-33c4e81b4039"
      },
      "outputs": [
        {
          "data": {
            "text/html": [
              "<div>\n",
              "<style scoped>\n",
              "    .dataframe tbody tr th:only-of-type {\n",
              "        vertical-align: middle;\n",
              "    }\n",
              "\n",
              "    .dataframe tbody tr th {\n",
              "        vertical-align: top;\n",
              "    }\n",
              "\n",
              "    .dataframe thead th {\n",
              "        text-align: right;\n",
              "    }\n",
              "</style>\n",
              "<table border=\"1\" class=\"dataframe\">\n",
              "  <thead>\n",
              "    <tr style=\"text-align: right;\">\n",
              "      <th></th>\n",
              "      <th>name</th>\n",
              "      <th>population</th>\n",
              "      <th>country</th>\n",
              "    </tr>\n",
              "  </thead>\n",
              "  <tbody>\n",
              "    <tr>\n",
              "      <th>first</th>\n",
              "      <td>London</td>\n",
              "      <td>8615246</td>\n",
              "      <td>England</td>\n",
              "    </tr>\n",
              "    <tr>\n",
              "      <th>second</th>\n",
              "      <td>Berlin</td>\n",
              "      <td>3562166</td>\n",
              "      <td>Germany</td>\n",
              "    </tr>\n",
              "    <tr>\n",
              "      <th>third</th>\n",
              "      <td>Madrid</td>\n",
              "      <td>3165235</td>\n",
              "      <td>Spain</td>\n",
              "    </tr>\n",
              "    <tr>\n",
              "      <th>fourth</th>\n",
              "      <td>Rome</td>\n",
              "      <td>2874038</td>\n",
              "      <td>Italy</td>\n",
              "    </tr>\n",
              "    <tr>\n",
              "      <th>fifth</th>\n",
              "      <td>Paris</td>\n",
              "      <td>2273305</td>\n",
              "      <td>France</td>\n",
              "    </tr>\n",
              "  </tbody>\n",
              "</table>\n",
              "</div>"
            ],
            "text/plain": [
              "          name  population  country\n",
              "first   London     8615246  England\n",
              "second  Berlin     3562166  Germany\n",
              "third   Madrid     3165235    Spain\n",
              "fourth    Rome     2874038    Italy\n",
              "fifth    Paris     2273305   France"
            ]
          },
          "execution_count": 6,
          "metadata": {},
          "output_type": "execute_result"
        }
      ],
      "source": [
        "ordinals = [\"first\", \"second\", \"third\", \"fourth\",\n",
        "            \"fifth\"]\n",
        "city_frame = pd.DataFrame(cities, index=ordinals)\n",
        "city_frame"
      ]
    },
    {
      "cell_type": "markdown",
      "metadata": {
        "id": "Ty3JbOQT1SZc"
      },
      "source": [
        "# Rearranging the Order of Columns\n",
        "We can also define and rearrange the order of the columns at the time of creation of the DataFrame. This makes also sure that we will have a defined ordering of our columns, if we create the DataFrame from a dictionary. Dictionaries are not ordered so we cannot know in advance what the ordering of our columns will be:"
      ]
    },
    {
      "cell_type": "code",
      "execution_count": null,
      "metadata": {
        "id": "CXOMoAEB1SZd",
        "outputId": "d1bdd1f1-25a1-42ab-d883-c69a6c2a4de5"
      },
      "outputs": [
        {
          "data": {
            "text/html": [
              "<div>\n",
              "<style scoped>\n",
              "    .dataframe tbody tr th:only-of-type {\n",
              "        vertical-align: middle;\n",
              "    }\n",
              "\n",
              "    .dataframe tbody tr th {\n",
              "        vertical-align: top;\n",
              "    }\n",
              "\n",
              "    .dataframe thead th {\n",
              "        text-align: right;\n",
              "    }\n",
              "</style>\n",
              "<table border=\"1\" class=\"dataframe\">\n",
              "  <thead>\n",
              "    <tr style=\"text-align: right;\">\n",
              "      <th></th>\n",
              "      <th>name</th>\n",
              "      <th>country</th>\n",
              "      <th>population</th>\n",
              "    </tr>\n",
              "  </thead>\n",
              "  <tbody>\n",
              "    <tr>\n",
              "      <th>0</th>\n",
              "      <td>London</td>\n",
              "      <td>England</td>\n",
              "      <td>8615246</td>\n",
              "    </tr>\n",
              "    <tr>\n",
              "      <th>1</th>\n",
              "      <td>Berlin</td>\n",
              "      <td>Germany</td>\n",
              "      <td>3562166</td>\n",
              "    </tr>\n",
              "    <tr>\n",
              "      <th>2</th>\n",
              "      <td>Madrid</td>\n",
              "      <td>Spain</td>\n",
              "      <td>3165235</td>\n",
              "    </tr>\n",
              "    <tr>\n",
              "      <th>3</th>\n",
              "      <td>Rome</td>\n",
              "      <td>Italy</td>\n",
              "      <td>2874038</td>\n",
              "    </tr>\n",
              "    <tr>\n",
              "      <th>4</th>\n",
              "      <td>Paris</td>\n",
              "      <td>France</td>\n",
              "      <td>2273305</td>\n",
              "    </tr>\n",
              "  </tbody>\n",
              "</table>\n",
              "</div>"
            ],
            "text/plain": [
              "     name  country  population\n",
              "0  London  England     8615246\n",
              "1  Berlin  Germany     3562166\n",
              "2  Madrid    Spain     3165235\n",
              "3    Rome    Italy     2874038\n",
              "4   Paris   France     2273305"
            ]
          },
          "execution_count": 7,
          "metadata": {},
          "output_type": "execute_result"
        }
      ],
      "source": [
        "city_frame = pd.DataFrame(cities,\n",
        "                          columns=[\"name\", \n",
        "                                   \"country\", \n",
        "                                   \"population\"])\n",
        "city_frame"
      ]
    },
    {
      "cell_type": "markdown",
      "metadata": {
        "id": "U230I8451SZe"
      },
      "source": [
        "# assign some other name to our columns or change in some other language \n"
      ]
    },
    {
      "cell_type": "code",
      "execution_count": null,
      "metadata": {
        "id": "dn4xrJZD1SZf",
        "outputId": "f0966dee-2aed-4201-fa0d-5ceadba4c08e"
      },
      "outputs": [
        {
          "data": {
            "text/html": [
              "<div>\n",
              "<style scoped>\n",
              "    .dataframe tbody tr th:only-of-type {\n",
              "        vertical-align: middle;\n",
              "    }\n",
              "\n",
              "    .dataframe tbody tr th {\n",
              "        vertical-align: top;\n",
              "    }\n",
              "\n",
              "    .dataframe thead th {\n",
              "        text-align: right;\n",
              "    }\n",
              "</style>\n",
              "<table border=\"1\" class=\"dataframe\">\n",
              "  <thead>\n",
              "    <tr style=\"text-align: right;\">\n",
              "      <th></th>\n",
              "      <th>țară</th>\n",
              "      <th>populație</th>\n",
              "      <th>cum_population</th>\n",
              "    </tr>\n",
              "  </thead>\n",
              "  <tbody>\n",
              "    <tr>\n",
              "      <th>London</th>\n",
              "      <td>England</td>\n",
              "      <td>8615246</td>\n",
              "      <td>8615246</td>\n",
              "    </tr>\n",
              "    <tr>\n",
              "      <th>Berlin</th>\n",
              "      <td>Germany</td>\n",
              "      <td>3562166</td>\n",
              "      <td>12177412</td>\n",
              "    </tr>\n",
              "    <tr>\n",
              "      <th>Madrid</th>\n",
              "      <td>Spain</td>\n",
              "      <td>3165235</td>\n",
              "      <td>15342647</td>\n",
              "    </tr>\n",
              "    <tr>\n",
              "      <th>Rome</th>\n",
              "      <td>Italy</td>\n",
              "      <td>2874038</td>\n",
              "      <td>18216685</td>\n",
              "    </tr>\n",
              "    <tr>\n",
              "      <th>Paris</th>\n",
              "      <td>France</td>\n",
              "      <td>2273305</td>\n",
              "      <td>20489990</td>\n",
              "    </tr>\n",
              "  </tbody>\n",
              "</table>\n",
              "</div>"
            ],
            "text/plain": [
              "           țară  populație  cum_population\n",
              "London  England    8615246         8615246\n",
              "Berlin  Germany    3562166        12177412\n",
              "Madrid    Spain    3165235        15342647\n",
              "Rome      Italy    2874038        18216685\n",
              "Paris    France    2273305        20489990"
            ]
          },
          "execution_count": 21,
          "metadata": {},
          "output_type": "execute_result"
        }
      ],
      "source": [
        "city_frame.rename(columns={\"name\":\"Nume\", \"country\":\"țară\", \"population\":\"populație\"},\n",
        "                 inplace=True)\n",
        "city_frame"
      ]
    },
    {
      "cell_type": "markdown",
      "metadata": {
        "id": "hruko6Nu1SZh"
      },
      "source": [
        "# Existing Column as the Index of a DataFrame\n",
        "We want to create a more useful index in the following example. We will use the country name as the index, i.e. the list value associated to the key \"country\" of our cities dictionary:"
      ]
    },
    {
      "cell_type": "code",
      "execution_count": null,
      "metadata": {
        "id": "r6uBrWDo1SZh",
        "outputId": "c82e7287-150b-4138-eab4-1394875572f9"
      },
      "outputs": [
        {
          "data": {
            "text/html": [
              "<div>\n",
              "<style scoped>\n",
              "    .dataframe tbody tr th:only-of-type {\n",
              "        vertical-align: middle;\n",
              "    }\n",
              "\n",
              "    .dataframe tbody tr th {\n",
              "        vertical-align: top;\n",
              "    }\n",
              "\n",
              "    .dataframe thead th {\n",
              "        text-align: right;\n",
              "    }\n",
              "</style>\n",
              "<table border=\"1\" class=\"dataframe\">\n",
              "  <thead>\n",
              "    <tr style=\"text-align: right;\">\n",
              "      <th></th>\n",
              "      <th>name</th>\n",
              "      <th>population</th>\n",
              "    </tr>\n",
              "  </thead>\n",
              "  <tbody>\n",
              "    <tr>\n",
              "      <th>England</th>\n",
              "      <td>London</td>\n",
              "      <td>8615246</td>\n",
              "    </tr>\n",
              "    <tr>\n",
              "      <th>Germany</th>\n",
              "      <td>Berlin</td>\n",
              "      <td>3562166</td>\n",
              "    </tr>\n",
              "    <tr>\n",
              "      <th>Spain</th>\n",
              "      <td>Madrid</td>\n",
              "      <td>3165235</td>\n",
              "    </tr>\n",
              "    <tr>\n",
              "      <th>Italy</th>\n",
              "      <td>Rome</td>\n",
              "      <td>2874038</td>\n",
              "    </tr>\n",
              "    <tr>\n",
              "      <th>France</th>\n",
              "      <td>Paris</td>\n",
              "      <td>2273305</td>\n",
              "    </tr>\n",
              "  </tbody>\n",
              "</table>\n",
              "</div>"
            ],
            "text/plain": [
              "           name  population\n",
              "England  London     8615246\n",
              "Germany  Berlin     3562166\n",
              "Spain    Madrid     3165235\n",
              "Italy      Rome     2874038\n",
              "France    Paris     2273305"
            ]
          },
          "execution_count": 9,
          "metadata": {},
          "output_type": "execute_result"
        }
      ],
      "source": [
        "city_frame = pd.DataFrame(cities,\n",
        "                          columns=[\"name\", \"population\"],\n",
        "                          index=cities[\"country\"])\n",
        "city_frame"
      ]
    },
    {
      "cell_type": "markdown",
      "metadata": {
        "id": "rDof02wj1SZi"
      },
      "source": [
        "# set_index\n",
        "#Alternatively, we can change an existing DataFrame. We can us the method set_index to turn a column into an index. \"set_index\" #does not work in-place, it returns a new data frame with the chosen column as the index:"
      ]
    },
    {
      "cell_type": "code",
      "execution_count": null,
      "metadata": {
        "id": "1ZBKiJ6y1SZj",
        "outputId": "7e96444c-e0f3-4f14-b419-56727b6375e4"
      },
      "outputs": [
        {
          "name": "stdout",
          "output_type": "stream",
          "text": [
            "           name  population\n",
            "country                    \n",
            "England  London     8615246\n",
            "Germany  Berlin     3562166\n",
            "Spain    Madrid     3165235\n",
            "Italy      Rome     2874038\n",
            "France    Paris     2273305\n"
          ]
        }
      ],
      "source": [
        "city_frame = pd.DataFrame(cities)\n",
        "city_frame2 = city_frame.set_index(\"country\")\n",
        "print(city_frame2)"
      ]
    },
    {
      "cell_type": "code",
      "execution_count": null,
      "metadata": {
        "scrolled": true,
        "id": "NBtlkiUT1SZk",
        "outputId": "b7c9f7f2-d5db-49dc-80f9-902ed2530ca5"
      },
      "outputs": [
        {
          "name": "stdout",
          "output_type": "stream",
          "text": [
            "           name  population\n",
            "country                    \n",
            "England  London     8615246\n",
            "Germany  Berlin     3562166\n",
            "Spain    Madrid     3165235\n",
            "Italy      Rome     2874038\n",
            "France    Paris     2273305\n"
          ]
        }
      ],
      "source": [
        "#We saw in the previous example that the set_index method returns a new DataFrame object and doesn't change the original DataFrame.\n",
        "#If we set the optional parameter \"inplace\" to True, the DataFrame will be changed in place, i.e. no new object will be created:\n",
        "\n",
        "city_frame = pd.DataFrame(cities)\n",
        "city_frame.set_index(\"country\", inplace=True)\n",
        "print(city_frame)"
      ]
    },
    {
      "cell_type": "markdown",
      "metadata": {
        "id": "PlbudwMV1SZn"
      },
      "source": [
        "# Label-Indexing on the Rows\n",
        "So far we have indexed DataFrames via the columns. \n",
        "We will demonstrate now, how we can access rows from DataFrames via the locators 'loc' and 'iloc'. \n",
        "\n",
        "iloc = 0 to n-1 ( pre-defined index )\n",
        "\n",
        "loc = a,b,c....o ( User-defined/user-given index)\n",
        "\n",
        "——-a). all elements MUST be unique\n",
        "\n",
        "——b). MUST be of the same length as the data"
      ]
    },
    {
      "cell_type": "code",
      "execution_count": null,
      "metadata": {
        "id": "nPcNmBd61SZo",
        "outputId": "cac5c4e9-4684-45d7-b440-89cd5d55e6e1"
      },
      "outputs": [
        {
          "name": "stdout",
          "output_type": "stream",
          "text": [
            "name           Berlin\n",
            "population    3562166\n",
            "Name: Germany, dtype: object\n"
          ]
        }
      ],
      "source": [
        "city_frame = pd.DataFrame(cities, \n",
        "                          columns=(\"name\", \"population\"), \n",
        "                          index=cities[\"country\"])\n",
        "print(city_frame.loc[\"Germany\"])"
      ]
    },
    {
      "cell_type": "code",
      "execution_count": null,
      "metadata": {
        "id": "eLLJtNSl1SZp",
        "outputId": "5f7e47e6-7385-4f77-812f-f5bb937a6f7c"
      },
      "outputs": [
        {
          "name": "stdout",
          "output_type": "stream",
          "text": [
            "           name  population\n",
            "Germany  Berlin     3562166\n",
            "France    Paris     2273305\n"
          ]
        }
      ],
      "source": [
        "print(city_frame.loc[[\"Germany\", \"France\"]])"
      ]
    },
    {
      "cell_type": "code",
      "execution_count": null,
      "metadata": {
        "id": "chzZyceg1SZq",
        "outputId": "450faddc-86cf-4df7-a41f-e0063a31dc10"
      },
      "outputs": [
        {
          "name": "stdout",
          "output_type": "stream",
          "text": [
            "           name  population\n",
            "England  London     8615246\n",
            "Germany  Berlin     3562166\n",
            "Spain    Madrid     3165235\n",
            "Italy      Rome     2874038\n",
            "France    Paris     2273305\n"
          ]
        }
      ],
      "source": [
        "print(city_frame.loc[city_frame.population>2000000])"
      ]
    },
    {
      "cell_type": "markdown",
      "metadata": {
        "id": "s1kZe5mN1SZr"
      },
      "source": [
        "# Sum and Cumulative Sum\n",
        "We can calculate the sum of all the columns of a DataFrame or the sum of certain columns:"
      ]
    },
    {
      "cell_type": "code",
      "execution_count": null,
      "metadata": {
        "id": "882Q_MRr1SZs",
        "outputId": "c838f2e4-eebe-4548-f55f-9bd8a46ce9ae"
      },
      "outputs": [
        {
          "name": "stdout",
          "output_type": "stream",
          "text": [
            "name          LondonBerlinMadridRomeParis\n",
            "population                       20489990\n",
            "dtype: object\n"
          ]
        }
      ],
      "source": [
        "print(city_frame.sum())"
      ]
    },
    {
      "cell_type": "code",
      "execution_count": null,
      "metadata": {
        "id": "WXjyGf8t1SZs",
        "outputId": "db1f7fbb-afe4-40c8-f785-2b92efaf367d"
      },
      "outputs": [
        {
          "data": {
            "text/plain": [
              "20489990"
            ]
          },
          "execution_count": 16,
          "metadata": {},
          "output_type": "execute_result"
        }
      ],
      "source": [
        "city_frame[\"population\"].sum()"
      ]
    },
    {
      "cell_type": "code",
      "execution_count": null,
      "metadata": {
        "id": "eT92cGw71SZt",
        "outputId": "d060159e-0f0d-465b-f438-bb5e4bb6ec67"
      },
      "outputs": [
        {
          "name": "stdout",
          "output_type": "stream",
          "text": [
            "England     8615246\n",
            "Germany    12177412\n",
            "Spain      15342647\n",
            "Italy      18216685\n",
            "France     20489990\n",
            "Name: population, dtype: int64\n"
          ]
        }
      ],
      "source": [
        "#We can use \"cumsum\" to calculate the cumulative sum:\n",
        "\n",
        "x = city_frame[\"population\"].cumsum()\n",
        "print(x)"
      ]
    },
    {
      "cell_type": "code",
      "execution_count": null,
      "metadata": {
        "id": "QJW0FVlZ1SZu",
        "outputId": "fca72c52-58cc-425b-b420-41b5d320de19"
      },
      "outputs": [
        {
          "name": "stdout",
          "output_type": "stream",
          "text": [
            "           name  population\n",
            "England  London     8615246\n",
            "Germany  Berlin    12177412\n",
            "Spain    Madrid    15342647\n",
            "Italy      Rome    18216685\n",
            "France    Paris    20489990\n"
          ]
        }
      ],
      "source": [
        "#Assigning New Values to Columns\n",
        "#x is a Pandas Series. We can reassign the previously calculated cumulative sums to the population column:\n",
        "\n",
        "city_frame[\"population\"] = x\n",
        "print(city_frame)\n",
        "    "
      ]
    },
    {
      "cell_type": "code",
      "execution_count": null,
      "metadata": {
        "id": "Bajw2-ao1SZu",
        "outputId": "b45992bb-4f1e-484d-c997-db175294935c"
      },
      "outputs": [
        {
          "data": {
            "text/html": [
              "<div>\n",
              "<style scoped>\n",
              "    .dataframe tbody tr th:only-of-type {\n",
              "        vertical-align: middle;\n",
              "    }\n",
              "\n",
              "    .dataframe tbody tr th {\n",
              "        vertical-align: top;\n",
              "    }\n",
              "\n",
              "    .dataframe thead th {\n",
              "        text-align: right;\n",
              "    }\n",
              "</style>\n",
              "<table border=\"1\" class=\"dataframe\">\n",
              "  <thead>\n",
              "    <tr style=\"text-align: right;\">\n",
              "      <th></th>\n",
              "      <th>country</th>\n",
              "      <th>population</th>\n",
              "      <th>cum_population</th>\n",
              "    </tr>\n",
              "  </thead>\n",
              "  <tbody>\n",
              "    <tr>\n",
              "      <th>London</th>\n",
              "      <td>England</td>\n",
              "      <td>8615246</td>\n",
              "      <td>NaN</td>\n",
              "    </tr>\n",
              "    <tr>\n",
              "      <th>Berlin</th>\n",
              "      <td>Germany</td>\n",
              "      <td>3562166</td>\n",
              "      <td>NaN</td>\n",
              "    </tr>\n",
              "    <tr>\n",
              "      <th>Madrid</th>\n",
              "      <td>Spain</td>\n",
              "      <td>3165235</td>\n",
              "      <td>NaN</td>\n",
              "    </tr>\n",
              "    <tr>\n",
              "      <th>Rome</th>\n",
              "      <td>Italy</td>\n",
              "      <td>2874038</td>\n",
              "      <td>NaN</td>\n",
              "    </tr>\n",
              "    <tr>\n",
              "      <th>Paris</th>\n",
              "      <td>France</td>\n",
              "      <td>2273305</td>\n",
              "      <td>NaN</td>\n",
              "    </tr>\n",
              "  </tbody>\n",
              "</table>\n",
              "</div>"
            ],
            "text/plain": [
              "        country  population cum_population\n",
              "London  England     8615246            NaN\n",
              "Berlin  Germany     3562166            NaN\n",
              "Madrid    Spain     3165235            NaN\n",
              "Rome      Italy     2874038            NaN\n",
              "Paris    France     2273305            NaN"
            ]
          },
          "execution_count": 19,
          "metadata": {},
          "output_type": "execute_result"
        }
      ],
      "source": [
        "#Instead of replacing the values of the population column with the cumulative sum, \n",
        "#we want to add the cumulative population sum as a new culumn with the name \"cum_population\".\n",
        "\n",
        "city_frame = pd.DataFrame(cities,\n",
        "                          columns=[\"country\", \n",
        "                                   \"population\",\n",
        "                                   \"cum_population\"],\n",
        "                          index=cities[\"name\"])\n",
        "city_frame"
      ]
    },
    {
      "cell_type": "code",
      "execution_count": null,
      "metadata": {
        "id": "GMyhyuQf1SZw",
        "outputId": "47ca5908-7884-4691-f363-83ee8e72c092"
      },
      "outputs": [
        {
          "data": {
            "text/html": [
              "<div>\n",
              "<style scoped>\n",
              "    .dataframe tbody tr th:only-of-type {\n",
              "        vertical-align: middle;\n",
              "    }\n",
              "\n",
              "    .dataframe tbody tr th {\n",
              "        vertical-align: top;\n",
              "    }\n",
              "\n",
              "    .dataframe thead th {\n",
              "        text-align: right;\n",
              "    }\n",
              "</style>\n",
              "<table border=\"1\" class=\"dataframe\">\n",
              "  <thead>\n",
              "    <tr style=\"text-align: right;\">\n",
              "      <th></th>\n",
              "      <th>country</th>\n",
              "      <th>population</th>\n",
              "      <th>cum_population</th>\n",
              "    </tr>\n",
              "  </thead>\n",
              "  <tbody>\n",
              "    <tr>\n",
              "      <th>London</th>\n",
              "      <td>England</td>\n",
              "      <td>8615246</td>\n",
              "      <td>8615246</td>\n",
              "    </tr>\n",
              "    <tr>\n",
              "      <th>Berlin</th>\n",
              "      <td>Germany</td>\n",
              "      <td>3562166</td>\n",
              "      <td>12177412</td>\n",
              "    </tr>\n",
              "    <tr>\n",
              "      <th>Madrid</th>\n",
              "      <td>Spain</td>\n",
              "      <td>3165235</td>\n",
              "      <td>15342647</td>\n",
              "    </tr>\n",
              "    <tr>\n",
              "      <th>Rome</th>\n",
              "      <td>Italy</td>\n",
              "      <td>2874038</td>\n",
              "      <td>18216685</td>\n",
              "    </tr>\n",
              "    <tr>\n",
              "      <th>Paris</th>\n",
              "      <td>France</td>\n",
              "      <td>2273305</td>\n",
              "      <td>20489990</td>\n",
              "    </tr>\n",
              "  </tbody>\n",
              "</table>\n",
              "</div>"
            ],
            "text/plain": [
              "        country  population  cum_population\n",
              "London  England     8615246         8615246\n",
              "Berlin  Germany     3562166        12177412\n",
              "Madrid    Spain     3165235        15342647\n",
              "Rome      Italy     2874038        18216685\n",
              "Paris    France     2273305        20489990"
            ]
          },
          "execution_count": 20,
          "metadata": {},
          "output_type": "execute_result"
        }
      ],
      "source": [
        "#We will assign now the cumulative sums to this column:\n",
        "\n",
        "city_frame[\"cum_population\"] = city_frame[\"population\"].cumsum()\n",
        "city_frame"
      ]
    },
    {
      "cell_type": "markdown",
      "metadata": {
        "id": "h-cg6sJz1SZx"
      },
      "source": [
        "# Accessing the Columns of a DataFrame\n",
        "There are two ways to access a column of a DataFrame. The result is in both cases a Series:\n",
        "\n"
      ]
    },
    {
      "cell_type": "code",
      "execution_count": null,
      "metadata": {
        "id": "wfpqvqgM1SZy",
        "outputId": "97b0930f-8740-4242-f7ed-50ee2ef96503"
      },
      "outputs": [
        {
          "name": "stdout",
          "output_type": "stream",
          "text": [
            "London       8615246\n",
            "Berlin       3562166\n",
            "Madrid       3165235\n",
            "Rome         2874038\n",
            "Paris        2273305\n",
            "Vienna       1805681\n",
            "Bucharest    1803425\n",
            "Hamburg      1760433\n",
            "Budapest     1754000\n",
            "Warsaw       1740119\n",
            "Barcelona    1602386\n",
            "Munich       1493900\n",
            "Milan        1350680\n",
            "Name: population, dtype: int64\n"
          ]
        }
      ],
      "source": [
        "print(city_frame[\"population\"])\n"
      ]
    },
    {
      "cell_type": "code",
      "execution_count": null,
      "metadata": {
        "id": "hbIwIhM-1SZz",
        "outputId": "e1086156-5a5e-43b1-a3f6-e5e2a8ba8cf7"
      },
      "outputs": [
        {
          "name": "stdout",
          "output_type": "stream",
          "text": [
            "London       8615246\n",
            "Berlin       3562166\n",
            "Madrid       3165235\n",
            "Rome         2874038\n",
            "Paris        2273305\n",
            "Vienna       1805681\n",
            "Bucharest    1803425\n",
            "Hamburg      1760433\n",
            "Budapest     1754000\n",
            "Warsaw       1740119\n",
            "Barcelona    1602386\n",
            "Munich       1493900\n",
            "Milan        1350680\n",
            "Name: population, dtype: int64\n"
          ]
        }
      ],
      "source": [
        "# It will give an Serise \n",
        "print(city_frame.population)"
      ]
    },
    {
      "cell_type": "code",
      "execution_count": null,
      "metadata": {
        "id": "7HBJRLU51SZz",
        "outputId": "28c0c8e5-051e-4f74-c8e4-2bf8a23cca7e"
      },
      "outputs": [
        {
          "name": "stdout",
          "output_type": "stream",
          "text": [
            "<class 'pandas.core.series.Series'>\n"
          ]
        }
      ],
      "source": [
        "print(type(city_frame.population))"
      ]
    },
    {
      "cell_type": "markdown",
      "metadata": {
        "id": "nY4DNA801SZ0"
      },
      "source": [
        "# Assigning New Values to a Column\n",
        "The column area is still not defined. We can set all elements of the column to the same value:\n",
        "\n"
      ]
    },
    {
      "cell_type": "code",
      "execution_count": null,
      "metadata": {
        "id": "yQbj3qTU1SZ1",
        "outputId": "1aed0384-45a2-4bbb-eabb-0e937a087afd"
      },
      "outputs": [
        {
          "name": "stdout",
          "output_type": "stream",
          "text": [
            "           country  population  cum_population  area\n",
            "London     England     8615246         8615246  1572\n",
            "Berlin     Germany     3562166        12177412  1572\n",
            "Madrid       Spain     3165235        15342647  1572\n",
            "Rome         Italy     2874038        18216685  1572\n",
            "Paris       France     2273305        20489990  1572\n",
            "Vienna     Austria     1805681        22295671  1572\n",
            "Bucharest  Romania     1803425        24099096  1572\n",
            "Hamburg    Germany     1760433        25859529  1572\n",
            "Budapest   Hungary     1754000        27613529  1572\n",
            "Warsaw      Poland     1740119        29353648  1572\n",
            "Barcelona    Spain     1602386        30956034  1572\n",
            "Munich     Germany     1493900        32449934  1572\n",
            "Milan        Italy     1350680        33800614  1572\n"
          ]
        }
      ],
      "source": [
        "city_frame[\"area\"] = 1572\n",
        "print(city_frame)"
      ]
    },
    {
      "cell_type": "markdown",
      "metadata": {
        "id": "uZCtzvkm1SZ2"
      },
      "source": [
        "# Sorting DataFrames\n",
        "Let's sort our DataFrame according to the city area:"
      ]
    },
    {
      "cell_type": "code",
      "execution_count": null,
      "metadata": {
        "id": "JPDA2NX51SZ2",
        "outputId": "0e3a847f-f08e-4f6a-c724-0812d443da7c"
      },
      "outputs": [
        {
          "name": "stdout",
          "output_type": "stream",
          "text": [
            "           country  population  cum_population  area\n",
            "London     England     8615246         8615246  1572\n",
            "Berlin     Germany     3562166        12177412  1572\n",
            "Madrid       Spain     3165235        15342647  1572\n",
            "Rome         Italy     2874038        18216685  1572\n",
            "Paris       France     2273305        20489990  1572\n",
            "Vienna     Austria     1805681        22295671  1572\n",
            "Bucharest  Romania     1803425        24099096  1572\n",
            "Hamburg    Germany     1760433        25859529  1572\n",
            "Budapest   Hungary     1754000        27613529  1572\n",
            "Warsaw      Poland     1740119        29353648  1572\n",
            "Barcelona    Spain     1602386        30956034  1572\n",
            "Munich     Germany     1493900        32449934  1572\n",
            "Milan        Italy     1350680        33800614  1572\n"
          ]
        }
      ],
      "source": [
        "city_frame = city_frame.sort_values(by=\"area\", ascending=False)\n",
        "print(city_frame)"
      ]
    },
    {
      "cell_type": "markdown",
      "metadata": {
        "id": "ApzYESbn1SZ4"
      },
      "source": [
        "# Inserting a column at a specific location using insert \n",
        "\n",
        "Parameter\tMeaning\n",
        "loc\t                int    This value should be within the range 0 <= loc <= len(columns)\n",
        "column\t            the column name\n",
        "value\t            can be a list, a Series an array or a scalar\n",
        "allow_duplicates\tIf allow_duplicates is False, an Exception will be raised, if column is already contained in the DataFrame.\n",
        "\n"
      ]
    },
    {
      "cell_type": "code",
      "execution_count": null,
      "metadata": {
        "id": "ieD0A6Dg1SZ5",
        "outputId": "eb48d4a7-7c83-4c13-f22d-657e71fbcb25"
      },
      "outputs": [
        {
          "data": {
            "text/html": [
              "<div>\n",
              "<style>\n",
              "    .dataframe thead tr:only-child th {\n",
              "        text-align: right;\n",
              "    }\n",
              "\n",
              "    .dataframe thead th {\n",
              "        text-align: left;\n",
              "    }\n",
              "\n",
              "    .dataframe tbody tr th {\n",
              "        vertical-align: top;\n",
              "    }\n",
              "</style>\n",
              "<table border=\"1\" class=\"dataframe\">\n",
              "  <thead>\n",
              "    <tr style=\"text-align: right;\">\n",
              "      <th></th>\n",
              "      <th>country</th>\n",
              "      <th>area</th>\n",
              "      <th>population</th>\n",
              "    </tr>\n",
              "  </thead>\n",
              "  <tbody>\n",
              "    <tr>\n",
              "      <th>London</th>\n",
              "      <td>England</td>\n",
              "      <td>1572.00</td>\n",
              "      <td>8615246</td>\n",
              "    </tr>\n",
              "    <tr>\n",
              "      <th>Berlin</th>\n",
              "      <td>Germany</td>\n",
              "      <td>891.85</td>\n",
              "      <td>3562166</td>\n",
              "    </tr>\n",
              "    <tr>\n",
              "      <th>Madrid</th>\n",
              "      <td>Spain</td>\n",
              "      <td>605.77</td>\n",
              "      <td>3165235</td>\n",
              "    </tr>\n",
              "    <tr>\n",
              "      <th>Rome</th>\n",
              "      <td>Italy</td>\n",
              "      <td>1285.00</td>\n",
              "      <td>2874038</td>\n",
              "    </tr>\n",
              "    <tr>\n",
              "      <th>Paris</th>\n",
              "      <td>France</td>\n",
              "      <td>105.40</td>\n",
              "      <td>2273305</td>\n",
              "    </tr>\n",
              "    <tr>\n",
              "      <th>Vienna</th>\n",
              "      <td>Austria</td>\n",
              "      <td>414.60</td>\n",
              "      <td>1805681</td>\n",
              "    </tr>\n",
              "    <tr>\n",
              "      <th>Bucharest</th>\n",
              "      <td>Romania</td>\n",
              "      <td>228.00</td>\n",
              "      <td>1803425</td>\n",
              "    </tr>\n",
              "    <tr>\n",
              "      <th>Hamburg</th>\n",
              "      <td>Germany</td>\n",
              "      <td>755.00</td>\n",
              "      <td>1760433</td>\n",
              "    </tr>\n",
              "    <tr>\n",
              "      <th>Budapest</th>\n",
              "      <td>Hungary</td>\n",
              "      <td>525.20</td>\n",
              "      <td>1754000</td>\n",
              "    </tr>\n",
              "    <tr>\n",
              "      <th>Warsaw</th>\n",
              "      <td>Poland</td>\n",
              "      <td>517.00</td>\n",
              "      <td>1740119</td>\n",
              "    </tr>\n",
              "    <tr>\n",
              "      <th>Barcelona</th>\n",
              "      <td>Spain</td>\n",
              "      <td>101.90</td>\n",
              "      <td>1602386</td>\n",
              "    </tr>\n",
              "    <tr>\n",
              "      <th>Munich</th>\n",
              "      <td>Germany</td>\n",
              "      <td>310.40</td>\n",
              "      <td>1493900</td>\n",
              "    </tr>\n",
              "    <tr>\n",
              "      <th>Milan</th>\n",
              "      <td>Italy</td>\n",
              "      <td>181.80</td>\n",
              "      <td>1350680</td>\n",
              "    </tr>\n",
              "  </tbody>\n",
              "</table>\n",
              "</div>"
            ],
            "text/plain": [
              "           country     area  population\n",
              "London     England  1572.00     8615246\n",
              "Berlin     Germany   891.85     3562166\n",
              "Madrid       Spain   605.77     3165235\n",
              "Rome         Italy  1285.00     2874038\n",
              "Paris       France   105.40     2273305\n",
              "Vienna     Austria   414.60     1805681\n",
              "Bucharest  Romania   228.00     1803425\n",
              "Hamburg    Germany   755.00     1760433\n",
              "Budapest   Hungary   525.20     1754000\n",
              "Warsaw      Poland   517.00     1740119\n",
              "Barcelona    Spain   101.90     1602386\n",
              "Munich     Germany   310.40     1493900\n",
              "Milan        Italy   181.80     1350680"
            ]
          },
          "execution_count": 45,
          "metadata": {},
          "output_type": "execute_result"
        }
      ],
      "source": [
        "#insert(self, loc, column, value, allow_duplicates=False)`\n",
        "city_frame = pd.DataFrame(cities,\n",
        "                          columns=[\"country\", \n",
        "                                   \"population\"],\n",
        "                          index=cities[\"name\"])\n",
        "area = [1572, 891.85, 605.77, 1285, \n",
        "        105.4, 414.6, 228, 755, \n",
        "        525.2, 517, 101.9, 310.4, \n",
        "        181.8]\n",
        "idx = 1\n",
        "city_frame.insert(loc=idx, column='area', value=area)\n",
        "city_frame"
      ]
    },
    {
      "cell_type": "markdown",
      "metadata": {
        "id": "pCaKgO_f1SZ6"
      },
      "source": [
        "# DataFrame from Nested Dictionaries\n",
        "A nested dictionary of dicts can be passed to a DataFrame as well. The indices of the outer dictionary are taken as the the columns and the inner keys. i.e. the keys of the nested dictionaries, are used as the row indices:"
      ]
    },
    {
      "cell_type": "code",
      "execution_count": null,
      "metadata": {
        "id": "pqSXVHT-1SZ7",
        "outputId": "e2cdeacc-0b96-4d87-be44-ebb8d78fc82d"
      },
      "outputs": [
        {
          "data": {
            "text/html": [
              "<div>\n",
              "<style>\n",
              "    .dataframe thead tr:only-child th {\n",
              "        text-align: right;\n",
              "    }\n",
              "\n",
              "    .dataframe thead th {\n",
              "        text-align: left;\n",
              "    }\n",
              "\n",
              "    .dataframe tbody tr th {\n",
              "        vertical-align: top;\n",
              "    }\n",
              "</style>\n",
              "<table border=\"1\" class=\"dataframe\">\n",
              "  <thead>\n",
              "    <tr style=\"text-align: right;\">\n",
              "      <th></th>\n",
              "      <th>France</th>\n",
              "      <th>Germany</th>\n",
              "      <th>Greece</th>\n",
              "      <th>Italy</th>\n",
              "      <th>Switzerland</th>\n",
              "    </tr>\n",
              "  </thead>\n",
              "  <tbody>\n",
              "    <tr>\n",
              "      <th>2010</th>\n",
              "      <td>2.0</td>\n",
              "      <td>4.1</td>\n",
              "      <td>-5.4</td>\n",
              "      <td>1.7</td>\n",
              "      <td>3.0</td>\n",
              "    </tr>\n",
              "    <tr>\n",
              "      <th>2011</th>\n",
              "      <td>2.1</td>\n",
              "      <td>3.6</td>\n",
              "      <td>-8.9</td>\n",
              "      <td>0.6</td>\n",
              "      <td>1.8</td>\n",
              "    </tr>\n",
              "    <tr>\n",
              "      <th>2012</th>\n",
              "      <td>0.3</td>\n",
              "      <td>0.4</td>\n",
              "      <td>-6.6</td>\n",
              "      <td>-2.3</td>\n",
              "      <td>1.1</td>\n",
              "    </tr>\n",
              "    <tr>\n",
              "      <th>2013</th>\n",
              "      <td>0.3</td>\n",
              "      <td>0.1</td>\n",
              "      <td>-3.3</td>\n",
              "      <td>-1.9</td>\n",
              "      <td>1.9</td>\n",
              "    </tr>\n",
              "  </tbody>\n",
              "</table>\n",
              "</div>"
            ],
            "text/plain": [
              "      France  Germany  Greece  Italy  Switzerland\n",
              "2010     2.0      4.1    -5.4    1.7          3.0\n",
              "2011     2.1      3.6    -8.9    0.6          1.8\n",
              "2012     0.3      0.4    -6.6   -2.3          1.1\n",
              "2013     0.3      0.1    -3.3   -1.9          1.9"
            ]
          },
          "execution_count": 46,
          "metadata": {},
          "output_type": "execute_result"
        }
      ],
      "source": [
        "growth = {\"Switzerland\": {\"2010\": 3.0, \"2011\": 1.8, \"2012\": 1.1, \"2013\": 1.9},\n",
        "          \"Germany\": {\"2010\": 4.1, \"2011\": 3.6, \"2012\":\t0.4, \"2013\": 0.1},\n",
        "          \"France\": {\"2010\":2.0,  \"2011\":2.1, \"2012\": 0.3, \"2013\": 0.3},\n",
        "          \"Greece\": {\"2010\":-5.4, \"2011\":-8.9, \"2012\":-6.6, \"2013\":\t-3.3},\n",
        "          \"Italy\": {\"2010\":1.7, \"2011\":\t0.6, \"2012\":-2.3, \"2013\":-1.9}\n",
        "          } \n",
        "growth_frame = pd.DataFrame(growth)\n",
        "growth_frame"
      ]
    },
    {
      "cell_type": "code",
      "execution_count": null,
      "metadata": {
        "id": "O8GyZIfI1SZ7",
        "outputId": "d2f1c6d5-beeb-4109-82c4-d4392f5ef68f"
      },
      "outputs": [
        {
          "data": {
            "text/html": [
              "<div>\n",
              "<style>\n",
              "    .dataframe thead tr:only-child th {\n",
              "        text-align: right;\n",
              "    }\n",
              "\n",
              "    .dataframe thead th {\n",
              "        text-align: left;\n",
              "    }\n",
              "\n",
              "    .dataframe tbody tr th {\n",
              "        vertical-align: top;\n",
              "    }\n",
              "</style>\n",
              "<table border=\"1\" class=\"dataframe\">\n",
              "  <thead>\n",
              "    <tr style=\"text-align: right;\">\n",
              "      <th></th>\n",
              "      <th>2010</th>\n",
              "      <th>2011</th>\n",
              "      <th>2012</th>\n",
              "      <th>2013</th>\n",
              "    </tr>\n",
              "  </thead>\n",
              "  <tbody>\n",
              "    <tr>\n",
              "      <th>France</th>\n",
              "      <td>2.0</td>\n",
              "      <td>2.1</td>\n",
              "      <td>0.3</td>\n",
              "      <td>0.3</td>\n",
              "    </tr>\n",
              "    <tr>\n",
              "      <th>Germany</th>\n",
              "      <td>4.1</td>\n",
              "      <td>3.6</td>\n",
              "      <td>0.4</td>\n",
              "      <td>0.1</td>\n",
              "    </tr>\n",
              "    <tr>\n",
              "      <th>Greece</th>\n",
              "      <td>-5.4</td>\n",
              "      <td>-8.9</td>\n",
              "      <td>-6.6</td>\n",
              "      <td>-3.3</td>\n",
              "    </tr>\n",
              "    <tr>\n",
              "      <th>Italy</th>\n",
              "      <td>1.7</td>\n",
              "      <td>0.6</td>\n",
              "      <td>-2.3</td>\n",
              "      <td>-1.9</td>\n",
              "    </tr>\n",
              "    <tr>\n",
              "      <th>Switzerland</th>\n",
              "      <td>3.0</td>\n",
              "      <td>1.8</td>\n",
              "      <td>1.1</td>\n",
              "      <td>1.9</td>\n",
              "    </tr>\n",
              "  </tbody>\n",
              "</table>\n",
              "</div>"
            ],
            "text/plain": [
              "             2010  2011  2012  2013\n",
              "France        2.0   2.1   0.3   0.3\n",
              "Germany       4.1   3.6   0.4   0.1\n",
              "Greece       -5.4  -8.9  -6.6  -3.3\n",
              "Italy         1.7   0.6  -2.3  -1.9\n",
              "Switzerland   3.0   1.8   1.1   1.9"
            ]
          },
          "execution_count": 47,
          "metadata": {},
          "output_type": "execute_result"
        }
      ],
      "source": [
        "# we can have the transpose of this as \n",
        "growth_frame.T"
      ]
    },
    {
      "cell_type": "markdown",
      "metadata": {
        "id": "QOM8GNk31SZ8"
      },
      "source": [
        "# Reading and Writing Data\n",
        "Digits as File Input and Output\n",
        "\n",
        "All the powerful data structures like the Series and the DataFrames would avail to nothing, if the Pandas module wouldn't provide powerful functionalities for reading in and writing out data. It is not only a matter of having a functions for interacting with files. To be useful to data scientists it also needs functions which support the most important data formats like\n",
        "\n",
        "Delimiter-separated files, like e.g. csv\n",
        "Microsoft Excel files\n",
        "HTML\n",
        "XML\n",
        "JSON"
      ]
    },
    {
      "cell_type": "code",
      "execution_count": null,
      "metadata": {
        "id": "MSjwLoAx1SZ8",
        "outputId": "4388c8e9-2f5c-4949-827b-bdb6f29cc170"
      },
      "outputs": [
        {
          "ename": "FileNotFoundError",
          "evalue": "File b'C:\\\\Users\\\\PC\\\\Desktop\\\\dollar_euro.txt' does not exist",
          "output_type": "error",
          "traceback": [
            "\u001b[1;31m---------------------------------------------------------------------------\u001b[0m",
            "\u001b[1;31mFileNotFoundError\u001b[0m                         Traceback (most recent call last)",
            "\u001b[1;32m<ipython-input-48-4e3cba8223ba>\u001b[0m in \u001b[0;36m<module>\u001b[1;34m()\u001b[0m\n\u001b[0;32m      1\u001b[0m \u001b[1;32mimport\u001b[0m \u001b[0mpandas\u001b[0m \u001b[1;32mas\u001b[0m \u001b[0mpd\u001b[0m\u001b[1;33m\u001b[0m\u001b[0m\n\u001b[0;32m      2\u001b[0m exchange_rates = pd.read_csv(\"C:\\\\Users\\PC\\Desktop\\dollar_euro.txt\",\n\u001b[1;32m----> 3\u001b[1;33m                              sep=\"\\t\")\n\u001b[0m\u001b[0;32m      4\u001b[0m \u001b[0mprint\u001b[0m\u001b[1;33m(\u001b[0m\u001b[0mexchange_rates\u001b[0m\u001b[1;33m)\u001b[0m\u001b[1;33m\u001b[0m\u001b[0m\n",
            "\u001b[1;32mC:\\ProgramData\\Anaconda3\\lib\\site-packages\\pandas\\io\\parsers.py\u001b[0m in \u001b[0;36mparser_f\u001b[1;34m(filepath_or_buffer, sep, delimiter, header, names, index_col, usecols, squeeze, prefix, mangle_dupe_cols, dtype, engine, converters, true_values, false_values, skipinitialspace, skiprows, nrows, na_values, keep_default_na, na_filter, verbose, skip_blank_lines, parse_dates, infer_datetime_format, keep_date_col, date_parser, dayfirst, iterator, chunksize, compression, thousands, decimal, lineterminator, quotechar, quoting, escapechar, comment, encoding, dialect, tupleize_cols, error_bad_lines, warn_bad_lines, skipfooter, skip_footer, doublequote, delim_whitespace, as_recarray, compact_ints, use_unsigned, low_memory, buffer_lines, memory_map, float_precision)\u001b[0m\n\u001b[0;32m    653\u001b[0m                     skip_blank_lines=skip_blank_lines)\n\u001b[0;32m    654\u001b[0m \u001b[1;33m\u001b[0m\u001b[0m\n\u001b[1;32m--> 655\u001b[1;33m         \u001b[1;32mreturn\u001b[0m \u001b[0m_read\u001b[0m\u001b[1;33m(\u001b[0m\u001b[0mfilepath_or_buffer\u001b[0m\u001b[1;33m,\u001b[0m \u001b[0mkwds\u001b[0m\u001b[1;33m)\u001b[0m\u001b[1;33m\u001b[0m\u001b[0m\n\u001b[0m\u001b[0;32m    656\u001b[0m \u001b[1;33m\u001b[0m\u001b[0m\n\u001b[0;32m    657\u001b[0m     \u001b[0mparser_f\u001b[0m\u001b[1;33m.\u001b[0m\u001b[0m__name__\u001b[0m \u001b[1;33m=\u001b[0m \u001b[0mname\u001b[0m\u001b[1;33m\u001b[0m\u001b[0m\n",
            "\u001b[1;32mC:\\ProgramData\\Anaconda3\\lib\\site-packages\\pandas\\io\\parsers.py\u001b[0m in \u001b[0;36m_read\u001b[1;34m(filepath_or_buffer, kwds)\u001b[0m\n\u001b[0;32m    403\u001b[0m \u001b[1;33m\u001b[0m\u001b[0m\n\u001b[0;32m    404\u001b[0m     \u001b[1;31m# Create the parser.\u001b[0m\u001b[1;33m\u001b[0m\u001b[1;33m\u001b[0m\u001b[0m\n\u001b[1;32m--> 405\u001b[1;33m     \u001b[0mparser\u001b[0m \u001b[1;33m=\u001b[0m \u001b[0mTextFileReader\u001b[0m\u001b[1;33m(\u001b[0m\u001b[0mfilepath_or_buffer\u001b[0m\u001b[1;33m,\u001b[0m \u001b[1;33m**\u001b[0m\u001b[0mkwds\u001b[0m\u001b[1;33m)\u001b[0m\u001b[1;33m\u001b[0m\u001b[0m\n\u001b[0m\u001b[0;32m    406\u001b[0m \u001b[1;33m\u001b[0m\u001b[0m\n\u001b[0;32m    407\u001b[0m     \u001b[1;32mif\u001b[0m \u001b[0mchunksize\u001b[0m \u001b[1;32mor\u001b[0m \u001b[0miterator\u001b[0m\u001b[1;33m:\u001b[0m\u001b[1;33m\u001b[0m\u001b[0m\n",
            "\u001b[1;32mC:\\ProgramData\\Anaconda3\\lib\\site-packages\\pandas\\io\\parsers.py\u001b[0m in \u001b[0;36m__init__\u001b[1;34m(self, f, engine, **kwds)\u001b[0m\n\u001b[0;32m    760\u001b[0m             \u001b[0mself\u001b[0m\u001b[1;33m.\u001b[0m\u001b[0moptions\u001b[0m\u001b[1;33m[\u001b[0m\u001b[1;34m'has_index_names'\u001b[0m\u001b[1;33m]\u001b[0m \u001b[1;33m=\u001b[0m \u001b[0mkwds\u001b[0m\u001b[1;33m[\u001b[0m\u001b[1;34m'has_index_names'\u001b[0m\u001b[1;33m]\u001b[0m\u001b[1;33m\u001b[0m\u001b[0m\n\u001b[0;32m    761\u001b[0m \u001b[1;33m\u001b[0m\u001b[0m\n\u001b[1;32m--> 762\u001b[1;33m         \u001b[0mself\u001b[0m\u001b[1;33m.\u001b[0m\u001b[0m_make_engine\u001b[0m\u001b[1;33m(\u001b[0m\u001b[0mself\u001b[0m\u001b[1;33m.\u001b[0m\u001b[0mengine\u001b[0m\u001b[1;33m)\u001b[0m\u001b[1;33m\u001b[0m\u001b[0m\n\u001b[0m\u001b[0;32m    763\u001b[0m \u001b[1;33m\u001b[0m\u001b[0m\n\u001b[0;32m    764\u001b[0m     \u001b[1;32mdef\u001b[0m \u001b[0mclose\u001b[0m\u001b[1;33m(\u001b[0m\u001b[0mself\u001b[0m\u001b[1;33m)\u001b[0m\u001b[1;33m:\u001b[0m\u001b[1;33m\u001b[0m\u001b[0m\n",
            "\u001b[1;32mC:\\ProgramData\\Anaconda3\\lib\\site-packages\\pandas\\io\\parsers.py\u001b[0m in \u001b[0;36m_make_engine\u001b[1;34m(self, engine)\u001b[0m\n\u001b[0;32m    964\u001b[0m     \u001b[1;32mdef\u001b[0m \u001b[0m_make_engine\u001b[0m\u001b[1;33m(\u001b[0m\u001b[0mself\u001b[0m\u001b[1;33m,\u001b[0m \u001b[0mengine\u001b[0m\u001b[1;33m=\u001b[0m\u001b[1;34m'c'\u001b[0m\u001b[1;33m)\u001b[0m\u001b[1;33m:\u001b[0m\u001b[1;33m\u001b[0m\u001b[0m\n\u001b[0;32m    965\u001b[0m         \u001b[1;32mif\u001b[0m \u001b[0mengine\u001b[0m \u001b[1;33m==\u001b[0m \u001b[1;34m'c'\u001b[0m\u001b[1;33m:\u001b[0m\u001b[1;33m\u001b[0m\u001b[0m\n\u001b[1;32m--> 966\u001b[1;33m             \u001b[0mself\u001b[0m\u001b[1;33m.\u001b[0m\u001b[0m_engine\u001b[0m \u001b[1;33m=\u001b[0m \u001b[0mCParserWrapper\u001b[0m\u001b[1;33m(\u001b[0m\u001b[0mself\u001b[0m\u001b[1;33m.\u001b[0m\u001b[0mf\u001b[0m\u001b[1;33m,\u001b[0m \u001b[1;33m**\u001b[0m\u001b[0mself\u001b[0m\u001b[1;33m.\u001b[0m\u001b[0moptions\u001b[0m\u001b[1;33m)\u001b[0m\u001b[1;33m\u001b[0m\u001b[0m\n\u001b[0m\u001b[0;32m    967\u001b[0m         \u001b[1;32melse\u001b[0m\u001b[1;33m:\u001b[0m\u001b[1;33m\u001b[0m\u001b[0m\n\u001b[0;32m    968\u001b[0m             \u001b[1;32mif\u001b[0m \u001b[0mengine\u001b[0m \u001b[1;33m==\u001b[0m \u001b[1;34m'python'\u001b[0m\u001b[1;33m:\u001b[0m\u001b[1;33m\u001b[0m\u001b[0m\n",
            "\u001b[1;32mC:\\ProgramData\\Anaconda3\\lib\\site-packages\\pandas\\io\\parsers.py\u001b[0m in \u001b[0;36m__init__\u001b[1;34m(self, src, **kwds)\u001b[0m\n\u001b[0;32m   1580\u001b[0m         \u001b[0mkwds\u001b[0m\u001b[1;33m[\u001b[0m\u001b[1;34m'allow_leading_cols'\u001b[0m\u001b[1;33m]\u001b[0m \u001b[1;33m=\u001b[0m \u001b[0mself\u001b[0m\u001b[1;33m.\u001b[0m\u001b[0mindex_col\u001b[0m \u001b[1;32mis\u001b[0m \u001b[1;32mnot\u001b[0m \u001b[1;32mFalse\u001b[0m\u001b[1;33m\u001b[0m\u001b[0m\n\u001b[0;32m   1581\u001b[0m \u001b[1;33m\u001b[0m\u001b[0m\n\u001b[1;32m-> 1582\u001b[1;33m         \u001b[0mself\u001b[0m\u001b[1;33m.\u001b[0m\u001b[0m_reader\u001b[0m \u001b[1;33m=\u001b[0m \u001b[0mparsers\u001b[0m\u001b[1;33m.\u001b[0m\u001b[0mTextReader\u001b[0m\u001b[1;33m(\u001b[0m\u001b[0msrc\u001b[0m\u001b[1;33m,\u001b[0m \u001b[1;33m**\u001b[0m\u001b[0mkwds\u001b[0m\u001b[1;33m)\u001b[0m\u001b[1;33m\u001b[0m\u001b[0m\n\u001b[0m\u001b[0;32m   1583\u001b[0m \u001b[1;33m\u001b[0m\u001b[0m\n\u001b[0;32m   1584\u001b[0m         \u001b[1;31m# XXX\u001b[0m\u001b[1;33m\u001b[0m\u001b[1;33m\u001b[0m\u001b[0m\n",
            "\u001b[1;32mpandas\\_libs\\parsers.pyx\u001b[0m in \u001b[0;36mpandas._libs.parsers.TextReader.__cinit__ (pandas\\_libs\\parsers.c:4209)\u001b[1;34m()\u001b[0m\n",
            "\u001b[1;32mpandas\\_libs\\parsers.pyx\u001b[0m in \u001b[0;36mpandas._libs.parsers.TextReader._setup_parser_source (pandas\\_libs\\parsers.c:8873)\u001b[1;34m()\u001b[0m\n",
            "\u001b[1;31mFileNotFoundError\u001b[0m: File b'C:\\\\Users\\\\PC\\\\Desktop\\\\dollar_euro.txt' does not exist"
          ]
        }
      ],
      "source": [
        "import pandas as pd\n",
        "exchange_rates = pd.read_csv(\"C:\\\\Users\\PC\\Desktop\\dollar_euro.txt\",\n",
        "                             sep=\"\\t\")\n",
        "print(exchange_rates)"
      ]
    },
    {
      "cell_type": "code",
      "execution_count": null,
      "metadata": {
        "collapsed": true,
        "id": "f50U9_ni1SZ9"
      },
      "outputs": [],
      "source": [
        "# we can specify a name for each of the column\n",
        "import pandas as pd\n",
        "exchange_rates = pd.read_csv(\"C:\\\\Users\\PC\\Desktop\\dollar_euro.txt\",\n",
        "                             sep=\"\\t\",\n",
        "                             header=0,\n",
        "                             names=[\"year\", \"min\", \"max\", \"days\"])\n",
        "print(exchange_rates)"
      ]
    },
    {
      "cell_type": "code",
      "execution_count": null,
      "metadata": {
        "collapsed": true,
        "id": "tka5TTCI1SZ-"
      },
      "outputs": [],
      "source": [
        ""
      ]
    }
  ],
  "metadata": {
    "kernelspec": {
      "display_name": "Python 3",
      "language": "python",
      "name": "python3"
    },
    "language_info": {
      "codemirror_mode": {
        "name": "ipython",
        "version": 3
      },
      "file_extension": ".py",
      "mimetype": "text/x-python",
      "name": "python",
      "nbconvert_exporter": "python",
      "pygments_lexer": "ipython3",
      "version": "3.6.1"
    },
    "colab": {
      "name": "WorkshopPandas Introduction.ipynb",
      "provenance": [],
      "include_colab_link": true
    }
  },
  "nbformat": 4,
  "nbformat_minor": 0
}