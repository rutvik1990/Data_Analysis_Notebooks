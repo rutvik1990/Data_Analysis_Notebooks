{
  "cells": [
    {
      "cell_type": "markdown",
      "metadata": {
        "id": "view-in-github",
        "colab_type": "text"
      },
      "source": [
        "<a href=\"https://colab.research.google.com/github/rutvik1990/Data_Analysis_Notebooks/blob/main/Numpy%20Notes/Numpy.ipynb\" target=\"_parent\"><img src=\"https://colab.research.google.com/assets/colab-badge.svg\" alt=\"Open In Colab\"/></a>"
      ]
    },
    {
      "cell_type": "markdown",
      "metadata": {
        "id": "SWlVEQWe0YWI"
      },
      "source": [
        "# NUMPY\n",
        "\n",
        "NumPy is module for Python. The name is an acronym for \"Numeric Python\" or \"Numerical Python\".\n",
        "NumPy enriches the programming language Python with powerful data structures, implementing multi-dimensional arrays and matrices. These data structures guarantee efficient calculations with matrices and arrays. The implementation is even aiming at huge matrices and arrays, better know under the heading of \"big data\". Besides that the module supplies a large library of high-level mathematical functions to operate on these matrices and arrays.\n",
        "\n",
        "NumPy is based on two earlier Python modules dealing with arrays. One of these is Numeric. Numeric is like NumPy a Python module for high-performance, numeric computing, but it is obsolete nowadays. Another predecessor of NumPy is Numarray, which is a complete rewrite of Numeric but is deprecated as well. NumPy is a merger of those two, i.e. it is build on the code of Numeric and the features of Numarray.\n",
        "\n",
        "Advantages of using Numpy with Python:\n",
        "\n",
        "array oriented computing\n",
        "efficiently implemented multi-dimensional arrays\n",
        "designed for scientific computation"
      ]
    },
    {
      "cell_type": "markdown",
      "metadata": {
        "id": "zTlQhgRb0YWP"
      },
      "source": [
        "1. Powerful \n",
        "2. Collection of values\n",
        "3. Hold diﬀerent types \n",
        "4. Change, add, remove \n",
        "5. Need for Data Science/ML\n",
        "6. Mathematical operations over collections \n",
        "7. Speed\n"
      ]
    },
    {
      "cell_type": "code",
      "execution_count": null,
      "metadata": {
        "id": "0t7JzzdU0YWX",
        "outputId": "6968a85e-ec04-4914-ed82-ea5fb27b34a8"
      },
      "outputs": [
        {
          "ename": "TypeError",
          "evalue": "unsupported operand type(s) for ** or pow(): 'list' and 'int'",
          "output_type": "error",
          "traceback": [
            "\u001b[1;31m---------------------------------------------------------------------------\u001b[0m",
            "\u001b[1;31mTypeError\u001b[0m                                 Traceback (most recent call last)",
            "\u001b[1;32m<ipython-input-1-3b47b3ec86f0>\u001b[0m in \u001b[0;36m<module>\u001b[1;34m()\u001b[0m\n\u001b[0;32m      1\u001b[0m \u001b[0mheight\u001b[0m \u001b[1;33m=\u001b[0m \u001b[1;33m[\u001b[0m\u001b[1;36m1.73\u001b[0m\u001b[1;33m,\u001b[0m \u001b[1;36m1.68\u001b[0m\u001b[1;33m,\u001b[0m \u001b[1;36m1.71\u001b[0m\u001b[1;33m,\u001b[0m \u001b[1;36m1.89\u001b[0m\u001b[1;33m,\u001b[0m \u001b[1;36m1.79\u001b[0m\u001b[1;33m]\u001b[0m\u001b[1;33m\u001b[0m\u001b[0m\n\u001b[0;32m      2\u001b[0m \u001b[0mweight\u001b[0m \u001b[1;33m=\u001b[0m \u001b[1;33m[\u001b[0m\u001b[1;36m65.4\u001b[0m\u001b[1;33m,\u001b[0m \u001b[1;36m59.2\u001b[0m\u001b[1;33m,\u001b[0m \u001b[1;36m63.6\u001b[0m\u001b[1;33m,\u001b[0m \u001b[1;36m88.4\u001b[0m\u001b[1;33m,\u001b[0m \u001b[1;36m68.7\u001b[0m\u001b[1;33m]\u001b[0m\u001b[1;33m\u001b[0m\u001b[0m\n\u001b[1;32m----> 3\u001b[1;33m \u001b[0mbmi\u001b[0m \u001b[1;33m=\u001b[0m \u001b[0mweight\u001b[0m \u001b[1;33m/\u001b[0m \u001b[0mheight\u001b[0m \u001b[1;33m**\u001b[0m \u001b[1;36m2\u001b[0m\u001b[1;33m\u001b[0m\u001b[0m\n\u001b[0m\u001b[0;32m      4\u001b[0m \u001b[0mprint\u001b[0m\u001b[1;33m(\u001b[0m\u001b[0mbmi\u001b[0m\u001b[1;33m)\u001b[0m\u001b[1;33m\u001b[0m\u001b[0m\n",
            "\u001b[1;31mTypeError\u001b[0m: unsupported operand type(s) for ** or pow(): 'list' and 'int'"
          ]
        }
      ],
      "source": [
        "height = [1.73, 1.68, 1.71, 1.89, 1.79]\n",
        "weight = [65.4, 59.2, 63.6, 88.4, 68.7]\n",
        "bmi = weight / height ** 2\n",
        "print(bmi)\n"
      ]
    },
    {
      "cell_type": "code",
      "execution_count": null,
      "metadata": {
        "id": "qtKIvfNL0YWd",
        "outputId": "ae0c5f5c-c0b3-4337-8544-d7e83aaac568"
      },
      "outputs": [
        {
          "name": "stdout",
          "output_type": "stream",
          "text": [
            "[1.73 1.68 1.71 1.89 1.79]\n",
            "[65.4 59.2 63.6 88.4 68.7]\n",
            "[21.85171573 20.97505669 21.75028214 24.7473475  21.44127836]\n"
          ]
        }
      ],
      "source": [
        "import numpy as np\n",
        "\n",
        "height = [1.73, 1.68, 1.71, 1.89, 1.79]\n",
        "np_height = np.array(height) \n",
        "print(np_height)\n",
        "weight = [65.4, 59.2, 63.6, 88.4, 68.7]\n",
        "np_weight = np.array(weight)\n",
        "print(np_weight)\n",
        "bmi = np_weight / np_height ** 2\n",
        "print(bmi)"
      ]
    },
    {
      "cell_type": "code",
      "execution_count": null,
      "metadata": {
        "id": "110bEcLB0YWh",
        "outputId": "490b4759-70df-43ba-b12b-8eb8c407c8cd"
      },
      "outputs": [
        {
          "name": "stdout",
          "output_type": "stream",
          "text": [
            "[21.1 22.8 23.9 22.5 22.7 22.3 23.8 24.2 20.9 24.1]\n"
          ]
        }
      ],
      "source": [
        "import numpy as np\n",
        "Tvalues = [21.1, 22.8, 23.9, 22.5, 22.7, 22.3, 23.8, 24.2, 20.9, 24.1]\n",
        "# change it into array using array nparray function\n",
        "C = np.array(Tvalues)\n",
        "print(C)\n"
      ]
    },
    {
      "cell_type": "code",
      "execution_count": null,
      "metadata": {
        "id": "jPzFZDnW0YWi",
        "outputId": "ff335054-fd80-4082-b42b-ba35caa84840"
      },
      "outputs": [
        {
          "name": "stdout",
          "output_type": "stream",
          "text": [
            "[69.98 73.04 75.02 72.5  72.86 72.14 74.84 75.56 69.62 75.38]\n"
          ]
        },
        {
          "data": {
            "text/plain": [
              "numpy.ndarray"
            ]
          },
          "execution_count": 4,
          "metadata": {},
          "output_type": "execute_result"
        }
      ],
      "source": [
        "#convert These Values in Fahrenheit\n",
        "print(C * 9 / 5 + 32)\n",
        "# c is basicaly a ndArray here\n",
        "type(C)"
      ]
    },
    {
      "cell_type": "code",
      "execution_count": null,
      "metadata": {
        "id": "1XXvakEb0YWk",
        "outputId": "a0e7051f-a413-4653-d743-e3c3d3e9d778"
      },
      "outputs": [
        {
          "name": "stdout",
          "output_type": "stream",
          "text": [
            "[69.98, 73.04, 75.02, 72.5, 72.86, 72.14, 74.84, 75.56, 69.62, 75.38]\n"
          ]
        }
      ],
      "source": [
        "# In core Python Same Equation is look like as follows\n",
        "\n",
        "fvalues = [ x*9/5 + 32 for x in Tvalues] \n",
        "print(fvalues)"
      ]
    },
    {
      "cell_type": "code",
      "execution_count": null,
      "metadata": {
        "id": "28l0jg3W0YWl",
        "outputId": "330b0b02-5439-4a64-c193-d903024ccb08"
      },
      "outputs": [
        {
          "data": {
            "image/png": "[encoded data removed]",
            "text/plain": [
              "<Figure size 432x288 with 1 Axes>"
            ]
          },
          "metadata": {},
          "output_type": "display_data"
        }
      ],
      "source": [
        "%matplotlib inline\n",
        "import numpy as np\n",
        "import matplotlib.pyplot as plt\n",
        "C=np.array([69.98, 73.04, 75.02, 72.5, 72.86, 72.14, 74.84, 75.56, 69.62, 75.38])\n",
        "plt.plot(C)\n",
        "plt.show()"
      ]
    },
    {
      "cell_type": "markdown",
      "metadata": {
        "id": "pjyNnYGB0YWm"
      },
      "source": [
        "# Arrays in NumPy\n",
        "\n",
        "The NumPy array is, in general, homogeneous (there is a particular record array type that is heterogeneous)—the items in the array have to be of the same type. The advantage is that if we know that the items in an array are of the same type, it is easy to ascertain the storage size needed for the array. NumPy arrays can execute vectorized operations, processing a complete array, in contrast to Python lists, where you usually have to loop through the list and execute the operation on each element\n"
      ]
    },
    {
      "cell_type": "code",
      "execution_count": null,
      "metadata": {
        "id": "K9oy7niN0YWp",
        "outputId": "b1fe4b61-641a-48ca-bcfe-1b4b8dcd05c1"
      },
      "outputs": [
        {
          "name": "stdout",
          "output_type": "stream",
          "text": [
            "[1 3 5 7 9]\n",
            "range(1, 10)\n",
            "[1, 2, 3, 4, 5, 6, 7, 8, 9]\n"
          ]
        }
      ],
      "source": [
        "#Creation of Arrays with Evenly Spaced Values with arrange \n",
        "#arange([start,] stop[, step], [, dtype=None])\n",
        "\n",
        "#arange returns evenly spaced values within a given interval. \n",
        "import numpy as np\n",
        "a = np.arange(1, 10,2)\n",
        "print(a)\n",
        "#range in core python\n",
        "x = range(1, 10)\n",
        "print(x)    # x is an iterator\n",
        "print(list(x))"
      ]
    },
    {
      "cell_type": "code",
      "execution_count": null,
      "metadata": {
        "id": "HP-J_1PJ0YWs",
        "outputId": "7e26ff85-68f1-405d-9157-7449127a4111"
      },
      "outputs": [
        {
          "ename": "TypeError",
          "evalue": "'float' object cannot be interpreted as an integer",
          "output_type": "error",
          "traceback": [
            "\u001b[1;31m---------------------------------------------------------------------------\u001b[0m",
            "\u001b[1;31mTypeError\u001b[0m                                 Traceback (most recent call last)",
            "\u001b[1;32m<ipython-input-8-726d0c66634a>\u001b[0m in \u001b[0;36m<module>\u001b[1;34m()\u001b[0m\n\u001b[1;32m----> 1\u001b[1;33m \u001b[0ma\u001b[0m \u001b[1;33m=\u001b[0m \u001b[0mrange\u001b[0m\u001b[1;33m(\u001b[0m\u001b[1;36m1\u001b[0m\u001b[1;33m,\u001b[0m\u001b[1;36m10\u001b[0m\u001b[1;33m,\u001b[0m\u001b[1;36m0.2\u001b[0m\u001b[1;33m)\u001b[0m\u001b[1;33m\u001b[0m\u001b[0m\n\u001b[0m\u001b[0;32m      2\u001b[0m \u001b[0mprint\u001b[0m\u001b[1;33m(\u001b[0m\u001b[0ma\u001b[0m\u001b[1;33m)\u001b[0m\u001b[1;33m\u001b[0m\u001b[0m\n",
            "\u001b[1;31mTypeError\u001b[0m: 'float' object cannot be interpreted as an integer"
          ]
        }
      ],
      "source": [
        "a = range(1,10,0.2)\n",
        "print(a)"
      ]
    },
    {
      "cell_type": "code",
      "execution_count": null,
      "metadata": {
        "id": "by6aDfgp0YWu",
        "outputId": "cc6d7af8-3258-41df-8c12-a2ffa7edc985"
      },
      "outputs": [
        {
          "name": "stdout",
          "output_type": "stream",
          "text": [
            "[ 0.  1.  2.  3.  4.  5.  6.  7.  8.  9. 10.]\n",
            "[ 0.5  1.3  2.1  2.9  3.7  4.5  5.3  6.1  6.9  7.7  8.5  9.3 10.1]\n",
            "[0 1 2 3 4 5 6 7 8 9]\n"
          ]
        }
      ],
      "source": [
        "# further arange examples:\n",
        "x = np.arange(10.4)\n",
        "print(x)\n",
        "x = np.arange(0.5, 10.4, 0.8)\n",
        "print(x)\n",
        "x = np.arange(0.5, 8.5, 0.8, int)#due to round of the size of Nd Array can change \n",
        "print(x)"
      ]
    },
    {
      "cell_type": "code",
      "execution_count": null,
      "metadata": {
        "id": "72ua4vTA0YWv",
        "outputId": "fef3abb2-2220-4dd1-d269-492207b13370"
      },
      "outputs": [
        {
          "name": "stdout",
          "output_type": "stream",
          "text": [
            "[10 12 14 16 18]\n"
          ]
        }
      ],
      "source": [
        "# start and stop parameters set \n",
        "import numpy as np \n",
        "x = np.arange(10,20,2) \n",
        "print (x)"
      ]
    },
    {
      "cell_type": "code",
      "execution_count": null,
      "metadata": {
        "id": "OIjfcmW30YWw",
        "outputId": "6d42a4a3-1462-47c2-9061-3b04cbff347c"
      },
      "outputs": [
        {
          "name": "stdout",
          "output_type": "stream",
          "text": [
            "[1 2 3 4 5 6 7 8 9]\n"
          ]
        },
        {
          "data": {
            "text/plain": [
              "(9,)"
            ]
          },
          "execution_count": 11,
          "metadata": {},
          "output_type": "execute_result"
        }
      ],
      "source": [
        "#shape method\n",
        "a = np.arange(1, 10)\n",
        "print(a)\n",
        "a.shape"
      ]
    },
    {
      "cell_type": "markdown",
      "metadata": {
        "id": "JfxKXgPo0YWx"
      },
      "source": [
        "# NdArrays\n",
        "#The most important object defined in NumPy is an N-dimensional array type called ndarray. \n",
        "#It describes the collection of items of the same type. \n",
        "#Items in the collection can be accessed using a zero-based index.\n",
        "\n",
        "#np.array method returns an NdArray "
      ]
    },
    {
      "cell_type": "code",
      "execution_count": null,
      "metadata": {
        "id": "4b1z9wW90YWy",
        "outputId": "f84e3e74-80a6-45ee-cdcc-a1a7312e6f92"
      },
      "outputs": [
        {
          "name": "stdout",
          "output_type": "stream",
          "text": [
            "[1 2 3]\n"
          ]
        }
      ],
      "source": [
        "import numpy as np \n",
        "a = np.array([1,2,3]) \n",
        "print( a)"
      ]
    },
    {
      "cell_type": "code",
      "execution_count": null,
      "metadata": {
        "id": "V5dk94zU0YWz",
        "outputId": "48c37533-fc87-41f2-e2e7-1079d74338e9"
      },
      "outputs": [
        {
          "name": "stdout",
          "output_type": "stream",
          "text": [
            "[[1 2]\n",
            " [3 4]]\n",
            "2\n",
            "(2, 2)\n"
          ]
        },
        {
          "data": {
            "text/plain": [
              "4"
            ]
          },
          "execution_count": 13,
          "metadata": {},
          "output_type": "execute_result"
        }
      ],
      "source": [
        "# more than one dimensions \n",
        "import numpy as np \n",
        "a = np.array([[1, 2], [3, 4]])\n",
        "\n",
        "print (a)\n",
        "print(a.ndim)\n",
        "print(a.shape)\n",
        "a.size"
      ]
    },
    {
      "cell_type": "raw",
      "metadata": {
        "id": "k9MF4vpQ0YW0"
      },
      "source": [
        "# linspace\n",
        "returns an ndarray, consisting of 'num' equally spaced samples in the closed interval [start, stop] or the half-open interval [start, stop). If a closed or a half-open interval will be returned, depends on whether 'endpoint' is True or False. The parameter 'start' defines the start value of the sequence which will be created. 'stop' will the end value of the sequence, unless 'endpoint' is set to False. In the latter case, the resulting sequence will consist of all but the last of 'num + 1' evenly spaced samples. This means that 'stop' is excluded. Note that the step size changes when 'endpoint' is False. The number of samples to be generated can be set with 'num', which defaults to 50. If the optional parameter 'endpoint' is set to True (the default), 'stop' will be the last sample of the sequence. Otherwise, it is not included."
      ]
    },
    {
      "cell_type": "code",
      "execution_count": null,
      "metadata": {
        "id": "_Tx9W_pX0YW1",
        "outputId": "553dd976-b466-4611-c7f2-673d47497054"
      },
      "outputs": [
        {
          "data": {
            "text/plain": [
              "array([ 0.,  5., 10., 15., 20.])"
            ]
          },
          "execution_count": 14,
          "metadata": {},
          "output_type": "execute_result"
        }
      ],
      "source": [
        "np.linspace(start = 0, stop = 25, num = 5 ,endpoint = False)"
      ]
    },
    {
      "cell_type": "code",
      "execution_count": null,
      "metadata": {
        "id": "NjtY1YVt0YW3",
        "outputId": "9b0f1589-3d5d-457f-8ce1-9ecd380a3b2e"
      },
      "outputs": [
        {
          "data": {
            "text/plain": [
              "array([  0.,  10.,  20.,  30.,  40.,  50.,  60.,  70.,  80.,  90., 100.])"
            ]
          },
          "execution_count": 15,
          "metadata": {},
          "output_type": "execute_result"
        }
      ],
      "source": [
        "#CREATE INTERVAL BETWEEN 0 AND 100, IN BREAKS OF 10\n",
        "#A very similar example is creating a range of values from 0 to 100, in breaks of 10.\n",
        "\n",
        "np.linspace(start = 0, stop = 100, num = 11)"
      ]
    },
    {
      "cell_type": "code",
      "execution_count": null,
      "metadata": {
        "id": "eKv6Ykmw0YW3",
        "outputId": "83f57a00-0ea7-4fe8-a073-0185c1ae847b"
      },
      "outputs": [
        {
          "name": "stdout",
          "output_type": "stream",
          "text": [
            "[10.  12.5 15.  17.5 20. ]\n"
          ]
        }
      ],
      "source": [
        "import numpy as np \n",
        "x = np.linspace(10,20,5) \n",
        "print(x)\n"
      ]
    },
    {
      "cell_type": "code",
      "execution_count": null,
      "metadata": {
        "id": "ucIqYrP40YW4",
        "outputId": "16d5ed23-3bb7-475a-be1b-4aeda0243c40"
      },
      "outputs": [
        {
          "name": "stdout",
          "output_type": "stream",
          "text": [
            "[10. 12. 14. 16. 18.]\n"
          ]
        }
      ],
      "source": [
        "# endpoint set to false \n",
        "import numpy as np \n",
        "x = np.linspace(10,20, 5, endpoint = False) \n",
        "print (x)"
      ]
    },
    {
      "cell_type": "code",
      "execution_count": null,
      "metadata": {
        "id": "ZX5nz7JJ0YW6",
        "outputId": "6f11b5ae-9a19-4fb2-fb6c-9077d4ea846d"
      },
      "outputs": [
        {
          "name": "stdout",
          "output_type": "stream",
          "text": [
            "(array([1.  , 1.25, 1.5 , 1.75, 2.  ]), 0.25)\n"
          ]
        }
      ],
      "source": [
        "#If the optional parameter 'retstep' is set, the function will also return the value of the spacing \n",
        "#between adjacent values.\n",
        "#So, the function will return a tuple ('samples', 'step'):\n",
        "\n",
        "# find retstep value \n",
        "import numpy as np \n",
        "\n",
        "x = np.linspace(1,2,5, retstep = True) \n",
        "print( x )\n",
        "# retstep here is 0.25"
      ]
    },
    {
      "cell_type": "code",
      "execution_count": null,
      "metadata": {
        "id": "Qf15c1C50YW7",
        "outputId": "03cd186b-3d2d-4a8d-e2a5-7d7b7a0681b0"
      },
      "outputs": [
        {
          "name": "stdout",
          "output_type": "stream",
          "text": [
            "[[0 1]\n",
            " [0 1]]\n"
          ]
        }
      ],
      "source": [
        "import sys\n",
        "a=np.array([np.arange(2), np.arange(2)])\n",
        "print(a)"
      ]
    },
    {
      "cell_type": "code",
      "execution_count": null,
      "metadata": {
        "id": "f6okOPPw0YW8",
        "outputId": "aaafa787-71a1-43ef-a748-ee1879dce9f7"
      },
      "outputs": [
        {
          "name": "stdout",
          "output_type": "stream",
          "text": [
            "x:  42\n",
            "The type of x:  <class 'numpy.ndarray'>\n",
            "The dimension of x: 0\n"
          ]
        }
      ],
      "source": [
        "#Zero dimension Array\n",
        "#It is possible to create multidimensional arrays in numpy. Scalars(Single value) are zero \n",
        "#dimensional.\n",
        "import numpy as np\n",
        "x = np.array(42)\n",
        "print(\"x: \", x)\n",
        "print(\"The type of x: \", type(x))\n",
        "print(\"The dimension of x:\", np.ndim(x))"
      ]
    },
    {
      "cell_type": "code",
      "execution_count": null,
      "metadata": {
        "id": "JMORLWiL0YW9",
        "outputId": "f2de3028-7e5c-4c77-bb47-545f71d07b8b"
      },
      "outputs": [
        {
          "name": "stdout",
          "output_type": "stream",
          "text": [
            "F:  [ 1  1  2  3  5  8 13 21]\n",
            "V:  [ 3.4  6.9 99.8 12.8]\n",
            "Type of F:  int32\n",
            "Type of V:  float64\n",
            "Dimension of F:  1\n",
            "Dimension of V:  1\n"
          ]
        }
      ],
      "source": [
        "#Ndim and dtype with one d array\n",
        "\n",
        "F = np.array([1, 1, 2, 3, 5, 8, 13, 21])\n",
        "V = np.array([3.4, 6.9, 99.8, 12.8])\n",
        "print(\"F: \", F)\n",
        "print(\"V: \", V)\n",
        "print(\"Type of F: \", F.dtype)\n",
        "print(\"Type of V: \", V.dtype)\n",
        "print(\"Dimension of F: \", np.ndim(F))\n",
        "print(\"Dimension of V: \", np.ndim(V))"
      ]
    },
    {
      "cell_type": "markdown",
      "metadata": {
        "id": "W9i-eQju0YW-"
      },
      "source": [
        "#Multi-Dimensional Arrays\n",
        "Arrays of NumPy are not limited to one dimension. \n",
        "They are of arbitrary dimension. \n",
        "We create them by passing nested lists (or tuples) to the array method of numpy."
      ]
    },
    {
      "cell_type": "code",
      "execution_count": null,
      "metadata": {
        "id": "5yRstrje0YW-",
        "outputId": "78a459c6-4e43-4dda-f716-38f05777d3e0"
      },
      "outputs": [
        {
          "name": "stdout",
          "output_type": "stream",
          "text": [
            "[[ 3.4  8.7  9.9]\n",
            " [ 1.1 -7.8 -0.7]\n",
            " [ 4.1 12.3  4.8]]\n",
            "2\n"
          ]
        }
      ],
      "source": [
        "A = np.array([ [3.4, 8.7, 9.9], \n",
        "               [1.1, -7.8, -0.7],\n",
        "               [4.1, 12.3, 4.8]])\n",
        "print(A)\n",
        "print(A.ndim)#dimenssions"
      ]
    },
    {
      "cell_type": "code",
      "execution_count": null,
      "metadata": {
        "id": "Pt3MvNdl0YW_",
        "outputId": "0ac991a4-3f94-40a3-8c5f-7fa87eb9dedf"
      },
      "outputs": [
        {
          "name": "stdout",
          "output_type": "stream",
          "text": [
            "[[[111 112]\n",
            "  [121 122]]\n",
            "\n",
            " [[211 212]\n",
            "  [221 222]]\n",
            "\n",
            " [[311 312]\n",
            "  [321 322]]]\n",
            "3\n"
          ]
        }
      ],
      "source": [
        "B = np.array([ [[111, 112], [121, 122]],\n",
        "               [[211, 212], [221, 222]],\n",
        "               [[311, 312], [321, 322]] ])\n",
        "print(B)\n",
        "print(B.ndim)"
      ]
    },
    {
      "cell_type": "code",
      "execution_count": null,
      "metadata": {
        "id": "zj8nTROD0YW_",
        "outputId": "2694a6dd-5ba3-4148-d28c-b62b7e773818"
      },
      "outputs": [
        {
          "name": "stdout",
          "output_type": "stream",
          "text": [
            "(6, 3)\n"
          ]
        }
      ],
      "source": [
        "#Shape Function\n",
        "\n",
        "x = np.array([ [67, 63, 87],\n",
        "               [77, 69, 59],\n",
        "               [85, 87, 99],\n",
        "               [79, 72, 71],\n",
        "               [63, 89, 93],\n",
        "               [68, 92, 78]])\n",
        "print(np.shape(x))#return the shape"
      ]
    },
    {
      "cell_type": "code",
      "execution_count": null,
      "metadata": {
        "id": "VXqSQTzQ0YXA",
        "outputId": "3ceac0d9-39c8-41e9-c52d-e2745cd1791e"
      },
      "outputs": [
        {
          "name": "stdout",
          "output_type": "stream",
          "text": [
            "[[67 63 87 77 69 59]\n",
            " [85 87 99 79 72 71]\n",
            " [63 89 93 68 92 78]]\n"
          ]
        }
      ],
      "source": [
        "#\"shape\" can also be used to change the shape of an array.\n",
        "x.shape = (3, 6)\n",
        "print(x)"
      ]
    },
    {
      "cell_type": "code",
      "execution_count": null,
      "metadata": {
        "id": "7UT8gDwd0YXA",
        "outputId": "af74911f-472a-4d2c-b6ef-ae4231d3b045"
      },
      "outputs": [
        {
          "name": "stdout",
          "output_type": "stream",
          "text": [
            "()\n"
          ]
        }
      ],
      "source": [
        "#shape of scalar is empty\n",
        "x = np.array(11)\n",
        "print(np.shape(x))"
      ]
    },
    {
      "cell_type": "code",
      "execution_count": null,
      "metadata": {
        "id": "DoH7gZ9K0YXB",
        "outputId": "e195068e-5f69-4960-f11a-eb9a2ef71142"
      },
      "outputs": [
        {
          "name": "stdout",
          "output_type": "stream",
          "text": [
            "1\n",
            "21\n"
          ]
        }
      ],
      "source": [
        "#Indexing and Slicing\n",
        "\n",
        "F = np.array([1, 1, 2, 3, 5, 8, 13, 21])\n",
        "# print the first element of F\n",
        "print(F[0])\n",
        "# print the last element of F\n",
        "print(F[-1])"
      ]
    },
    {
      "cell_type": "code",
      "execution_count": null,
      "metadata": {
        "id": "Wd9JCncx0YXC",
        "outputId": "b34a1c5f-2bba-4b34-b1b3-af833973cb6a"
      },
      "outputs": [
        {
          "name": "stdout",
          "output_type": "stream",
          "text": [
            "1.1\n"
          ]
        }
      ],
      "source": [
        "A = np.array([ [3.4, 8.7, 9.9], \n",
        "               [1.1, -7.8, -0.7],\n",
        "               [4.1, 12.3, 4.8]])\n",
        "print(A[1][0])"
      ]
    },
    {
      "cell_type": "code",
      "execution_count": null,
      "metadata": {
        "id": "mhW6pLWN0YXD",
        "outputId": "c19f35c2-1a25-4807-b03b-3c04d8ef2383"
      },
      "outputs": [
        {
          "name": "stdout",
          "output_type": "stream",
          "text": [
            "[ 1.1 -7.8 -0.7]\n",
            "1.1\n"
          ]
        }
      ],
      "source": [
        "row = A[1]\n",
        "print(row)\n",
        "print(row[0])"
      ]
    },
    {
      "cell_type": "code",
      "execution_count": null,
      "metadata": {
        "id": "jsrwOFnx0YXD",
        "outputId": "9840a1ef-2adc-4eea-f8d8-92fe1ca13a4b"
      },
      "outputs": [
        {
          "name": "stdout",
          "output_type": "stream",
          "text": [
            "[2 3 4]\n",
            "[0 1 2 3]\n",
            "[6 7 8 9]\n",
            "[0 1 2 3 4 5 6 7 8 9]\n"
          ]
        }
      ],
      "source": [
        "#Slicing\n",
        "S = np.array([0, 1, 2, 3, 4, 5, 6, 7, 8, 9])\n",
        "print(S[2:5])\n",
        "print(S[:4])\n",
        "print(S[6:])\n",
        "print(S[:])"
      ]
    },
    {
      "cell_type": "code",
      "execution_count": null,
      "metadata": {
        "id": "WXsrQ2F30YXE",
        "outputId": "d0454a36-32e0-495c-808f-c3b10dba4ef1"
      },
      "outputs": [
        {
          "name": "stdout",
          "output_type": "stream",
          "text": [
            "[[13 14 15]\n",
            " [23 24 25]\n",
            " [33 34 35]]\n"
          ]
        }
      ],
      "source": [
        "A = np.array([\n",
        "[11, 12, 13, 14, 15],\n",
        "[21, 22, 23, 24, 25],\n",
        "[31, 32, 33, 34, 35],\n",
        "[41, 42, 43, 44, 45],\n",
        "[51, 52, 53, 54, 55]])\n",
        "print(A[:3, 2:])"
      ]
    },
    {
      "cell_type": "code",
      "execution_count": null,
      "metadata": {
        "id": "Z2TxXpMa0YXE",
        "outputId": "f7fc0dfb-36a1-4f0b-bbf5-89af08429108"
      },
      "outputs": [
        {
          "name": "stdout",
          "output_type": "stream",
          "text": [
            "[[41 42 43 44 45]\n",
            " [51 52 53 54 55]]\n"
          ]
        }
      ],
      "source": [
        "print(A[3:, :])#after row 3\n"
      ]
    },
    {
      "cell_type": "code",
      "execution_count": null,
      "metadata": {
        "collapsed": true,
        "id": "7KesQ92H0YXF"
      },
      "outputs": [],
      "source": [
        ""
      ]
    },
    {
      "cell_type": "markdown",
      "metadata": {
        "id": "gkzcgUtM0YXG"
      },
      "source": [
        "# Reading and Writing Data Files\n",
        "There are lots of ways for reading from file and writing to data files in numpy.\n",
        "Saving textfiles with savetxt\n",
        "In the following simple example, we define an array x and save it as a textfile with savetxt:"
      ]
    },
    {
      "cell_type": "code",
      "execution_count": null,
      "metadata": {
        "collapsed": true,
        "id": "Zg9uLLUr0YXH"
      },
      "outputs": [],
      "source": [
        "import numpy as np\n",
        "x = np.array([[1, 2, 3], \n",
        "              [4, 5, 6],\n",
        "              [7, 8, 9]], np.int32)\n",
        "np.savetxt(\"test.txt\", x)"
      ]
    },
    {
      "cell_type": "code",
      "execution_count": null,
      "metadata": {
        "collapsed": true,
        "id": "8qq5iYem0YXI"
      },
      "outputs": [],
      "source": [
        "#Loading Textfiles with loadtxt\n",
        "#We will read in now the file \"test.txt\""
      ]
    },
    {
      "cell_type": "code",
      "execution_count": null,
      "metadata": {
        "id": "Tb5kyPfu0YXJ",
        "outputId": "f5a40dba-f08c-431c-cd6d-78d0750de188"
      },
      "outputs": [
        {
          "name": "stdout",
          "output_type": "stream",
          "text": [
            "[[1. 2. 3.]\n",
            " [4. 5. 6.]\n",
            " [7. 8. 9.]]\n"
          ]
        }
      ],
      "source": [
        "y = np.loadtxt(\"test.txt\")\n",
        "print(y)"
      ]
    },
    {
      "cell_type": "markdown",
      "metadata": {
        "id": "ATaVgPtB0YXK"
      },
      "source": [
        "# Statistical Functions using Numpy"
      ]
    },
    {
      "cell_type": "code",
      "execution_count": null,
      "metadata": {
        "id": "dBJWAXYW0YXL",
        "outputId": "50887434-b04f-49dd-ad5e-edc9bf376772"
      },
      "outputs": [
        {
          "name": "stdout",
          "output_type": "stream",
          "text": [
            "Our array is:\n",
            "[[3 7 5]\n",
            " [8 4 3]\n",
            " [2 4 9]]\n",
            "\n",
            "\n",
            "Applying amin() function:\n",
            "[3 3 2]\n",
            "\n",
            "\n",
            "Applying amin() function again:\n",
            "[2 4 3]\n",
            "\n",
            "\n",
            "Applying amax() function:\n",
            "9\n",
            "\n",
            "\n",
            "Applying amax() function again:\n",
            "[8 7 9]\n"
          ]
        }
      ],
      "source": [
        "#Finding Minimum and Maximum axis wise here 1 is row wise and 0 is column wise\n",
        "\n",
        "import numpy as np \n",
        "a = np.array([[3,7,5],[8,4,3],[2,4,9]]) \n",
        "\n",
        "print ('Our array is:' )\n",
        "print( a)  \n",
        "print ('\\n')  \n",
        "\n",
        "print ('Applying amin() function:' )\n",
        "print (np.amin(a,1) )\n",
        "print ('\\n' ) \n",
        "\n",
        "print ('Applying amin() function again:' )\n",
        "print (np.amin(a,0) )\n",
        "print ('\\n')  \n",
        "\n",
        "print ('Applying amax() function:' )\n",
        "print (np.amax(a) )\n",
        "print ('\\n' ) \n",
        "\n",
        "print ('Applying amax() function again:' )\n",
        "print (np.amax(a, axis = 0))"
      ]
    },
    {
      "cell_type": "markdown",
      "metadata": {
        "id": "9vaee2DQ0YXM"
      },
      "source": [
        "# Median\n",
        "Median is defined as the value separating the higher half of a data sample from the lower half. The numpy.median() function is used as shown"
      ]
    },
    {
      "cell_type": "code",
      "execution_count": null,
      "metadata": {
        "id": "vglHi-YT0YXN",
        "outputId": "c4efd226-9875-44dc-a766-7035369b9781"
      },
      "outputs": [
        {
          "name": "stdout",
          "output_type": "stream",
          "text": [
            "Applying median() function:\n",
            "65.0\n",
            "\n",
            "\n",
            "Applying median() function along axis 0:\n",
            "[65. 80. 60.]\n"
          ]
        }
      ],
      "source": [
        "import numpy as np \n",
        "a = np.array([[30,65,70],[80,95,10],[50,90,60]]) \n",
        "\n",
        "print ('Applying median() function:' )\n",
        "print (np.median(a) )\n",
        "print ('\\n' ) \n",
        "\n",
        "print ('Applying median() function along axis 0:' )\n",
        "print (np.median(a, axis = 1) )"
      ]
    },
    {
      "cell_type": "markdown",
      "metadata": {
        "id": "d9cEhuvd0YXN"
      },
      "source": [
        "# numpy.mean()"
      ]
    },
    {
      "cell_type": "code",
      "execution_count": null,
      "metadata": {
        "id": "drLnVqtB0YXN",
        "outputId": "fcd4d3b5-39cb-4775-cd24-6461123a2bb7"
      },
      "outputs": [
        {
          "name": "stdout",
          "output_type": "stream",
          "text": [
            "Our array is:\n",
            "[[1 2 3]\n",
            " [3 4 5]\n",
            " [4 5 6]]\n",
            "\n",
            "\n",
            "Applying mean() function:\n",
            "3.6666666666666665\n",
            "\n",
            "\n",
            "Applying mean() function along axis 0:\n",
            "[2.66666667 3.66666667 4.66666667]\n",
            "\n",
            "\n"
          ]
        }
      ],
      "source": [
        "import numpy as np \n",
        "a = np.array([[1,2,3],[3,4,5],[4,5,6]]) \n",
        "\n",
        "print ('Our array is:' )\n",
        "print( a )\n",
        "print ('\\n' ) \n",
        "\n",
        "print ('Applying mean() function:' )\n",
        "print (np.mean(a) )\n",
        "print ('\\n' ) \n",
        "\n",
        "print ('Applying mean() function along axis 0:') \n",
        "print (np.mean(a, axis = 0) )\n",
        "print ('\\n')  "
      ]
    },
    {
      "cell_type": "code",
      "execution_count": null,
      "metadata": {
        "id": "7Pj_3Orz0YXP",
        "outputId": "3e6d0936-c20f-4437-a22f-0211052627eb"
      },
      "outputs": [
        {
          "name": "stdout",
          "output_type": "stream",
          "text": [
            "Our array is:\n",
            "[5 6 8 9]\n",
            "\n",
            "\n",
            "Applying average() function:\n",
            "7.0\n",
            "\n",
            "\n",
            "Applying average() function again:\n",
            "6.928571428571429\n"
          ]
        }
      ],
      "source": [
        "#Weighted average = (1*4+2*3+3*2+4*1)/(4+3+2+1)\n",
        "\n",
        "import numpy as np \n",
        "a = np.array([5,6,8,9]) \n",
        "\n",
        "print ('Our array is:') \n",
        "print (a) \n",
        "print ('\\n' ) \n",
        "\n",
        "print ('Applying average() function:' )\n",
        "print( np.average(a) )\n",
        "print ('\\n')  \n",
        "\n",
        "# this is same as mean when weight is not specified \n",
        "wts = np.array([10,12,11,9]) \n",
        "\n",
        "print ('Applying average() function again:' )\n",
        "print (np.average(a,weights = wts) )\n",
        "  \n"
      ]
    },
    {
      "cell_type": "markdown",
      "metadata": {
        "id": "aZxJRyOG0YXP"
      },
      "source": [
        "# Standard Deviation\n",
        "Standard deviation is the square root of the average of squared deviations from mean. The formula for standard deviation is as follows −\n",
        "std = sqrt(mean(abs(x - x.mean())**2\n",
        "a quantity expressing by how much the members of a group differ from the mean value for the group."
      ]
    },
    {
      "cell_type": "code",
      "execution_count": null,
      "metadata": {
        "id": "DLr8dAH00YXQ",
        "outputId": "2ea44ca2-68de-4b99-9688-ed43c296685c"
      },
      "outputs": [
        {
          "name": "stdout",
          "output_type": "stream",
          "text": [
            "1.118033988749895\n"
          ]
        }
      ],
      "source": [
        "import numpy as np \n",
        "print (np.std([1,2,3,4]))"
      ]
    },
    {
      "cell_type": "markdown",
      "metadata": {
        "id": "wApq_IWV0YXR"
      },
      "source": [
        "# Variance\n",
        "Variance is the average of squared deviations, i.e., mean(abs(x - x.mean())**2). In other words, the standard deviation is the square root of variance.\n",
        "the fact or quality of being different, divergent, or inconsistent."
      ]
    },
    {
      "cell_type": "code",
      "execution_count": null,
      "metadata": {
        "id": "C-JYuGkZ0YXR",
        "outputId": "a079e6d6-4144-49ab-a354-fde428174626"
      },
      "outputs": [
        {
          "name": "stdout",
          "output_type": "stream",
          "text": [
            "1.25\n"
          ]
        }
      ],
      "source": [
        "import numpy as np \n",
        "print( np.var([1,2,3,4]))"
      ]
    },
    {
      "cell_type": "markdown",
      "metadata": {
        "id": "1T6-agnV0YXS"
      },
      "source": [
        "# Matrix\n",
        "NumPy package contains a Matrix library numpy.matlib. This module has functions that return matrices instead of ndarray objects."
      ]
    },
    {
      "cell_type": "markdown",
      "metadata": {
        "id": "t97T8nbc0YXS"
      },
      "source": [
        "matlib.empty()\n",
        "The matlib.empty() function returns a new matrix without initializing the entries.\n"
      ]
    },
    {
      "cell_type": "code",
      "execution_count": null,
      "metadata": {
        "id": "W9JTz8Fs0YXT",
        "outputId": "66fa6cea-4f47-4824-9717-13ce5b5a7e9e"
      },
      "outputs": [
        {
          "name": "stdout",
          "output_type": "stream",
          "text": [
            "[[2.25 0.25]\n",
            " [0.25 2.25]]\n"
          ]
        }
      ],
      "source": [
        "import numpy.matlib \n",
        "import numpy as np \n",
        "\n",
        "print ((np.matlib.empty((2,2))) )\n",
        "# filled with random data|"
      ]
    },
    {
      "cell_type": "code",
      "execution_count": null,
      "metadata": {
        "id": "PwOUZ3az0YXT",
        "outputId": "a4510fb5-43b2-43cc-8736-820d6571c14c"
      },
      "outputs": [
        {
          "name": "stdout",
          "output_type": "stream",
          "text": [
            "[[0. 0.]\n",
            " [0. 0.]]\n"
          ]
        }
      ],
      "source": [
        "#numpy.matlib.zeros()\n",
        "#returns the matrix filled with zeros\n",
        "print (np.matlib.zeros((2,2)))"
      ]
    },
    {
      "cell_type": "code",
      "execution_count": null,
      "metadata": {
        "id": "nGVsbkfd0YXU",
        "outputId": "eda7ed0d-09ec-4a86-ca6e-3bcafe58e176"
      },
      "outputs": [
        {
          "name": "stdout",
          "output_type": "stream",
          "text": [
            "[[1. 1.]\n",
            " [1. 1.]]\n"
          ]
        }
      ],
      "source": [
        "#numpy.matlib.ones()\n",
        "print (np.matlib.ones((2,2)))"
      ]
    },
    {
      "cell_type": "markdown",
      "metadata": {
        "id": "qvH0mtRY0YXU"
      },
      "source": [
        "# numpy.matlib.eye()\n",
        "This function returns a matrix with 1 along the diagonal elements and the zeros elsewhere. The function takes the following parameters.\n",
        "\n",
        "numpy.matlib.eye(n, M,k, dtype)\n",
        "1\t\n",
        "n-The number of rows in the resulting matrix\n",
        "\n",
        "2\n",
        "M-The number of columns, defaults to n\n",
        "\n",
        "3\n",
        "k-Index of diagonal\n",
        "\n",
        "4\n",
        "dtype-Data type of the output"
      ]
    },
    {
      "cell_type": "code",
      "execution_count": null,
      "metadata": {
        "id": "ZSh77Gf70YXV",
        "outputId": "14f44995-f614-49ac-9408-9997ddb636c9"
      },
      "outputs": [
        {
          "name": "stdout",
          "output_type": "stream",
          "text": [
            "[[0 1 0]\n",
            " [0 0 1]\n",
            " [0 0 0]]\n"
          ]
        }
      ],
      "source": [
        "print( np.matlib.eye(n = 3, M = 3, k = 1, dtype = np.int32))"
      ]
    },
    {
      "cell_type": "markdown",
      "metadata": {
        "id": "F3kWH7uO0YXV"
      },
      "source": [
        "# numpy.matlib.identity()\n",
        "The numpy.matlib.identity() function returns the Identity matrix of the given size. An identity matrix is a square matrix with all diagonal elements as 1."
      ]
    },
    {
      "cell_type": "code",
      "execution_count": null,
      "metadata": {
        "id": "OngNDQg50YXW",
        "outputId": "f243eb55-e83a-41f5-97ff-ebf901e6fd33"
      },
      "outputs": [
        {
          "name": "stdout",
          "output_type": "stream",
          "text": [
            "[[1. 0. 0. 0. 0.]\n",
            " [0. 1. 0. 0. 0.]\n",
            " [0. 0. 1. 0. 0.]\n",
            " [0. 0. 0. 1. 0.]\n",
            " [0. 0. 0. 0. 1.]]\n"
          ]
        }
      ],
      "source": [
        "print (np.matlib.identity(5, dtype = float))"
      ]
    },
    {
      "cell_type": "code",
      "execution_count": null,
      "metadata": {
        "id": "AUAlbaXi0YXX",
        "outputId": "28160cbc-1ba8-4bfd-9626-a8e2f20e5f13"
      },
      "outputs": [
        {
          "name": "stdout",
          "output_type": "stream",
          "text": [
            "[[0.79855355 0.32021823 0.24457702]\n",
            " [0.11668471 0.81936904 0.24722359]\n",
            " [0.6887775  0.4493538  0.88135051]]\n"
          ]
        }
      ],
      "source": [
        "#numpy.matlib.rand()\n",
        "#The numpy.matlib.rand() function returns a matrix of the given size filled with random values.\n",
        "print (np.matlib.rand(3,3))"
      ]
    },
    {
      "cell_type": "markdown",
      "metadata": {
        "id": "kbayzfqn0YXX"
      },
      "source": [
        "# Numerical Operations on Numpy Arrays\n"
      ]
    },
    {
      "cell_type": "code",
      "execution_count": null,
      "metadata": {
        "collapsed": true,
        "id": "tw_M6NNm0YXY"
      },
      "outputs": [],
      "source": [
        "#Adding Scalars\n",
        "import numpy as np\n",
        "lst = [2,3, 7.9, 3.3, 6.9, 0.11, 10.3, 12.9]\n",
        "v = np.array(lst)\n",
        "v = v + 2\n",
        "print(v)\n",
        "print(v ** 2)\n",
        "print(v * 3)"
      ]
    },
    {
      "cell_type": "code",
      "execution_count": null,
      "metadata": {
        "collapsed": true,
        "id": "rvU0PEv-0YXY"
      },
      "outputs": [],
      "source": [
        "#Arithmetic Operations with two Arrays\n",
        "import numpy as np\n",
        "A = np.array([ [11, 12, 13], [21, 22, 23], [31, 32, 33] ])\n",
        "B = np.ones((3,3))\n",
        "print(\"Adding to arrays: \")\n",
        "print(A + B)\n",
        "print(\"\\nMultiplying two arrays: \")\n",
        "print(A * (B + 1))"
      ]
    },
    {
      "cell_type": "code",
      "execution_count": null,
      "metadata": {
        "collapsed": true,
        "id": "HbUA4MiN0YXZ"
      },
      "outputs": [],
      "source": [
        "#Matrix Multiplication:\n",
        "\n",
        "np.dot(A, B)"
      ]
    },
    {
      "cell_type": "markdown",
      "metadata": {
        "id": "ykhJCDA90YXZ"
      },
      "source": [
        "# Concatenating, Flattening and Adding Dimensions"
      ]
    },
    {
      "cell_type": "markdown",
      "metadata": {
        "id": "C5Ax0B390YXa"
      },
      "source": [
        "# flatten\n",
        "flatten is a ndarry method with an optional keyword parameter \"order\". order can have the values \"C\", \"F\" and \"A\". The default of order is \"C\". \"C\" means to flatten C style in row-major ordering, i.e. the rightmost index \"changes the fastest\" or in other words: In row-major order, the row index varies the slowest, and the column index the quickest, so that a[0,1] follows [0,0]. \n",
        "\"F\" stands for Fortran column-major ordering. \"A\" means preserve the the C/Fortran ordering."
      ]
    },
    {
      "cell_type": "code",
      "execution_count": null,
      "metadata": {
        "collapsed": true,
        "id": "nPWfY0iI0YXb"
      },
      "outputs": [],
      "source": [
        "import numpy as np\n",
        "A = np.array([[[ 0,  1],\n",
        "               [ 2,  3],\n",
        "               [ 4,  5],\n",
        "               [ 6,  7]],\n",
        "              [[ 8,  9],\n",
        "               [10, 11],\n",
        "               [12, 13],\n",
        "               [14, 15]],\n",
        "              [[16, 17],\n",
        "               [18, 19],\n",
        "               [20, 21],\n",
        "               [22, 23]]])\n",
        "Flattened_X = A.flatten()\n",
        "print(Flattened_X)\n",
        "print(A.flatten(order=\"C\"))\n",
        "print(A.flatten(order=\"F\"))\n"
      ]
    },
    {
      "cell_type": "markdown",
      "metadata": {
        "id": "rSC-zenY0YXc"
      },
      "source": [
        "# reshape"
      ]
    },
    {
      "cell_type": "code",
      "execution_count": null,
      "metadata": {
        "collapsed": true,
        "id": "z3G41Sml0YXd"
      },
      "outputs": [],
      "source": [
        "#reshape\n",
        "X = np.array(range(24))\n",
        "Y = X.reshape(())\n",
        "Y"
      ]
    },
    {
      "cell_type": "code",
      "execution_count": null,
      "metadata": {
        "collapsed": true,
        "id": "r49snGR40YXe"
      },
      "outputs": [],
      "source": [
        "# Data Analysis for Wine data using numpy \n",
        "\n",
        "import csv\n",
        "with open(r'C:\\Users\\Rutvik Mehta\\ML_Workshop\\winequality-red.csv', 'r') as f:\n",
        "    wines = list(csv.reader(f, delimiter=';'))\n",
        "print(wines[:3])"
      ]
    },
    {
      "cell_type": "code",
      "execution_count": null,
      "metadata": {
        "collapsed": true,
        "id": "rG7fxG5N0YXf"
      },
      "outputs": [],
      "source": [
        "#Extract the last element from each row after the header row.\n",
        "#Convert each extracted element to a float.\n",
        "#Assign all the extracted elements to the list qualities.\n",
        "#Divide the sum of all the elements in qualities by the total number of elements in qualities to the get the mean.\n",
        "\n",
        "qualities = [float(item[-1]) for item in wines[1:]]\n",
        "\n",
        "sum(qualities) / len(qualities)#Provides Mean Value"
      ]
    },
    {
      "cell_type": "code",
      "execution_count": null,
      "metadata": {
        "collapsed": true,
        "id": "N4eg4ZMp0YXf"
      },
      "outputs": [],
      "source": [
        "# Creating array with wine data\n",
        "#Exclude the header row with list slicing.\n",
        "#Specify the keyword argument dtype to make sure each element is converted to a float.\n",
        "import numpy as np\n",
        "wines = np.array(wines[1:], dtype=np.float)\n",
        "wines #its a Numpy Array\n",
        "\n",
        "wines.shape"
      ]
    },
    {
      "cell_type": "markdown",
      "metadata": {
        "id": "odYBl9Yd0YXg"
      },
      "source": [
        "# Using NumPy To Read In Files\n",
        "\n",
        "Use the #genfromtxt function to read in the winequality-red.csv file.\n",
        "Specify the keyword argument #delimiter=\";\" so that the fields are parsed properly.\n",
        "Specify the keyword argument #skip_header=1 so that the header row is skipped"
      ]
    },
    {
      "cell_type": "code",
      "execution_count": null,
      "metadata": {
        "id": "5ftweCCA0YXg",
        "outputId": "0e0e4611-3c46-4bd3-80d5-de110b2e7e62"
      },
      "outputs": [
        {
          "data": {
            "text/plain": [
              "array([[ 7.4  ,  0.7  ,  0.   , ...,  0.56 ,  9.4  ,  5.   ],\n",
              "       [ 7.8  ,  0.88 ,  0.   , ...,  0.68 ,  9.8  ,  5.   ],\n",
              "       [ 7.8  ,  0.76 ,  0.04 , ...,  0.65 ,  9.8  ,  5.   ],\n",
              "       ...,\n",
              "       [ 6.3  ,  0.51 ,  0.13 , ...,  0.75 , 11.   ,  6.   ],\n",
              "       [ 5.9  ,  0.645,  0.12 , ...,  0.71 , 10.2  ,  5.   ],\n",
              "       [ 6.   ,  0.31 ,  0.47 , ...,  0.66 , 11.   ,  6.   ]])"
            ]
          },
          "execution_count": 14,
          "metadata": {},
          "output_type": "execute_result"
        }
      ],
      "source": [
        "wines = np.genfromtxt(r\"C:\\Users\\Rutvik Mehta\\ML_Workshop\\winequality-red.csv\", delimiter=\";\", skip_header=1)\n",
        "wines #its a numpy array"
      ]
    },
    {
      "cell_type": "code",
      "execution_count": null,
      "metadata": {
        "id": "MK_5JZo_0YXh",
        "outputId": "4b4d2ddd-e466-4aac-8cd9-76fc1138e005"
      },
      "outputs": [
        {
          "data": {
            "text/plain": [
              "array([[7.800e+00, 8.800e-01, 0.000e+00, 2.600e+00, 9.800e-02, 2.500e+01,\n",
              "        6.700e+01, 9.968e-01, 3.200e+00, 6.800e-01, 9.800e+00, 5.000e+00],\n",
              "       [7.800e+00, 7.600e-01, 4.000e-02, 2.300e+00, 9.200e-02, 1.500e+01,\n",
              "        5.400e+01, 9.970e-01, 3.260e+00, 6.500e-01, 9.800e+00, 5.000e+00],\n",
              "       [1.120e+01, 2.800e-01, 5.600e-01, 1.900e+00, 7.500e-02, 1.700e+01,\n",
              "        6.000e+01, 9.980e-01, 3.160e+00, 5.800e-01, 9.800e+00, 6.000e+00],\n",
              "       [7.400e+00, 7.000e-01, 0.000e+00, 1.900e+00, 7.600e-02, 1.100e+01,\n",
              "        3.400e+01, 9.978e-01, 3.510e+00, 5.600e-01, 9.400e+00, 5.000e+00],\n",
              "       [7.400e+00, 6.600e-01, 0.000e+00, 1.800e+00, 7.500e-02, 1.300e+01,\n",
              "        4.000e+01, 9.978e-01, 3.510e+00, 5.600e-01, 9.400e+00, 5.000e+00],\n",
              "       [7.900e+00, 6.000e-01, 6.000e-02, 1.600e+00, 6.900e-02, 1.500e+01,\n",
              "        5.900e+01, 9.964e-01, 3.300e+00, 4.600e-01, 9.400e+00, 5.000e+00],\n",
              "       [7.300e+00, 6.500e-01, 0.000e+00, 1.200e+00, 6.500e-02, 1.500e+01,\n",
              "        2.100e+01, 9.946e-01, 3.390e+00, 4.700e-01, 1.000e+01, 7.000e+00],\n",
              "       [7.800e+00, 5.800e-01, 2.000e-02, 2.000e+00, 7.300e-02, 9.000e+00,\n",
              "        1.800e+01, 9.968e-01, 3.360e+00, 5.700e-01, 9.500e+00, 7.000e+00],\n",
              "       [7.500e+00, 5.000e-01, 3.600e-01, 6.100e+00, 7.100e-02, 1.700e+01,\n",
              "        1.020e+02, 9.978e-01, 3.350e+00, 8.000e-01, 1.050e+01, 5.000e+00]])"
            ]
          },
          "execution_count": 15,
          "metadata": {},
          "output_type": "execute_result"
        }
      ],
      "source": [
        "wines[1:10]"
      ]
    },
    {
      "cell_type": "code",
      "execution_count": null,
      "metadata": {
        "id": "F2Tny8wo0YXi",
        "outputId": "1496e105-f0bf-4232-dc1a-4417b8173321"
      },
      "outputs": [
        {
          "data": {
            "text/plain": [
              "2.3"
            ]
          },
          "execution_count": 16,
          "metadata": {},
          "output_type": "execute_result"
        }
      ],
      "source": [
        "#Indexing the values\n",
        "#Let's select the element at row 3 and column 4. In the below code, we pass in the index 2 as the row index, \n",
        "#and the index 3 as the column index. \n",
        "#This retrieves the value from the fourth column of the third row:\n",
        "wines[2,3]"
      ]
    },
    {
      "cell_type": "markdown",
      "metadata": {
        "id": "8TYrF9MZ0YXi"
      },
      "source": [
        "If we instead want to select the first three items from the fourth column, we can do it using a colon (:). A colon indicates that we want to select all the elements from the starting index up to but not including the ending index"
      ]
    },
    {
      "cell_type": "code",
      "execution_count": null,
      "metadata": {
        "id": "9GANXjF50YXi",
        "outputId": "27eec08f-f30a-45cb-d81d-ed0404245ca1"
      },
      "outputs": [
        {
          "data": {
            "text/plain": [
              "array([1.9, 2.6, 2.3])"
            ]
          },
          "execution_count": 17,
          "metadata": {},
          "output_type": "execute_result"
        }
      ],
      "source": [
        "wines[0:3,3]\n",
        "#or\n",
        "wines[:3,3]"
      ]
    },
    {
      "cell_type": "code",
      "execution_count": null,
      "metadata": {
        "id": "f97LUQ500YXj",
        "outputId": "13bcfef7-6ba1-4ea6-c9c3-b3dd0977c6cb"
      },
      "outputs": [
        {
          "data": {
            "text/plain": [
              "array([1.9, 2.6, 2.3, ..., 2.3, 2. , 3.6])"
            ]
          },
          "execution_count": 18,
          "metadata": {},
          "output_type": "execute_result"
        }
      ],
      "source": [
        "#The below code will select the entire fourth column:\n",
        "wines[:,3]"
      ]
    },
    {
      "cell_type": "markdown",
      "metadata": {
        "id": "M9i9v2QD0YXk"
      },
      "source": [
        "# Assigning Values To NumPy Arrays\n",
        "We can also use indexing to assign values to certain elements in arrays. We can do this by assigning directly to the indexed value:"
      ]
    },
    {
      "cell_type": "code",
      "execution_count": null,
      "metadata": {
        "collapsed": true,
        "id": "d3eS0r_u0YXk"
      },
      "outputs": [],
      "source": [
        "#We can also use indexing to assign values to certain elements in arrays\n",
        "wines[1,5] = 10\n",
        "#We can do the same for slices. To overwrite an entire column, we can do this:\n",
        "\n",
        "wines[:,10] = 50\n",
        "#The above code overwrites all the values in the eleventh column with 50"
      ]
    },
    {
      "cell_type": "markdown",
      "metadata": {
        "id": "JOGhnk-r0YXl"
      },
      "source": [
        "# 1-Dimensional NumPy Arrays\n",
        "So far, we've worked with 2-dimensional arrays, such as wines. However, NumPy is a package for working with multidimensional arrays. One of the most common types of multidimensional arrays is the 1-dimensional array, or vector."
      ]
    },
    {
      "cell_type": "code",
      "execution_count": null,
      "metadata": {
        "id": "N_RfbPob0YXl",
        "outputId": "91a578f4-1f59-4857-80f8-6aa4d54299d0"
      },
      "outputs": [
        {
          "data": {
            "text/plain": [
              "array([11.2  ,  0.28 ,  0.56 ,  1.9  ,  0.075, 17.   , 60.   ,  0.998,\n",
              "        3.16 ,  0.58 , 50.   ,  6.   ])"
            ]
          },
          "execution_count": 20,
          "metadata": {},
          "output_type": "execute_result"
        }
      ],
      "source": [
        "third_wine = wines[3,:]\n",
        "third_wine #creating oneD array"
      ]
    },
    {
      "cell_type": "code",
      "execution_count": null,
      "metadata": {
        "id": "qcJu2yhz0YXm",
        "outputId": "61b09724-dcb9-4670-b1fb-b9ce86df54f0"
      },
      "outputs": [
        {
          "data": {
            "text/plain": [
              "0.28"
            ]
          },
          "execution_count": 21,
          "metadata": {},
          "output_type": "execute_result"
        }
      ],
      "source": [
        "third_wine[1]"
      ]
    },
    {
      "cell_type": "code",
      "execution_count": null,
      "metadata": {
        "id": "EArojHgw0YXm",
        "outputId": "a0746809-af9a-49b4-8246-d0d5bb9c7177"
      },
      "outputs": [
        {
          "data": {
            "text/plain": [
              "array([0.8258068 , 0.56134308, 0.68656175])"
            ]
          },
          "execution_count": 22,
          "metadata": {},
          "output_type": "execute_result"
        }
      ],
      "source": [
        "#numpy.random.rand\n",
        "np.random.rand(3)\n",
        " "
      ]
    },
    {
      "cell_type": "markdown",
      "metadata": {
        "id": "JOoXJI6d0YXn"
      },
      "source": [
        "# N-Dimensional NumPy Arrays\n",
        "This doesn't happen extremely often, but there are cases when you'll want to deal with arrays that have greater than 3 dimensions. One way to think of this is as a list of lists of lists. Let's say we want to store the monthly earnings of a store, but we want to be able to quickly lookup the results for a quarter, and for a year. The earnings for one year might look like this:"
      ]
    },
    {
      "cell_type": "code",
      "execution_count": null,
      "metadata": {
        "id": "7T0FGZAt0YXo",
        "outputId": "301409c0-35ea-4618-b716-3261200010e0"
      },
      "outputs": [
        {
          "data": {
            "text/plain": [
              "[500, 505, 490, 810, 450, 678, 234, 897, 430, 560, 1023, 640]"
            ]
          },
          "execution_count": 23,
          "metadata": {},
          "output_type": "execute_result"
        }
      ],
      "source": [
        "#monthly values \n",
        "[500, 505, 490, 810, 450, 678, 234, 897, 430, 560, 1023, 640]\n",
        "    #505 for jan,505 for feb"
      ]
    },
    {
      "cell_type": "markdown",
      "metadata": {
        "id": "qPKouRNY0YXo"
      },
      "source": [
        "#quaterly split them as \n",
        "year_one = [\n",
        "    [500,505,490],\n",
        "    [810,450,678],\n",
        "    [234,897,430],\n",
        "    [560,1023,640]\n",
        "]\n",
        "We can retrieve the earnings from January by calling year_one[0][0]. If we want the results for a whole quarter, we can call year_one[0] or year_one[1]."
      ]
    },
    {
      "cell_type": "code",
      "execution_count": null,
      "metadata": {
        "id": "ySsltAtN0YXo",
        "outputId": "de993b54-58b7-4590-cc5a-247327482f57"
      },
      "outputs": [
        {
          "name": "stdout",
          "output_type": "stream",
          "text": [
            "500\n"
          ]
        }
      ],
      "source": [
        "year_one = [\n",
        "    [500,505,490],\n",
        "    [810,450,678],\n",
        "    [234,897,430],\n",
        "    [560,1023,640]\n",
        "]\n",
        "print(year_one[0][0])"
      ]
    },
    {
      "cell_type": "code",
      "execution_count": null,
      "metadata": {
        "collapsed": true,
        "id": "vExelNJF0YXp"
      },
      "outputs": [],
      "source": [
        "#But what if we now want to add the results from another year? \n",
        "#We have to add a third dimension:\n",
        "earnings = [\n",
        "            [\n",
        "                [500,505,490],\n",
        "                [810,450,678],\n",
        "                [234,897,430],\n",
        "                [560,1023,640]\n",
        "            ],\n",
        "            [\n",
        "                [600,605,490],\n",
        "                [345,900,1000],\n",
        "                [780,730,710],\n",
        "                [670,540,324]\n",
        "            ]\n",
        "          ]"
      ]
    },
    {
      "cell_type": "markdown",
      "metadata": {
        "id": "mEajxY2Y0YXp"
      },
      "source": [
        "We can retrieve the earnings from January of the first year by calling earnings[0][0][0]. We now need three indexes to retrieve a single element. A three-dimensional array in NumPy is much the same. In fact, we can convert earnings to an array and then get the earnings for January of the first year:"
      ]
    },
    {
      "cell_type": "code",
      "execution_count": null,
      "metadata": {
        "id": "gAT50YrK0YXq",
        "outputId": "672159fa-c33c-4a89-d51c-48ef576ef513"
      },
      "outputs": [
        {
          "data": {
            "text/plain": [
              "500"
            ]
          },
          "execution_count": 26,
          "metadata": {},
          "output_type": "execute_result"
        }
      ],
      "source": [
        "earnings = np.array(earnings)\n",
        "earnings[0,0,0]"
      ]
    },
    {
      "cell_type": "code",
      "execution_count": null,
      "metadata": {
        "id": "omsEEONh0YXt",
        "outputId": "cbcdbfd0-39ad-40f4-966b-30a2f2d66b65"
      },
      "outputs": [
        {
          "data": {
            "text/plain": [
              "(2, 4, 3)"
            ]
          },
          "execution_count": 27,
          "metadata": {},
          "output_type": "execute_result"
        }
      ],
      "source": [
        "#shape\n",
        "earnings.shape\n"
      ]
    },
    {
      "cell_type": "markdown",
      "metadata": {
        "id": "AdawHXRY0YXw"
      },
      "source": [
        "# Indexing and slicing work the exact same way with a 3-dimensional array, \n",
        "but now we have an extra axis to pass in"
      ]
    },
    {
      "cell_type": "code",
      "execution_count": null,
      "metadata": {
        "id": "Tv6QQGVK0YXy",
        "outputId": "1b645251-e030-44fd-e64d-75394d23b9c8"
      },
      "outputs": [
        {
          "data": {
            "text/plain": [
              "array([500, 600])"
            ]
          },
          "execution_count": 28,
          "metadata": {},
          "output_type": "execute_result"
        }
      ],
      "source": [
        "earnings[:,0,0]"
      ]
    },
    {
      "cell_type": "code",
      "execution_count": null,
      "metadata": {
        "id": "QYq6cpC-0YX0",
        "outputId": "6d9ea8d3-7caf-4e85-b91c-2a4c04515a3f"
      },
      "outputs": [
        {
          "data": {
            "text/plain": [
              "array([[500, 505, 490],\n",
              "       [600, 605, 490]])"
            ]
          },
          "execution_count": 29,
          "metadata": {},
          "output_type": "execute_result"
        }
      ],
      "source": [
        "#If we wanted to get first quarter earnings from both years, we could do this:\n",
        "\n",
        "earnings[:,0,:]"
      ]
    },
    {
      "cell_type": "markdown",
      "metadata": {
        "id": "TwLnGIKY0YX1"
      },
      "source": [
        "# NumPy Array Operations\n",
        "#Single Array Math\n",
        "If you do any of the basic mathematical operations (/, *, -, +, ^) with an array and a value, it will apply the operation to each of the elements in the array.\n",
        "\n",
        "Let's say we want to add 10 points to each quality score because we're drunk and feeling generous. Here's how we'd do that:wines[:,11] + 10"
      ]
    },
    {
      "cell_type": "code",
      "execution_count": null,
      "metadata": {
        "id": "N0g19xXb0YX3",
        "outputId": "d5d32cf0-4b40-4607-d832-8494ac680235"
      },
      "outputs": [
        {
          "data": {
            "text/plain": [
              "array([15., 15., 15., ..., 16., 15., 16.])"
            ]
          },
          "execution_count": 30,
          "metadata": {},
          "output_type": "execute_result"
        }
      ],
      "source": [
        "wines[:,11] + 10 #adding 10 to each value of column 11"
      ]
    },
    {
      "cell_type": "markdown",
      "metadata": {
        "id": "aMyiXxM-0YX4"
      },
      "source": [
        "Note that the above operation won't change the wines array -- it will return a new 1-dimensional array where 10 has been added to each element in the quality column of wines.\n",
        "\n",
        "If we instead did +=, we'd modify the array in place:"
      ]
    },
    {
      "cell_type": "code",
      "execution_count": null,
      "metadata": {
        "id": "cgKoI8Da0YX4",
        "outputId": "71240476-58dc-4672-9724-34595e197f53"
      },
      "outputs": [
        {
          "data": {
            "text/plain": [
              "array([15., 15., 15., ..., 16., 15., 16.])"
            ]
          },
          "execution_count": 31,
          "metadata": {},
          "output_type": "execute_result"
        }
      ],
      "source": [
        "wines[:,11] += 10\n",
        "wines[:,11]"
      ]
    },
    {
      "cell_type": "markdown",
      "metadata": {
        "id": "CgqcK8fw0YX4"
      },
      "source": [
        "# Multiple Array Math\n",
        "It's also possible to do mathematical operations between arrays. This will apply the operation to pairs of elements. For example, if we add the quality column to itself, here's what we get:"
      ]
    },
    {
      "cell_type": "code",
      "execution_count": null,
      "metadata": {
        "id": "GvNbS37t0YX5",
        "outputId": "1c0c2aec-3d54-490e-bfb0-0b953247644f"
      },
      "outputs": [
        {
          "data": {
            "text/plain": [
              "array([30., 30., 30., ..., 32., 30., 32.])"
            ]
          },
          "execution_count": 32,
          "metadata": {},
          "output_type": "execute_result"
        }
      ],
      "source": [
        "wines[:,11] + wines[:,11]"
      ]
    },
    {
      "cell_type": "markdown",
      "metadata": {
        "id": "eQP9QcGT0YX5"
      },
      "source": [
        "# NumPy Array Methods\n",
        "In addition to the common mathematical operations, NumPy also has several methods that you can use for more complex calculations on arrays. An example of this is the numpy.ndarray.sum method. This finds the sum of all the elements in an array by default:"
      ]
    },
    {
      "cell_type": "code",
      "execution_count": null,
      "metadata": {
        "id": "RYfuBVBA0YX5",
        "outputId": "603e8e7d-aa54-4265-fa30-f1e3571cd6e7"
      },
      "outputs": [
        {
          "data": {
            "text/plain": [
              "25002.0"
            ]
          },
          "execution_count": 33,
          "metadata": {},
          "output_type": "execute_result"
        }
      ],
      "source": [
        "wines[:,11].sum()"
      ]
    },
    {
      "cell_type": "code",
      "execution_count": null,
      "metadata": {
        "id": "tQFWvB3p0YX6",
        "outputId": "9d4a1cda-2773-4929-f71e-b00b355d1bc2"
      },
      "outputs": [
        {
          "data": {
            "text/plain": [
              "array([13303.1    ,   843.985  ,   433.29   ,  4059.55   ,   139.859  ,\n",
              "       25369.     , 74302.     ,  1593.79794,  5294.47   ,  1052.38   ,\n",
              "       79950.     , 25002.     ])"
            ]
          },
          "execution_count": 34,
          "metadata": {},
          "output_type": "execute_result"
        }
      ],
      "source": [
        "wines.sum(axis=0)"
      ]
    },
    {
      "cell_type": "code",
      "execution_count": null,
      "metadata": {
        "id": "bdPf1x4R0YX6",
        "outputId": "56395306-ca0d-4505-ab09-aad2b971c493"
      },
      "outputs": [
        {
          "data": {
            "text/plain": [
              "array([13303.1    ,   843.985  ,   433.29   ,  4059.55   ,   139.859  ,\n",
              "       25369.     , 74302.     ,  1593.79794,  5294.47   ,  1052.38   ,\n",
              "       79950.     , 25002.     ])"
            ]
          },
          "execution_count": 35,
          "metadata": {},
          "output_type": "execute_result"
        }
      ],
      "source": [
        "#We can pass the axis keyword argument into the sum method to find sums over an axis. \n",
        "#If we call sum across the wines matrix, \n",
        "#and pass in axis=0, we'll find the sums over the first axis of the array. \n",
        "wines.sum(axis=0)"
      ]
    },
    {
      "cell_type": "code",
      "execution_count": null,
      "metadata": {
        "id": "_eo3Yh700YX7",
        "outputId": "db28c1b7-35cd-4412-8d8e-3b2c1c3db412"
      },
      "outputs": [
        {
          "data": {
            "text/plain": [
              "(12,)"
            ]
          },
          "execution_count": 36,
          "metadata": {},
          "output_type": "execute_result"
        }
      ],
      "source": [
        "#We can verify that we did the sum correctly by checking the shape. The shape should be 12,\n",
        "#corresponding to the number of columns:\n",
        "\n",
        "wines.sum(axis=0).shape"
      ]
    },
    {
      "cell_type": "markdown",
      "metadata": {
        "id": "1VsXYFEa0YX9"
      },
      "source": [
        "# Other Methods\n",
        "numpy.ndarray.mean — finds the mean of an array.\n",
        "numpy.ndarray.std — finds the standard deviation of an array.\n",
        "numpy.ndarray.min — finds the minimum value in an array.\n",
        "numpy.ndarray.max — finds the maximum value in an array."
      ]
    },
    {
      "cell_type": "markdown",
      "metadata": {
        "id": "1lbVsJlc0YX-"
      },
      "source": [
        "# NumPy Array Comparisons\n",
        "NumPy makes it possible to test to see if rows match certain values using mathematical comparison operations like <, >, >=, <=, and ==. For example, if we want to see which wines have a quality rating higher than 5, we can do this:"
      ]
    },
    {
      "cell_type": "code",
      "execution_count": null,
      "metadata": {
        "id": "uzdsiWWu0YX-",
        "outputId": "c2b7ab11-32c2-406e-c549-09c8005d6a04"
      },
      "outputs": [
        {
          "name": "stdout",
          "output_type": "stream",
          "text": [
            "[6. 7. 7. 7. 6. 6. 6. 6. 6. 6. 6. 6. 7. 6. 6. 6. 6. 6. 7. 6. 6. 6. 6. 6.\n",
            " 6. 6. 6. 6. 6. 6. 6. 6. 6. 6. 6. 6. 6. 6. 7. 6. 6. 6. 6. 6. 6. 6. 6. 6.\n",
            " 6. 6. 6. 6. 6. 6. 6. 6. 7. 7. 6. 7. 7. 7. 6. 6. 6. 6. 6. 6. 6. 6. 6. 7.\n",
            " 6. 6. 6. 6. 6. 6. 6. 6. 6. 6. 7. 7. 6. 6. 6. 6. 6. 6. 7. 7. 8. 6. 6. 6.\n",
            " 6. 6. 6. 6. 8. 7. 6. 7. 7. 6. 6. 7. 7. 6. 6. 6. 6. 6. 6. 6. 6. 6. 6. 6.\n",
            " 6. 6. 6. 7. 6. 7. 6. 6. 6. 7. 6. 6. 6. 6. 7. 7. 6. 6. 7. 6. 6. 6. 6. 6.\n",
            " 7. 6. 6. 6. 6. 6. 6. 6. 7. 7. 6. 6. 7. 6. 7. 7. 6. 6. 6. 7. 6. 7. 6. 6.\n",
            " 6. 6. 6. 6. 6. 6. 6. 6. 7. 8. 6. 7. 6. 6. 6. 6. 6. 6. 6. 7. 6. 6. 7. 6.\n",
            " 6. 7. 7. 7. 7. 6. 6. 6. 7. 6. 6. 6. 6. 6. 8. 6. 7. 7. 7. 6. 6. 6. 6. 6.\n",
            " 6. 7. 8. 7. 6. 6. 6. 6. 6. 6. 6. 6. 6. 6. 8. 6. 6. 7. 6. 6. 7. 7. 6. 6.\n",
            " 8. 6. 8. 6. 6. 7. 7. 7. 7. 7. 7. 6. 6. 7. 6. 6. 7. 7. 6. 6. 6. 6. 6. 6.\n",
            " 6. 6. 6. 6. 7. 6. 6. 6. 6. 6. 6. 6. 6. 6. 6. 6. 6. 6. 6. 6. 6. 6. 6. 6.\n",
            " 6. 6. 6. 6. 6. 7. 7. 6. 7. 8. 7. 6. 6. 6. 6. 6. 6. 6. 6. 6. 7. 6. 6. 6.\n",
            " 6. 6. 6. 6. 6. 6. 6. 7. 6. 7. 7. 6. 6. 7. 6. 6. 6. 6. 6. 6. 6. 6. 6. 6.\n",
            " 6. 6. 6. 6. 6. 6. 6. 6. 6. 6. 6. 6. 6. 6. 6. 6. 6. 6. 6. 6. 6. 6. 6. 6.\n",
            " 6. 6. 6. 6. 6. 6. 6. 6. 6. 6. 6. 6. 7. 6. 6. 7. 6. 6. 7. 7. 7. 6. 6. 6.\n",
            " 6. 6. 7. 7. 8. 6. 6. 7. 7. 7. 7. 6. 6. 6. 6. 6. 7. 6. 7. 7. 6. 6. 6. 6.\n",
            " 6. 6. 6. 7. 7. 7. 6. 6. 6. 6. 6. 6. 7. 6. 6. 6. 6. 7. 6. 7. 7. 7. 7. 7.\n",
            " 6. 6. 6. 6. 6. 6. 7. 6. 6. 6. 6. 6. 6. 6. 6. 7. 6. 7. 6. 6. 6. 7. 7. 7.\n",
            " 7. 7. 7. 7. 7. 7. 7. 7. 7. 7. 7. 7. 6. 6. 6. 7. 6. 6. 6. 6. 7. 6. 6. 6.\n",
            " 7. 7. 7. 6. 6. 6. 6. 7. 6. 6. 6. 7. 7. 6. 6. 7. 7. 7. 7. 7. 7. 7. 7. 7.\n",
            " 6. 6. 6. 6. 7. 6. 6. 6. 6. 6. 7. 6. 6. 6. 7. 7. 7. 6. 6. 7. 7. 7. 6. 6.\n",
            " 6. 7. 6. 6. 6. 6. 6. 7. 6. 6. 7. 7. 7. 6. 8. 6. 6. 6. 6. 7. 7. 7. 7. 6.\n",
            " 6. 7. 6. 7. 6. 7. 6. 6. 6. 7. 6. 7. 7. 8. 6. 6. 7. 6. 6. 7. 6. 6. 6. 6.\n",
            " 6. 6. 7. 6. 6. 7. 6. 6. 6. 6. 6. 6. 6. 8. 6. 6. 6. 7. 6. 6. 6. 6. 7. 7.\n",
            " 7. 6. 6. 6. 6. 6. 6. 6. 6. 6. 6. 7. 6. 6. 7. 6. 6. 6. 7. 7. 6. 7. 6. 7.\n",
            " 7. 6. 6. 6. 6. 6. 6. 6. 6. 7. 6. 6. 6. 6. 6. 6. 7. 6. 6. 6. 6. 6. 6. 6.\n",
            " 7. 8. 7. 7. 7. 7. 7. 6. 6. 6. 6. 6. 6. 6. 6. 6. 6. 6. 6. 6. 6. 7. 6. 6.\n",
            " 6. 6. 6. 6. 6. 6. 6. 6. 6. 6. 6. 6. 6. 6. 6. 8. 6. 6. 6. 6. 6. 6. 7. 6.\n",
            " 6. 6. 6. 6. 6. 6. 6. 6. 6. 6. 6. 6. 6. 6. 6. 6. 6. 6. 6. 6. 6. 7. 6. 6.\n",
            " 6. 6. 6. 6. 6. 6. 6. 6. 6. 6. 6. 6. 6. 6. 6. 6. 6. 6. 6. 6. 6. 6. 6. 6.\n",
            " 6. 6. 7. 6. 6. 8. 6. 7. 6. 6. 7. 6. 6. 6. 6. 7. 6. 6. 6. 6. 6. 6. 7. 6.\n",
            " 6. 6. 7. 6. 6. 6. 8. 7. 7. 7. 6. 6. 6. 7. 6. 6. 6. 7. 7. 6. 7. 7. 6. 6.\n",
            " 7. 6. 6. 6. 6. 6. 6. 6. 6. 6. 6. 6. 6. 6. 6. 6. 6. 6. 6. 6. 6. 6. 6. 6.\n",
            " 7. 6. 6. 6. 6. 7. 6. 6. 7. 6. 8. 6. 6. 7. 6. 6. 6. 6. 6. 6. 6. 6. 6. 6.\n",
            " 6. 6. 6. 7. 6. 6. 6. 6. 6. 6. 6. 6. 6. 6. 6.]\n"
          ]
        }
      ],
      "source": [
        "i = wines[:,11] > 5\n",
        "z = wines[i]\n",
        "print(z[:,11])\n"
      ]
    },
    {
      "cell_type": "code",
      "execution_count": null,
      "metadata": {
        "id": "SnldkLv60YX_",
        "outputId": "8284f97b-6972-4fd4-ceaf-36a1b0ea040a"
      },
      "outputs": [
        {
          "name": "stdout",
          "output_type": "stream",
          "text": [
            "[False False False ... False False False]\n"
          ]
        }
      ],
      "source": [
        "print(wines[:,11] == 10)\n"
      ]
    },
    {
      "cell_type": "markdown",
      "metadata": {
        "id": "qoTz7kiP0YYA"
      },
      "source": [
        "# Subsetting\n",
        "One of the powerful things we can do with a Boolean array and a NumPy array is select only certain rows or columns in the NumPy array. For example, the below code will only select rows in wines where the quality is over 7:"
      ]
    },
    {
      "cell_type": "code",
      "execution_count": null,
      "metadata": {
        "id": "lx8ZJcte0YYB",
        "outputId": "7e4eb103-ce99-4bb2-affb-51d29d0dab24"
      },
      "outputs": [
        {
          "data": {
            "text/plain": [
              "array([[7.900e+00, 3.500e-01, 4.600e-01, 3.600e+00, 7.800e-02, 1.500e+01,\n",
              "        3.700e+01, 9.973e-01, 3.350e+00, 8.600e-01, 5.000e+01, 8.000e+00],\n",
              "       [1.030e+01, 3.200e-01, 4.500e-01, 6.400e+00, 7.300e-02, 5.000e+00,\n",
              "        1.300e+01, 9.976e-01, 3.230e+00, 8.200e-01, 5.000e+01, 8.000e+00],\n",
              "       [5.600e+00, 8.500e-01, 5.000e-02, 1.400e+00, 4.500e-02, 1.200e+01,\n",
              "        8.800e+01, 9.924e-01, 3.560e+00, 8.200e-01, 5.000e+01, 8.000e+00]])"
            ]
          },
          "execution_count": 82,
          "metadata": {},
          "output_type": "execute_result"
        }
      ],
      "source": [
        "high_quality = wines[:,11] > 7\n",
        "wines[high_quality,:][:3,:]\n",
        "#We select only the rows where high_quality contains a True value, and all of the columns.\n",
        "#This subsetting makes it simple to filter arrays for certain criteria."
      ]
    },
    {
      "cell_type": "markdown",
      "metadata": {
        "id": "2XNP4IVD0YYB"
      },
      "source": [
        "# Reshaping NumPy Arrays\n",
        "We can change the shape of arrays while still preserving all of their elements. \n",
        "This often can make it easier to access array elements. \n",
        "The simplest reshaping is to flip the axes, so rows become columns, and vice versa.\n"
      ]
    },
    {
      "cell_type": "code",
      "execution_count": null,
      "metadata": {
        "id": "jehrvU2K0YYC",
        "outputId": "97163f08-365a-42d2-c41d-02b690697135"
      },
      "outputs": [
        {
          "data": {
            "text/plain": [
              "(12, 1599)"
            ]
          },
          "execution_count": 83,
          "metadata": {},
          "output_type": "execute_result"
        }
      ],
      "source": [
        "np.transpose(wines).shape"
      ]
    },
    {
      "cell_type": "code",
      "execution_count": null,
      "metadata": {
        "id": "d3_xc93S0YYE",
        "outputId": "482c8fde-b739-4c61-985a-a8e57b84567a"
      },
      "outputs": [
        {
          "data": {
            "text/plain": [
              "array([ 7.4 ,  0.7 ,  0.  , ...,  0.66, 50.  ,  6.  ])"
            ]
          },
          "execution_count": 84,
          "metadata": {},
          "output_type": "execute_result"
        }
      ],
      "source": [
        "#We can use the numpy.ravel function to turn an array into a one-dimensional representation.\n",
        "#It will essentially flatten an array into a long sequence of values:\n",
        "wines.ravel()"
      ]
    },
    {
      "cell_type": "code",
      "execution_count": null,
      "metadata": {
        "id": "cLHTHHsD0YYE",
        "outputId": "8f9005ec-6706-4211-ca31-6b085fe547fd"
      },
      "outputs": [
        {
          "data": {
            "text/plain": [
              "array([1, 2, 3, 4, 5, 6, 7, 8])"
            ]
          },
          "execution_count": 85,
          "metadata": {},
          "output_type": "execute_result"
        }
      ],
      "source": [
        "#example\n",
        "array_one = np.array(\n",
        "    [\n",
        "        [1, 2, 3, 4], \n",
        "        [5, 6, 7, 8]\n",
        "    ]\n",
        ")\n",
        "\n",
        "array_one.ravel()"
      ]
    },
    {
      "cell_type": "markdown",
      "metadata": {
        "id": "LpVVzTIy0YYG"
      },
      "source": [
        "# Implementation of Random walk"
      ]
    },
    {
      "cell_type": "code",
      "execution_count": null,
      "metadata": {
        "id": "cuiDlouh0YYG",
        "outputId": "ebd50f50-57b2-45cb-fc50-0f4886c83835"
      },
      "outputs": [
        {
          "data": {
            "text/plain": [
              "0.10614886611805208"
            ]
          },
          "execution_count": 91,
          "metadata": {},
          "output_type": "execute_result"
        }
      ],
      "source": [
        "import numpy as np\n",
        "np.random.rand() "
      ]
    },
    {
      "cell_type": "code",
      "execution_count": null,
      "metadata": {
        "id": "4Q_SY6nI0YYI",
        "outputId": "a7d6fd7e-f651-4b09-e5cf-304138699486"
      },
      "outputs": [
        {
          "data": {
            "text/plain": [
              "0.6182830399995539"
            ]
          },
          "execution_count": 92,
          "metadata": {},
          "output_type": "execute_result"
        }
      ],
      "source": [
        "np.random.rand()"
      ]
    },
    {
      "cell_type": "code",
      "execution_count": null,
      "metadata": {
        "id": "CNxDTyWL0YYJ",
        "outputId": "5cd55049-aa83-4b72-c5c4-8f555bd68cb8"
      },
      "outputs": [
        {
          "name": "stdout",
          "output_type": "stream",
          "text": [
            "It's a break\n"
          ]
        }
      ],
      "source": [
        "print(\"It's a break\")"
      ]
    },
    {
      "cell_type": "code",
      "execution_count": null,
      "metadata": {
        "id": "aD9YNCFK0YYJ",
        "outputId": "ff7d5cca-bc97-43e3-d447-cc446c86a8ad"
      },
      "outputs": [
        {
          "data": {
            "text/plain": [
              "0.7705246402076853"
            ]
          },
          "execution_count": 94,
          "metadata": {},
          "output_type": "execute_result"
        }
      ],
      "source": [
        "np.random.rand()"
      ]
    },
    {
      "cell_type": "code",
      "execution_count": null,
      "metadata": {
        "collapsed": true,
        "id": "9co2t4sX0YYK"
      },
      "outputs": [],
      "source": [
        "np.random.seed(110)\n"
      ]
    },
    {
      "cell_type": "code",
      "execution_count": null,
      "metadata": {
        "id": "qbiQ6elt0YYK",
        "outputId": "9587e661-f37d-442c-aaca-c94e19658897"
      },
      "outputs": [
        {
          "data": {
            "text/plain": [
              "0.11605886230508433"
            ]
          },
          "execution_count": 107,
          "metadata": {},
          "output_type": "execute_result"
        }
      ],
      "source": [
        "np.random.rand()"
      ]
    },
    {
      "cell_type": "code",
      "execution_count": null,
      "metadata": {
        "id": "sM7_x_ot0YYL",
        "outputId": "f2e6569b-f2b6-4619-e380-6006cdc9c06d"
      },
      "outputs": [
        {
          "data": {
            "text/plain": [
              "0.6584553817461534"
            ]
          },
          "execution_count": 108,
          "metadata": {},
          "output_type": "execute_result"
        }
      ],
      "source": [
        "np.random.rand()"
      ]
    },
    {
      "cell_type": "code",
      "execution_count": null,
      "metadata": {
        "id": "CK0zYi6c0YYM",
        "outputId": "a9b94ca4-5f46-4ca5-a014-0b4804069d67"
      },
      "outputs": [
        {
          "name": "stdout",
          "output_type": "stream",
          "text": [
            "again it's a break\n"
          ]
        }
      ],
      "source": [
        "print(\"again it's a break\")"
      ]
    },
    {
      "cell_type": "code",
      "execution_count": null,
      "metadata": {
        "collapsed": true,
        "id": "rpdUyXaO0YYN"
      },
      "outputs": [],
      "source": [
        "np.random.seed(110)"
      ]
    },
    {
      "cell_type": "code",
      "execution_count": null,
      "metadata": {
        "id": "97Qjx0iR0YYN",
        "outputId": "d490a5cb-1e3d-4724-a494-ac1823ae58cc"
      },
      "outputs": [
        {
          "data": {
            "text/plain": [
              "0.11605886230508433"
            ]
          },
          "execution_count": 104,
          "metadata": {},
          "output_type": "execute_result"
        }
      ],
      "source": [
        "np.random.rand()"
      ]
    },
    {
      "cell_type": "code",
      "execution_count": null,
      "metadata": {
        "id": "jZYBxp7X0YYN",
        "outputId": "0c6ab166-abf7-4168-93ec-db415568619c"
      },
      "outputs": [
        {
          "data": {
            "text/plain": [
              "0.6584553817461534"
            ]
          },
          "execution_count": 105,
          "metadata": {},
          "output_type": "execute_result"
        }
      ],
      "source": [
        "np.random.rand()"
      ]
    },
    {
      "cell_type": "markdown",
      "metadata": {
        "id": "71HYMUeD0YYO"
      },
      "source": [
        "# Simulating coin toss"
      ]
    },
    {
      "cell_type": "code",
      "execution_count": null,
      "metadata": {
        "id": "O9Wz5e5B0YYP",
        "outputId": "88c93521-d6b7-44db-8019-946e5f92e498"
      },
      "outputs": [
        {
          "name": "stdout",
          "output_type": "stream",
          "text": [
            "0\n"
          ]
        }
      ],
      "source": [
        "import numpy as np \n",
        "np.random.seed(123)\n",
        "coin = np.random.randint(0,2)\n",
        "print(coin)\n",
        "\n"
      ]
    },
    {
      "cell_type": "code",
      "execution_count": null,
      "metadata": {
        "id": "UYqXzqzK0YYQ",
        "outputId": "69100885-3d9f-4bf3-d5c2-d0e906146786"
      },
      "outputs": [
        {
          "name": "stdout",
          "output_type": "stream",
          "text": [
            "heads\n"
          ]
        }
      ],
      "source": [
        "if coin == 0:\n",
        "    print(\"heads\") \n",
        "else:\n",
        "    print(\"tails\")\n"
      ]
    },
    {
      "cell_type": "code",
      "execution_count": null,
      "metadata": {
        "id": "c0j14ktE0YYQ",
        "outputId": "04fe4bb3-0ea8-463f-bbef-059004874853"
      },
      "outputs": [
        {
          "name": "stdout",
          "output_type": "stream",
          "text": [
            "['heads', 'tails', 'heads', 'heads', 'heads', 'heads', 'heads', 'tails', 'tails', 'heads']\n"
          ]
        }
      ],
      "source": [
        "import numpy as np \n",
        "np.random.seed(123)\n",
        "outcomes = []\n",
        "for x in range(10):\n",
        "    coin = np.random.randint(0, 2)\n",
        "    if coin==0: \n",
        "        outcomes.append(\"heads\")\n",
        "    else:\n",
        "        outcomes.append(\"tails\")\n",
        "print(outcomes)\n"
      ]
    },
    {
      "cell_type": "code",
      "execution_count": null,
      "metadata": {
        "id": "TpxhJI_A0YYS",
        "outputId": "e0fe81e7-005b-4225-d58f-e786685cf320"
      },
      "outputs": [
        {
          "name": "stdout",
          "output_type": "stream",
          "text": [
            "[3, 6, 4, 5, 4, 5, 3, 5, 4, 6, 6, 8, 6, 4, 7, 5, 7, 4, 3, 3, 4, 5, 8, 5, 6, 5, 7, 6, 4, 5, 8, 5, 8, 4, 6, 6, 3, 4, 5, 4, 7, 8, 9, 4, 3, 4, 5, 6, 4, 2, 6, 6, 5, 7, 5, 4, 5, 5, 6, 7, 6, 6, 6, 3, 6, 3, 6, 5, 6, 5, 6, 4, 6, 6, 3, 4, 4, 2, 4, 5, 4, 6, 6, 6, 8, 4, 6, 5, 7, 4, 6, 5, 4, 6, 7, 3, 7, 4, 5, 7, 8, 7, 5, 6, 7, 6, 5, 7, 5, 4, 7, 5, 4, 8, 4, 5, 6, 6, 6, 5, 5, 7, 3, 7, 6, 3, 6, 7, 2, 2, 5, 5, 4, 5, 7, 3, 3, 5, 6, 5, 6, 6, 3, 5, 4, 2, 5, 5, 7, 4, 3, 6, 2, 6, 6, 9, 6, 4, 8, 6, 6, 7, 3, 5, 3, 5, 6, 4, 4, 4, 3, 4, 4, 5, 5, 3, 8, 3, 5, 5, 6, 3, 5, 5, 4, 7, 4, 4, 5, 4, 3, 4, 5, 5, 4, 6, 4, 6, 6, 6, 8, 6, 5, 4, 6, 8, 7, 6, 7, 5, 3, 4, 7, 2, 5, 4, 5, 6, 6, 5, 6, 3, 4, 7, 4, 5, 3, 3, 4, 4, 5, 6, 5, 4, 3, 4, 6, 4, 6, 7, 4, 3, 4, 5, 6, 2, 6, 5, 5, 3, 6, 6, 4, 5, 3, 3, 6, 5, 5, 3, 5, 5, 5, 3, 4, 5, 3, 5, 9, 6, 4, 6, 3, 6, 7, 4, 4, 8, 5, 7, 5, 5, 6, 4, 6, 7, 6, 6, 6, 5, 3, 5, 5, 3, 7, 5, 3, 4, 4, 6, 5, 6, 6, 3, 6, 3, 3, 9, 5, 3, 6, 4, 5, 1, 3, 3, 5, 5, 4, 5, 1, 5, 6, 6, 4, 3, 7, 7, 4, 5, 3, 6, 5, 4, 4, 7, 2, 6, 5, 5, 4, 3, 5, 4, 5, 6, 7, 4, 3, 8, 4, 4, 4, 5, 3, 3, 5, 5, 6, 2, 4, 6, 5, 4, 3, 3, 6, 4, 3, 7, 5, 5, 4, 4, 5, 5, 5, 4, 6, 7, 7, 6, 2, 6, 5, 7, 8, 6, 4, 6, 3, 5, 6, 7, 4, 4, 6, 6, 5, 8, 6, 5, 5, 6, 2, 6, 6, 3, 3, 4, 5, 3, 5, 4, 5, 5, 6, 4, 4, 7, 5, 4, 6, 3, 6, 6, 4, 4, 6, 6, 2, 5, 6, 8, 7, 2, 5, 5, 5, 3, 4, 5, 3, 8, 5, 6, 5, 5, 8, 8, 7, 6, 5, 5, 5, 4, 6, 4, 2, 3, 7, 7, 4, 6, 1, 6, 4, 5, 6, 5, 5, 4, 5, 4, 4, 5, 2, 5, 3, 5, 4, 4, 2, 4, 1, 3, 7, 5, 4, 5, 3, 5, 4, 3, 7, 5, 7, 6, 4, 3, 4, 4, 5, 7, 5, 5, 4, 5, 7, 7, 8, 3, 7, 6, 5, 3, 5, 6, 4, 6, 6, 5, 3, 4, 7, 5, 8, 3, 3, 7, 4, 5, 7, 7, 4, 7, 4, 5, 3, 6, 5, 6, 4, 6, 5, 3, 5, 4, 5, 6, 1, 4, 3, 4, 4, 4, 4, 7, 7, 5, 6, 5, 4, 4, 7, 4, 4, 4, 5, 4, 2, 4, 7, 4, 10, 4, 9, 5, 6, 6, 7, 5, 5, 2, 5, 5, 7, 4, 5, 7, 3, 5, 6, 5, 5, 5, 6, 8, 4, 5, 4, 5, 4, 6, 4, 3, 6, 6, 4, 7, 7, 3, 4, 4, 6, 6, 5, 7, 7, 2, 4, 4, 3, 5, 6, 4, 6, 2, 6, 3, 6, 7, 5, 6, 3, 6, 5, 3, 7, 5, 4, 5, 7, 4, 4, 3, 3, 5, 5, 5, 5, 6, 6, 5, 4, 7, 4, 4, 6, 5, 6, 8, 9, 6, 3, 5, 6, 4, 2, 5, 7, 5, 8, 9, 2, 3, 2, 5, 7, 6, 4, 2, 5, 5, 7, 4, 6, 6, 6, 7, 6, 4, 7, 2, 5, 3, 5, 6, 5, 5, 1, 8, 4, 8, 5, 4, 5, 3, 4, 3, 3, 5, 5, 5, 7, 3, 5, 4, 5, 8, 6, 4, 7, 8, 7, 6, 6, 3, 3, 6, 4, 5, 6, 4, 4, 5, 3, 7, 4, 3, 4, 5, 7, 3, 9, 4, 4, 5, 6, 7, 3, 3, 6, 4, 4, 7, 5, 8, 3, 4, 6, 4, 5, 4, 5, 5, 7, 7, 3, 2, 5, 7, 6, 6, 7, 5, 7, 5, 8, 5, 4, 7, 7, 3, 6, 6, 7, 5, 3, 7, 7, 3, 4, 7, 3, 5, 3, 2, 6, 5, 7, 3, 5, 2, 4, 2, 6, 5, 3, 6, 7, 3, 6, 0, 4, 3, 4, 3, 7, 6, 3, 2, 6, 4, 4, 4, 3, 4, 3, 6, 7, 7, 5, 6, 7, 2, 6, 5, 4, 6, 4, 5, 4, 8, 4, 5, 4, 4, 4, 5, 3, 6, 3, 3, 8, 5, 6, 5, 5, 4, 5, 4, 5, 6, 7, 7, 5, 8, 6, 6, 6, 3, 5, 6, 4, 5, 4, 4, 7, 6, 5, 4, 8, 5, 4, 6, 5, 6, 7, 5, 8, 7, 3, 2, 3, 6, 7, 7, 5, 3, 3, 9, 3, 3, 2, 6, 5, 6, 6, 6, 4, 4, 4, 4, 4, 6, 7, 4, 4, 7, 7, 3, 4, 5, 3, 2, 6, 7, 5, 8, 4, 7, 2, 5, 5, 4, 6, 3, 3, 5, 4, 4, 7, 5, 5, 4, 6, 3, 5, 5, 6, 3, 6, 4, 5, 4, 6, 4, 4, 6, 6, 7, 3, 5, 2, 6, 6, 4, 6, 4, 5, 3, 6, 4, 8, 8, 5, 5, 4, 2, 7, 4, 7, 6, 3, 2, 5, 7, 5, 6, 4, 5, 7, 6, 3, 5, 4, 5, 7, 7, 3, 4, 8, 8, 7, 5, 5, 7, 5, 6, 7, 7, 5, 7, 6, 9, 3, 5, 5, 3, 6, 6, 4, 6, 6, 3, 5, 5, 7, 1, 5, 4, 5, 5, 4, 7, 6, 1, 7, 3, 6, 6, 6, 6, 4, 7, 5, 4, 7, 4, 4, 5, 4, 6, 7, 7, 5, 5, 5, 7, 4, 5, 5, 3, 2, 1, 6, 6, 3, 7, 8, 4, 3, 7, 2, 4, 7, 8, 3, 4, 4, 4, 5, 6, 7, 4, 6, 5, 6, 6, 7, 7, 6, 5, 2, 4, 6, 5, 6, 2, 5, 3, 5, 5, 4, 6, 7, 4, 2, 6, 5, 7, 5, 3, 4, 3, 4, 5, 5, 2, 7, 6, 5, 6, 5, 7, 6, 2, 4, 8, 4, 4, 5, 6, 5, 4, 8, 4, 6, 5, 2, 9, 4, 4, 7, 7, 3, 4, 4, 6, 7, 7, 3, 4, 1, 3, 4, 4, 4, 2, 1, 6, 5, 7, 3, 6, 6, 8, 2, 3, 6, 5, 7, 6, 3, 4, 3, 6, 5, 4, 7, 2, 3, 6, 3, 8, 8, 7, 3, 5, 6, 5, 4, 9, 3, 5, 4, 6, 4, 4, 4, 5, 6, 6, 4, 6, 7, 5, 2, 5, 4, 7, 2, 6, 5, 5, 4, 6, 3, 3, 3, 5, 5, 5, 8, 6, 6, 3, 3, 5, 6, 6, 6, 4, 6, 4, 5, 4, 6, 7, 4, 7, 5, 3, 4, 4, 6, 5, 5, 3, 5, 4, 4, 5, 5, 6, 4, 6, 2, 5, 5, 6, 5, 7, 4, 4, 6, 4, 6, 5, 6, 3, 4, 5, 5, 7, 6, 4, 3, 6, 6, 1, 6, 8, 7, 6, 2, 5, 5, 6, 6, 6, 5, 6, 4, 5, 2, 5, 5, 6, 3, 4, 7, 5, 4, 7, 6, 5, 5, 4, 7, 5, 4, 7, 7, 3, 6, 2, 6, 8, 2, 3, 7, 6, 3, 3, 6, 6, 4, 2, 4, 6, 5, 6, 9, 4, 4, 5, 5, 3, 5, 4, 3, 5, 8, 4, 5, 8, 6, 5, 3, 8, 6, 4, 3, 4, 4, 6, 6, 4, 4, 6, 4, 5, 4, 5, 5, 4, 5, 5, 5, 5, 5, 4, 4, 5, 4, 4, 5, 4, 5, 4, 6, 7, 6, 6, 4, 5, 1, 5, 5, 8, 3, 5, 4, 6, 2, 5, 5, 9, 5, 6, 5, 6, 6, 6, 5, 6, 5, 5, 6, 4, 6, 5, 7, 5, 6, 6, 4, 2, 7, 5, 3, 5, 5, 6, 4, 5, 6, 8, 4, 8, 4, 3, 6, 5, 5, 4, 3, 5, 3, 3, 3, 5, 7, 4, 3, 5, 4, 5, 6, 8, 5, 4, 4, 5, 7, 5, 7, 3, 3, 4, 4, 5, 4, 6, 6, 6, 5, 4, 2, 4, 8, 2, 6, 4, 6, 6, 6, 4, 4, 3, 5, 2, 6, 3, 6, 6, 7, 6, 3, 2, 5, 6, 4, 5, 5, 5, 5, 5, 6, 3, 5, 5, 6, 4, 5, 9, 5, 4, 2, 8, 3, 6, 3, 4, 7, 7, 5, 5, 7, 3, 2, 2, 4, 6, 4, 5, 6, 5, 7, 7, 5, 3, 4, 6, 7, 3, 6, 5, 4, 6, 4, 5, 6, 6, 5, 4, 4, 5, 2, 5, 4, 3, 4, 8, 7, 2, 5, 4, 3, 4, 6, 6, 5, 7, 4, 5, 2, 7, 3, 4, 7, 4, 3, 5, 6, 5, 6, 8, 5, 5, 5, 7, 5, 1, 7, 6, 2, 4, 5, 7, 5, 4, 4, 6, 2, 4, 7, 7, 3, 5, 8, 6, 6, 6, 3, 7, 5, 5, 6, 5, 6, 4, 5, 2, 5, 5, 3, 6, 6, 2, 4, 5, 7, 6, 6, 6, 3, 6, 7, 6, 5, 8, 4, 4, 5, 3, 6, 4, 4, 4, 4, 2, 6, 1, 6, 5, 5, 3, 3, 4, 3, 4, 8, 5, 5, 5, 3, 5, 6, 5, 5, 5, 4, 4, 6, 4, 6, 6, 7, 5, 8, 4, 6, 6, 6, 8, 5, 4, 10, 6, 4, 4, 2, 6, 5, 4, 6, 6, 2, 3, 6, 6, 2, 5, 3, 6, 7, 5, 2, 3, 6, 6, 5, 5, 4, 5, 5, 4, 5, 4, 5, 5, 6, 4, 3, 6, 5, 4, 5, 5, 5, 3, 6, 6, 7, 5, 3, 4, 3, 5, 4, 5, 8, 6, 5, 4, 5, 6, 7, 6, 4, 7, 4, 5, 7, 4, 6, 5, 5, 2, 6, 7, 6, 3, 2, 3, 7, 2, 4, 7, 5, 6, 5, 5, 7, 6, 5, 4, 6, 3, 4, 4, 4, 3, 4, 7, 6, 6, 4, 5, 8, 6, 5, 7, 5, 8, 5, 6, 7, 6, 4, 6, 5, 2, 5, 7, 6, 4, 4, 3, 3, 4, 2, 5, 5, 5, 5, 8, 2, 3, 2, 2, 6, 5, 8, 6, 5, 7, 4, 4, 5, 4, 5, 5, 8, 6, 2, 3, 6, 3, 3, 5, 3, 6, 7, 4, 8, 4, 1, 7, 5, 6, 4, 6, 5, 3, 7, 7, 2, 7, 6, 5, 6, 3, 5, 7, 6, 5, 3, 5, 5, 4, 6, 6, 5, 3, 8, 6, 6, 5, 5, 6, 4, 4, 6, 0, 6, 7, 4, 6, 3, 6, 5, 4, 6, 4, 5, 5, 3, 5, 5, 2, 6, 4, 6, 6, 5, 3, 4, 2, 4, 4, 3, 4, 4, 3, 6, 7, 7, 5, 4, 4, 5, 5, 6, 6, 6, 4, 7, 4, 8, 5, 5, 4, 8, 4, 5, 2, 9, 5, 5, 8, 7, 4, 3, 4, 4, 2, 5, 6, 6, 5, 5, 6, 4, 2, 3, 7, 5, 3, 7, 4, 3, 6, 5, 5, 7, 6, 5, 6, 5, 4, 4, 2, 5, 4, 4, 5, 4, 4, 5, 6, 7, 4, 6, 8, 5, 6, 8, 6, 7, 8, 7, 7, 6, 6, 4, 7, 7, 4, 5, 3, 7, 2, 7, 4, 5, 6, 4, 5, 3, 5, 6, 6, 7, 4, 5, 6, 2, 7, 4, 5, 6, 1, 5, 7, 6, 4, 5, 1, 4, 5, 7, 7, 5, 3, 4, 4, 6, 6, 3, 3, 6, 6, 4, 5, 5, 7, 4, 8, 4, 6, 6, 8, 5, 5, 5, 6, 6, 5, 4, 3, 6, 7, 3, 7, 3, 5, 5, 8, 5, 6, 7, 5, 5, 5, 4, 6, 6, 6, 4, 7, 5, 8, 6, 4, 7, 1, 6, 9, 2, 4, 3, 4, 5, 7, 7, 6, 7, 6, 4, 5, 5, 8, 3, 7, 8, 3, 5, 4, 5, 4, 3, 2, 7, 4, 3, 7, 9, 7, 8, 4, 5, 5, 8, 7, 1, 4, 7, 6, 7, 5, 6, 5, 4, 5, 4, 5, 4, 5, 6, 5, 4, 6, 8, 5, 5, 7, 7, 5, 6, 8, 5, 4, 4, 5, 5, 5, 4, 2, 4, 5, 3, 7, 6, 8, 7, 5, 7, 7, 4, 5, 6, 5, 7, 5, 7, 6, 5, 4, 5, 4, 7, 5, 5, 6, 4, 5, 2, 7, 4, 2, 3, 2, 6, 4, 6, 5, 2, 7, 5, 5, 7, 6, 7, 7, 5, 5, 4, 6, 5, 4, 5, 5, 6, 5, 6, 5, 4, 4, 4, 5, 3, 5, 5, 6, 8, 5, 5, 3, 7, 5, 1, 3, 7, 7, 7, 5, 5, 6, 6, 3, 7, 2, 3, 3, 5, 4, 3, 4, 6, 4, 3, 5, 7, 7, 5, 6, 4, 4, 7, 7, 7, 6, 4, 3, 7, 6, 4, 4, 3, 5, 5, 7, 7, 4, 6, 3, 4, 3, 5, 5, 2, 3, 2, 4, 6, 6, 4, 6, 4, 6, 6, 2, 3, 4, 5, 7, 3, 8, 7, 3, 8, 4, 6, 3, 6, 5, 5, 6, 5, 5, 3, 5, 5, 4, 4, 6, 5, 7, 4, 8, 8, 4, 6, 5, 4, 6, 5, 5, 3, 2, 5, 5, 7, 4, 9, 6, 5, 5, 4, 2, 5, 3, 4, 5, 9, 3, 4, 5, 6, 5, 5, 5, 2, 5, 4, 5, 3, 3, 3, 4, 4, 7, 5, 5, 6, 6, 5, 5, 4, 8, 5, 4, 6, 4, 4, 5, 4, 3, 4, 6, 4, 4, 4, 2, 3, 4, 3, 5, 4, 6, 3, 7, 4, 6, 5, 4, 5, 6, 7, 6, 7, 4, 6, 7, 4, 3, 4, 3, 4, 7, 7, 9, 4, 8, 4, 1, 5, 4, 5, 8, 4, 7, 2, 3, 6, 4, 6, 4, 4, 2, 5, 8, 3, 6, 4, 3, 4, 5, 5, 4, 4, 5, 2, 4, 4, 4, 5, 6, 1, 7, 3, 5, 6, 8, 7, 7, 2, 9, 8, 3, 5, 3, 6, 4, 6, 5, 3, 4, 5, 4, 3, 5, 3, 2, 4, 4, 4, 6, 4, 4, 6, 8, 7, 5, 4, 5, 5, 5, 5, 6, 6, 4, 6, 5, 4, 5, 5, 7, 6, 3, 3, 2, 2, 5, 5, 4, 5, 4, 4, 4, 4, 4, 7, 6, 4, 8, 7, 2, 5, 5, 8, 4, 2, 5, 6, 7, 4, 5, 6, 3, 4, 5, 6, 4, 4, 5, 5, 3, 6, 5, 4, 4, 7, 5, 5, 6, 5, 5, 5, 5, 5, 6, 5, 3, 7, 5, 4, 5, 3, 4, 7, 3, 6, 5, 7, 4, 7, 5, 3, 5, 4, 9, 7, 7, 5, 5, 5, 5, 5, 6, 8, 5, 1, 7, 6, 7, 3, 7, 4, 6, 6, 6, 3, 4, 6, 8, 2, 7, 6, 3, 4, 3, 6, 6, 4, 5, 4, 5, 4, 3, 6, 5, 8, 4, 5, 5, 5, 7, 6, 5, 3, 4, 3, 5, 7, 4, 4, 6, 8, 7, 5, 5, 4, 5, 6, 6, 1, 8, 6, 2, 4, 5, 6, 3, 6, 7, 8, 7, 6, 6, 4, 2, 6, 5, 4, 3, 2, 4, 2, 6, 2, 4, 4, 2, 7, 4, 7, 5, 4, 5, 6, 3, 7, 4, 4, 4, 5, 3, 3, 7, 3, 5, 4, 5, 6, 6, 6, 5, 1, 4, 8, 5, 4, 6, 4, 4, 6, 6, 8, 4, 5, 5, 7, 5, 5, 7, 5, 6, 6, 5, 5, 6, 7, 7, 6, 3, 4, 6, 7, 5, 4, 6, 5, 6, 5, 5, 6, 7, 3, 2, 7, 6, 3, 5, 7, 5, 5, 6, 9, 5, 5, 6, 3, 6, 5, 6, 6, 6, 7, 3, 4, 4, 5, 4, 6, 4, 7, 5, 4, 8, 3, 6, 5, 5, 8, 4, 5, 6, 4, 5, 4, 7, 4, 7, 5, 6, 5, 7, 8, 4, 4, 3, 6, 6, 7, 6, 5, 5, 7, 6, 6, 7, 6, 8, 6, 6, 9, 7, 6, 5, 4, 5, 5, 5, 8, 5, 4, 4, 3, 3, 6, 6, 5, 5, 8, 6, 6, 3, 4, 3, 5, 5, 5, 6, 8, 4, 6, 5, 6, 5, 5, 7, 4, 7, 6, 6, 4, 3, 8, 6, 2, 7, 3, 3, 5, 6, 6, 5, 3, 6, 8, 3, 3, 4, 4, 3, 3, 3, 5, 3, 3, 4, 6, 6, 5, 3, 7, 4, 5, 6, 4, 4, 7, 6, 4, 5, 5, 7, 8, 4, 8, 3, 4, 3, 5, 6, 2, 6, 4, 5, 4, 5, 5, 3, 6, 3, 6, 7, 3, 8, 5, 5, 4, 4, 6, 6, 4, 6, 6, 4, 2, 5, 4, 5, 3, 4, 6, 6, 4, 7, 4, 4, 4, 5, 5, 4, 8, 5, 6, 7, 4, 4, 4, 5, 6, 7, 7, 5, 7, 4, 4, 4, 5, 3, 4, 5, 5, 6, 2, 5, 3, 9, 8, 6, 4, 5, 3, 3, 7, 5, 1, 3, 4, 7, 2, 4, 4, 6, 5, 5, 6, 5, 3, 7, 5, 5, 8, 4, 5, 6, 3, 2, 7, 3, 6, 4, 4, 3, 4, 6, 6, 5, 3, 3, 4, 6, 6, 7, 5, 6, 6, 4, 5, 6, 6, 8, 4, 4, 4, 6, 3, 3, 6, 4, 4, 2, 5, 5, 5, 2, 5, 3, 7, 8, 5, 5, 7, 3, 2, 7, 5, 6, 6, 4, 6, 5, 5, 4, 5, 4, 6, 6, 5, 2, 9, 5, 6, 7, 5, 5, 7, 7, 4, 6, 4, 6, 8, 6, 5, 6, 3, 6, 6, 6, 4, 6, 8, 2, 4, 3, 8, 7, 6, 3, 6, 5, 6, 3, 6, 3, 6, 4, 4, 6, 5, 6, 5, 4, 3, 5, 4, 7, 6, 6, 3, 6, 7, 7, 3, 3, 6, 2, 4, 3, 3, 2, 5, 5, 4, 4, 5, 7, 3, 5, 4, 5, 6, 6, 5, 7, 6, 5, 6, 7, 4, 5, 6, 5, 3, 6, 7, 5, 3, 3, 6, 4, 5, 4, 3, 4, 5, 5, 5, 3, 4, 7, 5, 4, 8, 3, 6, 3, 4, 5, 7, 3, 6, 5, 5, 6, 7, 7, 6, 5, 4, 3, 5, 3, 5, 3, 3, 6, 3, 3, 3, 3, 4, 6, 6, 4, 4, 6, 3, 7, 4, 5, 5, 3, 5, 6, 5, 5, 3, 5, 3, 0, 5, 5, 4, 6, 4, 5, 3, 6, 6, 6, 5, 3, 6, 4, 7, 5, 5, 5, 5, 5, 5, 5, 6, 5, 1, 5, 6, 5, 6, 3, 3, 4, 5, 5, 3, 2, 3, 5, 6, 6, 5, 3, 7, 7, 5, 6, 6, 7, 6, 6, 5, 4, 4, 5, 2, 7, 7, 6, 9, 5, 7, 3, 6, 6, 4, 6, 7, 4, 4, 6, 2, 6, 7, 5, 3, 4, 8, 8, 8, 7, 8, 6, 8, 6, 7, 5, 5, 5, 5, 5, 6, 5, 6, 3, 4, 5, 7, 3, 4, 5, 5, 8, 2, 2, 3, 5, 4, 4, 5, 5, 4, 8, 6, 8, 4, 8, 3, 6, 4, 5, 5, 6, 6, 6, 2, 3, 6, 6, 5, 6, 5, 7, 7, 3, 5, 6, 6, 4, 7, 5, 4, 4, 7, 6, 5, 4, 4, 4, 5, 8, 5, 6, 3, 3, 4, 7, 4, 5, 3, 4, 7, 6, 2, 7, 4, 3, 3, 6, 6, 3, 6, 7, 4, 7, 5, 3, 4, 4, 6, 3, 7, 7, 6, 5, 3, 3, 3, 5, 6, 8, 3, 3, 4, 5, 4, 4, 4, 6, 4, 4, 4, 6, 4, 7, 4, 4, 4, 7, 3, 7, 5, 6, 4, 4, 6, 6, 5, 4, 6, 5, 5, 5, 4, 5, 6, 5, 6, 7, 5, 8, 5, 3, 5, 4, 3, 5, 7, 5, 6, 5, 3, 7, 4, 3, 7, 5, 5, 3, 7, 4, 5, 5, 5, 2, 3, 6, 6, 4, 7, 4, 5, 3, 5, 5, 1, 3, 2, 6, 4, 3, 3, 4, 1, 4, 6, 5, 3, 4, 5, 6, 4, 4, 5, 9, 4, 7, 3, 4, 3, 6, 6, 5, 7, 8, 8, 2, 3, 7, 7, 8, 4, 5, 4, 7, 4, 4, 5, 5, 9, 7, 5, 5, 6, 7, 4, 5, 6, 5, 7, 5, 5, 5, 6, 4, 5, 6, 3, 4, 6, 4, 4, 6, 5, 3, 3, 5, 6, 8, 4, 7, 3, 6, 6, 7, 5, 3, 6, 7, 3, 3, 6, 6, 2, 5, 5, 3, 7, 5, 3, 4, 3, 5, 4, 6, 7, 6, 4, 4, 4, 5, 7, 4, 5, 3, 8, 3, 4, 3, 5, 6, 3, 4, 8, 7, 4, 5, 7, 7, 5, 5, 7, 5, 4, 4, 4, 5, 3, 6, 4, 5, 6, 4, 6, 4, 6, 3, 6, 5, 7, 5, 4, 3, 4, 5, 4, 7, 5, 4, 6, 1, 6, 5, 6, 4, 4, 6, 5, 7, 5, 4, 6, 6, 5, 5, 5, 4, 4, 4, 6, 5, 4, 7, 1, 5, 5, 3, 3, 7, 3, 5, 5, 4, 6, 5, 7, 4, 5, 6, 4, 4, 7, 8, 4, 4, 5, 4, 4, 6, 4, 4, 6, 5, 3, 5, 5, 5, 5, 6, 7, 6, 4, 6, 7, 1, 4, 6, 7, 5, 3, 4, 5, 4, 3, 4, 3, 5, 5, 3, 3, 8, 5, 3, 4, 4, 3, 8, 6, 5, 4, 7, 4, 7, 4, 7, 4, 4, 5, 7, 7, 5, 4, 4, 8, 5, 5, 5, 7, 7, 5, 3, 4, 5, 7, 7, 3, 6, 4, 7, 6, 5, 5, 7, 4, 4, 7, 6, 3, 6, 6, 3, 6, 6, 7, 4, 7, 3, 4, 4, 8, 5, 5, 8, 4, 4, 5, 5, 6, 3, 7, 4, 6, 4, 3, 4, 6, 4, 3, 5, 5, 5, 2, 4, 4, 7, 7, 2, 4, 3, 4, 6, 6, 4, 6, 5, 6, 4, 6, 5, 6, 4, 2, 2, 5, 3, 5, 0, 7, 5, 8, 5, 6, 3, 3, 0, 5, 7, 5, 6, 6, 4, 5, 7, 7, 4, 5, 4, 3, 3, 5, 5, 5, 7, 3, 5, 7, 5, 7, 9, 7, 5, 4, 4, 5, 4, 5, 8, 6, 5, 5, 5, 6, 4, 5, 7, 6, 4, 2, 4, 6, 5, 4, 6, 5, 5, 5, 6, 4, 6, 1, 2, 8, 5, 5, 5, 5, 6, 5, 5, 8, 4, 6, 6, 3, 5, 3, 6, 8, 5, 4, 6, 7, 0, 6, 5, 4, 4, 5, 3, 3, 6, 7, 3, 7, 6, 6, 6, 7, 7, 5, 5, 5, 4, 4, 8, 6, 4, 5, 7, 5, 4, 4, 4, 5, 6, 6, 6, 4, 3, 5, 7, 4, 3, 4, 3, 2, 6, 6, 5, 4, 6, 7, 5, 4, 6, 7, 3, 5, 6, 1, 6, 6, 4, 1, 4, 4, 5, 7, 5, 5, 5, 4, 6, 6, 5, 4, 3, 5, 6, 5, 7, 2, 7, 7, 3, 7, 3, 5, 8, 8, 6, 7, 7, 6, 4, 5, 3, 5, 7, 8, 3, 6, 5, 4, 6, 5, 2, 5, 5, 3, 6, 6, 6, 5, 7, 7, 7, 4, 7, 1, 4, 7, 6, 2, 3, 3, 3, 4, 8, 6, 7, 7, 3, 3, 6, 6, 4, 1, 7, 5, 2, 5, 6, 5, 5, 4, 5, 4, 7, 5, 3, 8, 4, 7, 6, 5, 5, 4, 7, 2, 7, 4, 7, 3, 4, 7, 4, 5, 5, 5, 5, 4, 6, 6, 4, 2, 3, 4, 5, 5, 8, 6, 4, 4, 4, 6, 6, 3, 6, 5, 5, 5, 4, 7, 5, 4, 6, 4, 5, 4, 1, 5, 5, 4, 6, 5, 4, 6, 5, 5, 4, 5, 6, 6, 3, 8, 4, 3, 6, 6, 6, 4, 5, 6, 7, 4, 5, 6, 5, 3, 5, 4, 2, 8, 6, 5, 6, 7, 7, 5, 6, 6, 5, 6, 6, 7, 3, 4, 4, 5, 7, 6, 4, 6, 5, 3, 3, 6, 7, 6, 6, 5, 9, 4, 3, 6, 7, 4, 7, 4, 4, 6, 6, 3, 6, 6, 6, 3, 4, 6, 6, 4, 3, 4, 4, 5, 8, 6, 6, 6, 5, 4, 7, 7, 5, 9, 5, 8, 8, 6, 6, 5, 2, 6, 6, 4, 3, 9, 5, 6, 4, 5, 7, 5, 5, 6, 4, 3, 3, 6, 4, 5, 4, 4, 5, 6, 4, 6, 7, 3, 6, 4, 5, 5, 7, 5, 6, 3, 3, 4, 5, 7, 7, 2, 3, 6, 6, 6, 4, 3, 7, 5, 2, 0, 6, 6, 6, 5, 3, 3, 9, 6, 3, 4, 6, 5, 7, 4, 3, 4, 6, 4, 8, 3, 4, 6, 5, 3, 4, 4, 4, 3, 7, 1, 4, 3, 2, 4, 7, 9, 5, 5, 5, 7, 4, 5, 6, 4, 3, 6, 6, 6, 3, 3, 7, 5, 4, 1, 7, 3, 2, 7, 4, 6, 6, 2, 5, 6, 4, 4, 6, 7, 5, 5, 4, 5, 3, 3, 5, 7, 3, 6, 5, 4, 6, 2, 5, 7, 5, 6, 5, 5, 7, 5, 4, 5, 6, 5, 5, 4, 5, 5, 5, 1, 8, 5, 1, 3, 4, 3, 6, 5, 6, 5, 5, 6, 6, 4, 3, 6, 4, 5, 4, 7, 3, 6, 3, 3, 4, 3, 4, 6, 5, 5, 7, 5, 6, 5, 4, 6, 7, 5, 7, 4, 7, 6, 7, 4, 4, 4, 3, 6, 6, 3, 3, 6, 1, 4, 5, 4, 6, 5, 6, 8, 6, 4, 4, 3, 4, 2, 6, 8, 7, 6, 2, 5, 4, 6, 6, 5, 6, 6, 7, 6, 5, 5, 4, 7, 7, 3, 5, 3, 6, 3, 4, 5, 4, 4, 2, 6, 6, 6, 7, 5, 8, 6, 7, 5, 6, 4, 5, 7, 6, 3, 4, 3, 6, 6, 5, 2, 5, 4, 7, 6, 5, 6, 6, 5, 7, 6, 8, 6, 6, 3, 3, 6, 4, 6, 1, 4, 4, 4, 6, 7, 6, 5, 5, 5, 6, 6, 7, 6, 5, 5, 4, 5, 4, 5, 6, 4, 8, 6, 5, 5, 7, 4, 6, 3, 4, 3, 5, 5, 4, 3, 4, 4, 6, 2, 4, 5, 6, 3, 7, 8, 6, 5, 4, 6, 6, 4, 6, 5, 7, 5, 4, 5, 5, 4, 4, 5, 5, 4, 5, 6, 6, 2, 5, 2, 5, 8, 7, 5, 2, 6, 3, 5, 5, 7, 6, 4, 4, 5, 5, 2, 6, 2, 5, 5, 3, 4, 5, 4, 6, 6, 6, 6, 5, 4, 5, 6, 4, 6, 5, 4, 6, 3, 6, 7, 2, 2, 5, 4, 4, 4, 6, 5, 3, 7, 6, 4, 6, 4, 4, 6, 5, 6, 4, 6, 4, 7, 7, 4, 6, 3, 6, 5, 5, 4, 2, 3, 5, 6, 5, 5, 5, 2, 5, 4, 7, 8, 4, 5, 4, 5, 7, 5, 5, 4, 7, 3, 4, 7, 4, 7, 5, 5, 4, 5, 7, 3, 6, 6, 5, 5, 9, 3, 8, 3, 5, 6, 3, 4, 6, 4, 5, 8, 4, 6, 7, 6, 6, 5, 2, 4, 4, 6, 5, 4, 4, 6, 3, 6, 3, 6, 5, 5, 6, 6, 6, 6, 6, 6, 7, 3, 4, 6, 6, 3, 5, 5, 4, 6, 4, 3, 6, 5, 4, 8, 8, 6, 7, 5, 6, 5, 7, 5, 4, 4, 6, 8, 6, 5, 3, 6, 6, 5, 6, 7, 5, 7, 6, 7, 2, 4, 8, 5, 7, 8, 4, 3, 8, 7, 5, 6, 6, 8, 5, 6, 9, 6, 5, 5, 6, 7, 4, 6, 4, 5, 4, 7, 3, 5, 5, 6, 3, 3, 4, 5, 5, 5, 7, 2, 4, 5, 6, 7, 5, 6, 3, 3, 4, 4, 7, 4, 5, 4, 8, 5, 6, 5, 7, 7, 5, 7, 5, 5, 7, 5, 5, 8, 4, 5, 4, 5, 4, 6, 6, 4, 4, 8, 7, 7, 6, 4, 3, 5, 7, 4, 5, 4, 6, 5, 6, 7, 4, 5, 6, 4, 8, 4, 5, 4, 6, 6, 3, 5, 5, 3, 4, 4, 7, 7, 6, 7, 2, 2, 6, 9, 3, 5, 6, 4, 5, 4, 3, 5, 6, 7, 5, 7, 4, 6, 5, 8, 5, 6, 4, 6, 5, 4, 4, 7, 5, 4, 4, 3, 7, 6, 4, 5, 5, 7, 4, 3, 6, 2, 3, 5, 4, 4, 4, 4, 6, 5, 4, 3, 5, 6, 5, 3, 3, 3, 8, 6, 5, 7, 6, 6, 5, 5, 3, 3, 6, 7, 7, 1, 5, 7, 5, 8, 5, 4, 6, 5, 5, 3, 6, 4, 5, 5, 2, 5, 4, 5, 4, 5, 5, 4, 2, 3, 4, 5, 3, 4, 7, 5, 2, 3, 3, 8, 5, 3, 5, 2, 8, 8, 5, 5, 6, 5, 7, 5, 3, 3, 7, 3, 5, 6, 4, 5, 5, 4, 6, 7, 5, 7, 7, 4, 5, 7, 5, 6, 4, 5, 6, 5, 6, 7, 6, 5, 4, 5, 6, 5, 5, 6, 6, 7, 9, 6, 3, 6, 8, 7, 5, 3, 6, 2, 4, 5, 3, 6, 5, 6, 4, 3, 6, 5, 6, 6, 4, 4, 6, 5, 2, 8, 4, 4, 5, 3, 4, 4, 4, 6, 4, 2, 2, 5, 3, 5, 6, 6, 5, 7, 4, 5, 5, 6, 6, 6, 7, 6, 6, 5, 2, 6, 7, 4, 6, 6, 5, 6, 5, 7, 3, 4, 3, 5, 5, 1, 4, 7, 7, 6, 5, 2, 5, 6, 6, 4, 8, 6, 8, 3, 7, 7, 3, 7, 3, 4, 7, 4, 5, 7, 6, 7, 5, 4, 4, 5, 4, 4, 5, 6, 5, 7, 6, 7, 2, 3, 4, 6, 5, 4, 3, 4, 6, 5, 5, 6, 4, 3, 8, 8, 5, 6, 5, 5, 6, 2, 5, 5, 6, 9, 7, 5, 8, 5, 8, 6, 5, 5, 6, 7, 7, 3, 4, 4, 5, 4, 2, 6, 6, 6, 4, 4, 5, 7, 2, 8, 4, 4, 5, 8, 7, 4, 6, 5, 4, 3, 6, 3, 6, 4, 2, 3, 8, 4, 6, 6, 6, 8, 5, 4, 7, 5, 5, 3, 6, 4, 5, 5, 7, 7, 7, 5, 5, 8, 5, 4, 5, 2, 7, 5, 3, 4, 6, 5, 1, 4, 3, 5, 6, 7, 6, 5, 6, 5, 6, 6, 7, 8, 3, 1, 5, 3, 7, 6, 6, 4, 4, 7, 3, 6, 3, 3, 4, 4, 6, 3, 4, 4, 5, 8, 3, 5, 4, 5, 6, 5, 8, 6, 6, 5, 4, 3, 4, 5, 3, 4, 6, 5, 5, 5, 5, 8, 6, 3, 6, 3, 4, 6, 3, 4, 6, 6, 7, 3, 5, 6, 6, 4, 5, 5, 7, 6, 4, 5, 5, 3, 6, 9, 8, 6, 4, 7, 5, 3, 4, 4, 6, 5, 7, 2, 6, 8, 8, 2, 8, 3, 3, 4, 4, 5, 3, 5, 4, 7, 2, 4, 5, 5, 6, 6, 4, 6, 7, 5, 7, 5, 6, 7, 5, 5, 6, 5, 3, 8, 5, 4, 5, 4, 4, 4, 6, 7, 4, 2, 7, 5, 3, 5, 5, 8, 6, 6, 6, 4, 4, 8, 4, 5, 5, 2, 4, 5, 4, 1, 8, 6, 5, 6, 5, 6, 5, 4, 4, 4, 5, 2, 3, 6, 2, 4, 5, 4, 9, 5, 7, 3, 4, 5, 5, 3, 7, 6, 1, 5, 3, 3, 4, 4, 5, 4, 4, 5, 7, 4, 3, 5, 5, 5, 6, 3, 2, 5, 4, 4, 7, 5, 2, 5, 6, 4, 5, 5, 4, 5, 5, 5, 3, 2, 5, 3, 6, 7, 6, 5, 2, 7, 5, 6, 4, 6, 5, 6, 5, 6, 4, 3, 4, 5, 3, 5, 5, 3, 6, 6, 3, 5, 7, 5, 4, 2, 6, 5, 8, 4, 5, 7, 3, 6, 5, 4, 6, 6, 3, 4, 6, 4, 5, 2, 5, 4, 3, 4, 1, 5, 6, 5, 3, 4, 6, 5, 4, 2, 6, 6, 8, 6, 4, 4, 6, 7, 4, 4, 6, 5, 5, 8, 6, 4, 6, 4, 5, 4, 4, 5, 1, 2, 4, 4, 4, 5, 7, 6, 6, 5, 6, 4, 5, 3, 6, 5, 3, 6, 6, 4, 2, 2, 4, 4, 4, 7, 5, 3, 2, 6, 4, 4, 5, 6, 6, 3, 4, 6, 7, 8, 5, 5, 3, 3, 6, 1, 6, 4, 4, 6, 7, 5, 5, 5, 3, 4, 4, 7, 2, 3, 4, 3, 5, 5, 5, 4, 5, 4, 6, 6, 5, 6, 3, 7, 8, 6, 5, 2, 6, 5, 4, 7, 7, 6, 4, 4, 3, 4, 6, 5, 7, 2, 6, 4, 1, 6, 6, 7, 5, 4, 6, 2, 3, 5, 8, 4, 6, 3, 6, 8, 4, 7, 4, 6, 3, 6, 3, 5, 5, 4, 4, 8, 4, 6, 4, 8, 6, 6, 6, 6, 6, 3, 2, 1, 5, 3, 7, 6, 6, 7, 7, 5, 5, 6, 4, 7, 3, 5, 7, 5, 4, 4, 4, 4, 3, 6, 4, 5, 5, 6, 3, 5, 5, 5, 7, 6, 2, 5, 3, 5, 4, 7, 7, 5, 5, 3, 2, 7, 5, 7, 3, 3, 5, 4, 4, 3, 6, 4, 3, 4, 5, 5, 5, 3, 4, 5, 6, 6, 6, 5, 7, 6, 8, 5, 4, 2, 4, 7, 7, 3, 5, 4, 4, 7, 7, 4, 7, 7, 6, 5, 8, 4, 7, 5, 5, 5, 6, 1, 5, 5, 2, 9, 4, 7, 9, 7, 4, 8, 4, 4, 4, 4, 6, 7, 6, 8, 7, 8, 7, 3, 8, 5, 5, 7, 5, 3, 9, 4, 4, 2, 2, 6, 5, 3, 8, 5, 4, 6, 5, 7, 6, 5, 5, 3, 4, 4, 1, 4, 4, 5, 4, 3, 4, 4, 7, 5, 5, 7, 6, 5, 7, 4, 8, 4, 2, 5, 2, 2, 5, 6, 6, 6, 4, 3, 5, 7, 7, 5, 7, 4, 6, 8, 4, 7, 6, 4, 5, 3, 4, 5, 5, 2, 6, 6, 6, 5, 5, 7, 5, 7, 5, 5, 5, 6, 6, 3, 4, 4, 7, 7, 4, 5, 8, 5, 4, 6, 7, 6, 6, 6, 8, 4, 5, 5, 7, 6, 5, 2, 4, 4, 8, 7, 5, 3, 6, 3, 7, 3, 6, 5, 5, 7, 5, 7, 5, 5, 7, 7, 6, 8, 4, 3, 8, 3, 5, 3, 6, 8, 5, 8, 9, 5, 2, 5, 6, 7, 6, 4, 5, 6, 6, 7, 2, 5, 4, 6, 7, 4, 4, 2, 6, 5, 6, 5, 4, 6, 3, 7, 4, 5, 3, 4, 7, 5, 5, 5, 4, 2, 5, 5, 3, 4, 6, 1, 6, 7, 4, 5, 4, 4, 8, 6, 5, 7, 6, 6, 4, 6, 7, 6, 5, 2, 4, 6, 5, 7, 7, 5, 5, 7, 7, 5, 6, 6, 5, 3, 6, 7, 3, 6, 4, 6, 7, 5, 5, 8, 5, 6, 7, 3, 3, 4, 6, 5, 6, 6, 4, 4, 5, 5, 1, 6, 8, 2, 7, 4, 3, 7, 5, 4, 4, 2, 8, 7, 6, 5, 6, 4, 6, 6, 3, 3, 7, 5, 7, 8, 4, 4, 5, 5, 4, 8, 6, 2, 5, 3, 3, 5, 6, 6, 8, 6, 8, 5, 6, 1, 4, 2, 5, 8, 6, 6, 3, 4, 4, 4, 5, 6, 3, 5, 4, 5, 1, 4, 2, 5, 6, 4, 3, 8, 9, 6, 5, 5, 3, 7, 2, 4, 6, 6, 7, 5, 6, 6, 7, 4, 5, 4, 8, 5, 6, 4, 3, 7, 7, 5, 3, 6, 6, 6, 3, 5, 7, 6, 4, 7, 6, 4, 5, 8, 6, 5, 7, 3, 5, 6, 5, 7, 5, 7, 5, 4, 5, 4, 6, 5, 3, 9, 8, 6, 2, 3, 5, 5, 4, 5, 6, 8, 6, 6, 7, 4, 7, 6, 6, 3, 4, 7, 7, 3, 4, 1, 7, 5, 3, 5, 1, 2, 4, 6, 5, 5, 6, 5, 3, 4, 4, 6, 6, 4, 5, 6, 4, 7, 6, 6, 1, 3, 7, 7, 6, 3, 7, 2, 4, 1, 3, 4, 6, 2, 5, 5, 5, 5, 4, 4, 6, 5, 5, 5, 5, 5, 4, 2, 6, 7, 5, 4, 4, 8, 5, 5, 5, 5, 5, 2, 7, 7, 6, 3, 3, 6, 3, 6, 5, 6, 3, 7, 5, 5, 6, 4, 4, 4, 6, 7, 3, 3, 4, 8, 5, 8, 6, 2, 3, 2, 4, 9, 4, 3, 7, 7, 6, 7, 5, 6, 4, 6, 5, 2, 3, 4, 7, 4, 5, 6, 3, 4, 4, 2, 6, 5, 2, 6, 5, 3, 6, 4, 7, 6, 5, 2, 4, 6, 7, 6, 8, 5, 3, 6, 5, 3, 7, 7, 5, 10, 5, 6, 4, 5, 6, 4, 6, 8, 4, 6, 5, 5, 5, 4, 4, 8, 4, 7, 6, 7, 3, 8, 3, 5, 3, 4, 6, 6, 2, 7, 4, 8, 5, 7, 4, 4, 2, 4, 3, 5, 6, 5, 5, 5, 3, 5, 6, 6, 6, 5, 3, 5, 2, 5, 4, 5, 5, 6, 6, 6, 5, 7, 8, 7, 5, 4, 3, 5, 5, 8, 8, 7, 5, 5, 5, 4, 2, 5, 5, 8, 5, 5, 4, 4, 5, 6, 4, 4, 5, 7, 7, 6, 7, 6, 4, 5, 5, 4, 5, 5, 4, 5, 3, 6, 2, 6, 7, 4, 5, 6, 3, 6, 3, 6, 7, 3, 6, 5, 5, 8, 8, 7, 4, 8, 2, 5, 7, 7, 5, 4, 5, 6, 4, 7, 5, 7, 8, 6, 2, 4, 6, 6, 5, 2, 5, 6, 3, 6, 4, 6, 5, 7, 4, 5, 4, 5, 4, 6, 6, 5, 5, 6, 4, 6, 6, 6, 4, 3, 5, 4, 3, 6, 4, 3, 4, 7, 4, 4, 3, 4, 3, 6, 3, 5, 5, 4, 5, 8, 4, 6, 4, 3, 7, 5, 5, 3, 3, 6, 6, 8, 4, 5, 5, 4, 7, 7, 6, 4, 4, 5, 4, 4, 3, 6, 5, 6, 3, 4, 6, 6, 4, 5, 4, 4, 5, 2, 6, 5, 9, 5, 7, 5, 8, 5, 6, 3, 4, 5, 5, 1, 4, 5, 2, 5, 8, 4, 4, 5, 5, 3, 7, 5, 3, 4, 4, 3, 4, 2, 7, 5, 4, 5, 4, 5, 3, 4, 4, 5, 6, 6, 6, 6, 5, 3, 5, 1, 3, 5, 5, 2, 4, 5, 7, 3, 5, 3, 4, 7, 4, 8, 6, 7, 6, 7, 3, 3, 4, 3, 4, 3, 3, 4, 8, 4, 3, 4, 6, 7, 7, 2, 3, 5, 5, 1, 5, 5, 6, 9, 2, 4, 5, 6, 4, 5, 4, 6, 7, 7, 3, 5, 5, 8, 9, 6, 2, 4, 4, 6, 6, 3, 5, 6, 8, 5, 3, 5, 7, 4, 6, 5, 8, 3, 4, 3, 3, 5, 2, 8, 4, 7, 7, 4, 6, 4, 5, 6, 5, 5, 3, 5, 3, 5, 4, 4, 4, 5, 7, 6, 5, 4, 3, 5, 6, 4, 6, 5, 5, 4, 2, 5, 5, 7, 5, 2, 2, 8, 3, 6, 5, 4, 4, 5, 4, 2, 3, 6, 5, 5, 5, 3, 5, 5, 5, 7, 9, 5, 2, 5, 3, 5, 7, 4, 5, 6, 4, 6, 5, 7, 3, 7, 4, 5, 6, 4, 5, 5, 5, 2, 5, 6, 3, 7, 2, 4, 5, 2, 6, 7, 7, 4, 8, 5, 6, 7, 6, 4, 3, 3, 8, 6, 7, 4, 7, 5, 6, 4, 6, 6, 5, 8, 5, 4, 6, 6, 7, 6, 7, 4, 6, 6, 8, 7, 4, 5, 5, 6, 4, 4, 4, 6, 4, 4, 8, 7, 6, 6, 3, 6, 3, 2, 2, 5, 5, 5, 5, 4, 4, 4, 4, 2, 5, 6, 4, 6, 6, 7, 2, 7, 6, 4, 4, 4, 7, 4, 7, 6, 3, 3, 8, 6, 4, 5, 3, 5, 6, 5, 5, 4, 4, 6, 5, 4, 7, 5, 4, 5, 3, 7, 3, 7, 5, 5, 6, 6, 7, 7, 4, 2, 6, 3, 6, 7, 3, 3, 6, 7, 5, 6, 4, 5, 5, 5, 5, 4, 6, 4, 6, 4, 6, 4, 4, 5, 4, 4, 7, 5, 4, 5, 3, 5, 6, 7, 6, 5, 5, 4, 3, 4, 6, 5, 6, 2, 7, 8, 6, 7, 3, 6, 2, 5, 7, 6, 6, 6, 8, 7, 3, 4, 4, 5, 3, 6, 6, 4, 5, 6, 5, 8, 6, 3, 4, 7, 6, 5, 4, 6, 4, 5, 5, 5, 5, 6, 4, 7, 6, 6, 6, 2, 5, 6, 5, 4, 2, 3, 2, 5, 4, 4, 4, 4, 8, 4, 5, 4, 3, 8, 5, 4, 7, 5, 5, 4, 5, 7, 5, 8, 3, 5, 3, 5, 6, 5, 7, 3, 2, 6, 2, 8, 6, 4, 6, 8, 4, 4, 4, 6, 5, 7, 5, 4, 4, 2, 2, 5, 5, 5, 6, 8, 3, 5, 5, 6, 7, 6, 5, 5, 3, 4, 6, 3, 5, 4, 2, 3, 4, 4, 5, 5, 5, 4, 5, 8, 6, 6, 4, 5, 5, 5, 2, 4, 4, 6, 5, 8, 2, 6, 7, 5, 5, 6, 2, 4, 5, 4, 7, 6, 2, 4, 4, 4, 5, 5, 7, 6, 7, 2, 4, 6, 4, 4, 5, 4, 6, 6, 5, 4, 7, 5, 4, 4, 6, 4, 4, 6, 6, 8, 7, 4, 6, 5, 7, 6, 5, 4, 7, 4, 5, 7, 7, 5, 4, 4, 7, 6, 2, 5, 5, 6, 3, 5, 4, 3, 4, 4, 6, 6, 3, 6, 6, 5, 3, 4, 4, 5, 7, 3, 3, 4, 7, 6, 6, 6, 6, 6, 4, 8, 4, 6, 6, 5, 8, 4, 6, 6, 5, 2, 3, 5, 4, 5, 7, 6, 7, 6, 4, 5, 5, 6, 6, 2, 9, 7, 4, 6, 6, 3, 5, 6, 4, 5, 8, 2, 5, 5, 3, 10, 7, 6, 8, 5, 5, 5, 4, 5, 8, 6, 6, 4, 5, 3, 4, 5, 7, 5, 3, 5, 6, 6, 5, 2, 3, 6, 3, 5, 6, 6, 7, 7, 5, 5, 3, 4, 4, 4, 6, 8, 4, 6, 6, 4, 5, 8, 7, 6, 4, 2, 7, 3, 7, 5, 4, 6, 3, 5, 4, 6, 3, 4, 4, 5, 7, 5, 0, 2, 4, 5, 5, 6, 6, 4, 4, 3, 7, 2, 6, 4, 6, 4, 6, 5, 3, 4, 4, 6, 4, 3, 8, 5, 6, 3, 6, 5, 5, 7, 4, 2, 8, 5, 3, 6, 7, 5, 7, 6, 8, 5, 5, 6, 4, 3, 6, 4, 4, 10, 6, 3, 4, 5, 3, 5, 5, 2, 3, 4, 7, 4, 2, 5, 2, 4, 6, 5, 7, 4, 5, 5, 6, 4, 5, 5, 4, 5, 4, 4, 7, 4, 2, 2, 4, 7, 8, 3, 6, 1, 2, 4, 5, 6, 4, 6, 3, 5, 5, 3, 6, 6, 5, 4, 4, 8, 3, 5, 6, 3, 7, 4, 8, 5, 4, 7, 5, 4, 6, 4, 4, 6, 4, 5, 3, 5, 7, 5, 5, 3, 7, 6, 6, 5, 4, 2, 6, 3, 5, 0, 7, 5, 3, 6, 6, 6, 6, 5, 3, 3, 5, 4, 5, 3, 7, 8, 6, 7, 4, 4, 4, 7, 6, 7, 6, 5, 2, 2, 5, 5, 6, 5, 5, 7, 6, 7, 6, 6, 5, 3, 7, 4, 5, 7, 5, 7, 5, 3, 6, 5, 4, 3, 4, 5, 2, 6, 3, 5, 6, 5, 4, 3, 4, 4, 5, 5, 4, 4, 6, 7, 5, 4, 7, 8, 3, 3, 5, 5, 5, 6, 7, 4, 4, 3, 5, 8, 4, 7, 3, 3, 5, 4, 5, 4, 6, 5, 3, 7, 2, 3, 2, 7, 5, 5, 5, 7, 5, 7, 7, 5, 7, 5, 6, 6, 3, 8, 4, 5, 8, 5, 5, 5, 8, 2, 9, 4, 4, 4, 6, 4, 4, 6, 2, 6, 3, 6, 5, 5, 5, 5, 5, 8, 3, 5, 6, 7, 4, 7, 4, 4, 2, 5, 5, 6, 6, 5, 7, 6, 6, 6, 4, 7, 4, 6, 3, 4, 8, 4, 5, 5, 1, 4, 6, 5, 6, 5, 9, 6, 5, 4, 5, 6, 1, 8, 2, 5, 5, 4, 7, 8, 9, 7, 5, 5, 7, 4, 5, 6, 6, 4, 3, 4, 4, 6, 4, 4, 6, 7, 7, 7, 1, 5, 2, 6, 5, 5, 1, 6, 6, 7, 4, 5, 4, 5, 4, 4, 5, 4, 2, 4, 9, 3, 7, 5, 6, 6, 3, 4, 3, 7, 3, 2, 8, 7, 3, 7, 6, 6, 7, 6, 5, 4, 4, 5, 8, 6, 6, 2, 4, 7, 6, 6, 6, 6, 5, 6, 6, 5, 5, 4, 2, 4, 5, 9, 5, 4, 4, 2, 4, 7, 5, 5, 5, 6, 3, 3, 3, 5, 5, 5, 6, 5, 3, 6, 5, 5, 7, 4, 5, 5, 6, 7, 6, 5, 4, 6, 5, 5, 5, 3, 3, 4, 3, 5, 2, 4, 6, 4, 6, 6, 4, 5, 3, 4, 6, 2, 6, 3, 3, 7, 7, 6, 5, 4, 3, 4, 3, 5, 4, 5, 5, 5, 5, 7, 4, 3, 4, 7, 7, 7, 5, 8, 2, 5, 4, 7, 7, 4, 6, 3, 5, 6, 3, 5, 3, 8, 4, 4, 6, 3, 5, 7, 6, 5, 7, 3, 5, 5, 8, 6, 1, 6, 4, 6, 4, 4, 4, 5, 4, 5, 7, 7, 4, 5, 7, 6, 3, 4, 4, 6, 3, 6, 6, 3, 5, 6, 4, 3, 7, 6, 7, 7, 4, 7, 6, 4, 2, 5, 5, 4, 8, 5, 6, 7, 3, 3, 8, 6, 6, 4, 8, 5, 2, 7, 3, 4, 5, 2, 4, 5, 9, 6, 7, 2, 5, 4, 4, 8, 4, 4, 7, 5, 7, 3, 6, 1, 5, 6, 3, 4, 6, 5, 5, 5, 6, 2, 7, 5, 6, 6, 4, 8, 5, 6, 4, 2, 8, 6, 8, 3, 2, 5, 4, 4, 3, 6, 3, 4, 3, 3, 6, 3, 4, 4, 3, 5, 5, 7, 5, 5, 6, 5, 8, 5, 5, 5, 6, 6, 5, 5, 4, 4, 8, 6, 4, 4, 6, 6, 6, 5, 5, 5, 7, 4, 5, 4, 6, 3, 6, 4, 7, 4, 4, 6, 3, 5, 7, 4, 6, 4, 4, 7, 3, 8, 3, 8, 4, 3, 8, 6, 4, 5, 4, 7, 3, 6, 3, 4, 6, 4, 5, 5, 4, 6, 3, 4, 4, 4, 4, 5, 4, 5, 5, 8, 5, 4, 6, 4, 5, 6, 3, 6, 3, 3, 7, 4, 4, 5, 2, 4, 2, 7, 6, 7, 7, 6, 3, 2, 8, 5, 4, 5, 5, 5, 3, 7, 5, 4, 7, 3, 4, 5, 4, 8, 2, 3, 2, 4, 6, 6, 5, 4, 8, 6, 5, 5, 6, 4, 4, 3, 4, 7, 5, 6, 7, 5, 1, 8, 8, 5, 1, 7, 4, 3, 4, 3, 3, 5, 4, 6, 7, 3, 4, 8, 4, 7, 4, 5, 4, 5, 6, 5, 3, 7, 5, 5, 9, 4, 3, 6, 3, 3, 6, 7, 5, 4, 3, 2, 6, 5, 3, 6, 6, 6, 3, 4, 7, 3, 6, 5, 5, 2, 7, 3, 4, 6, 4, 5, 5, 4, 3, 5, 5, 3, 5, 5, 4, 5, 4, 7, 5, 8, 7, 7, 4, 3, 6, 2, 5, 3, 2, 5, 3, 5, 3, 7, 3, 5, 4, 5, 5, 4, 5, 7, 5, 6, 4, 5, 4, 4, 3, 5, 4, 6, 8, 6, 3, 3, 5, 7, 3, 5, 6, 6, 6, 6, 6, 2, 3, 4, 2, 3, 3, 5, 4, 6, 7, 3, 7, 7, 5, 3, 6, 5, 2, 7, 4, 3, 3, 4, 5, 5, 7, 4, 5, 3, 8, 5, 6, 4, 4, 4, 6, 3, 5, 5, 5, 5, 3, 3, 3, 5, 7, 6, 5, 3, 2, 5, 6, 7, 7, 5, 5, 3, 4, 7, 5, 5, 3, 4, 6, 6, 5, 6, 7, 4, 8, 5, 3, 6, 5, 3, 6, 5, 3, 4, 5, 2, 5, 6, 5, 5, 4, 5, 6, 8, 7, 7, 4, 5, 7, 4, 7, 7, 4, 7, 3, 5, 6, 4, 5, 3, 8, 4, 8, 4, 4, 3, 7, 2, 4, 7, 4, 7, 7, 7, 7, 5, 4, 7, 6, 5, 6, 3, 8, 3, 3, 5, 3, 5, 5, 3, 5, 3, 4, 5, 1, 5, 5, 5, 6, 6, 3, 4, 7, 5, 4, 7, 5, 6, 4, 5, 6, 5, 5, 3, 5, 2, 5, 5, 5, 5, 4, 4, 7, 5, 5, 7, 5, 4, 4, 5, 7, 5, 4, 6, 8, 8, 4, 7, 5, 7, 6, 6, 5, 6, 0, 5, 5, 6, 3, 4, 5, 6, 6, 4, 5, 4, 6, 7, 5, 5, 4, 5, 8, 6, 5, 5, 8, 7, 4, 4, 4, 5, 5, 4, 5, 4, 5, 5, 6, 4, 6, 5, 7, 6, 4, 5, 3, 6, 6, 4, 3, 7, 7, 3, 9, 3, 4, 4, 6, 7, 3, 3, 5, 3, 3, 4, 5, 7, 7, 4, 2, 3, 5, 4, 6, 6, 7, 6, 5, 7, 3, 2, 3, 4, 3, 5, 6, 5, 5, 7, 5, 5, 3, 4, 6, 9, 6, 4, 4, 5, 5, 5, 3, 5, 6, 8, 4, 8, 6, 4, 5, 1, 2, 4, 1, 7, 4, 6, 4, 6, 6, 5, 4, 3, 8, 4, 1, 4, 4, 8, 4, 5, 5, 7, 6, 6, 5, 5, 5, 6, 9, 3, 2, 2, 4, 6, 7, 6, 3, 5, 5, 3, 6, 6, 5, 6, 3, 7, 4, 5, 7, 6, 6, 4, 4, 4, 8, 7, 6, 7, 7, 4, 5, 3, 7, 8, 4, 4, 5, 4, 4, 5, 4, 4, 5, 8, 4, 6, 8, 4, 5, 7, 4, 3, 4, 6, 8, 5, 8, 4, 4, 5, 7, 4, 8, 5, 5, 7, 6, 5, 4, 6, 3, 8, 7, 6, 7, 7, 5, 5, 4, 5, 4, 6, 5, 6, 7, 4, 5, 7, 5, 5, 6, 7, 4, 2, 4, 6, 3, 7, 6, 6, 5, 4, 4, 6, 4, 5, 4, 3, 4, 5, 6, 5, 5, 2, 4, 4, 4, 8, 2, 7, 4, 5, 3, 2, 3, 6, 4, 4, 7, 5, 6, 4, 4, 2, 6, 3, 3, 7, 6, 4, 7, 2, 6, 6, 3, 5, 7, 6, 1, 5, 7, 4, 5, 4, 4, 4, 5, 3, 5, 5, 4, 8, 4, 5, 4, 6, 4, 9, 4, 6, 4, 5, 9, 5, 5, 3, 6, 7, 3, 6, 4, 4, 5, 4, 6, 5, 3, 4, 7, 6, 4, 4, 3, 5, 7, 3, 6, 6, 6, 5, 3, 1, 6, 5, 4, 8, 6, 6, 6, 5, 4, 4, 5, 5, 5, 6, 6, 5, 6, 7, 8, 6, 4, 4, 6, 4, 5, 6, 6, 5, 3, 4, 3, 6, 2, 4, 3, 2, 6, 5, 6, 6, 3, 4, 3, 9, 8, 5, 5, 4, 8, 6, 6, 2, 7, 6, 2, 5, 3, 4, 5, 4, 5, 6, 4, 9, 7, 7, 6, 4, 3, 7, 5, 4, 3, 5, 4, 6, 3, 3, 2, 6, 3, 6, 7, 5, 6, 4, 5, 3, 3, 5, 5, 3, 9, 5, 4, 2, 3, 7, 5, 2, 7, 3, 6, 4, 5, 3, 6, 7, 3, 5, 5, 3, 5, 4, 6, 6, 5, 4, 6, 5, 5, 5, 4, 6, 5, 6, 5, 5, 7, 5, 10, 4, 6, 5, 2, 4, 5, 8, 8, 7, 4, 5, 5, 5, 6, 4, 5, 7, 8, 4, 6, 3, 5, 6, 9, 5, 5, 2, 3, 5, 3, 6, 3, 5, 4, 6, 4, 6, 8, 3, 4, 5, 1, 5, 7, 5, 5, 5, 1, 5, 4, 5, 5, 5, 2, 6, 6, 3, 3, 8, 6, 6, 6, 8, 6, 7, 4, 8, 6, 5, 6, 4, 5, 3, 5, 4, 5, 3, 5, 5, 7, 6, 8, 6, 4, 4, 5, 4, 6, 4, 5, 2, 5, 5, 6, 5, 7, 5, 4, 7, 4, 3, 6, 6, 3, 5, 5, 7, 4, 4, 4, 5, 5, 8, 5, 6, 4, 4, 6, 6, 5, 7, 4, 4, 4, 2, 2, 5, 5, 6, 6, 3, 4, 5, 3, 6, 3, 8, 7, 2, 5, 3, 4, 2, 5, 4, 5, 8, 5, 6, 5, 5, 6, 5, 5, 6, 6, 4, 4, 5, 9, 7, 3, 6, 5, 5, 6, 5, 7, 3, 4, 3, 7, 6, 5, 4, 8, 6, 7, 4, 3, 7, 7, 7, 5, 3, 3, 6, 3, 5, 5, 8, 4, 5, 5, 2, 10, 4, 4, 7, 4, 5, 5, 5, 4, 4, 3, 6, 3, 4, 4, 6, 4, 8, 4, 8, 7, 3, 4, 6, 4, 5, 6, 5, 5, 5, 3, 8, 4, 4, 5, 6, 5, 5, 7, 5, 7, 4, 6, 7, 8, 3, 2, 4, 4, 5, 5, 6, 3, 5, 2, 4, 5, 6, 5, 3, 7, 5, 7, 7, 6, 2, 3, 5, 3, 5, 7, 5, 8, 8, 6, 4, 5, 6, 6, 6, 5, 5, 4, 8, 8, 4, 5, 7, 3, 4, 2, 5, 3, 5, 4, 8, 3, 5, 6, 3, 3, 1, 3, 5, 6, 6, 4, 9, 5, 9, 3, 4, 4, 4, 5, 7, 4, 6, 4, 6, 6, 6, 5, 3, 6, 4, 4, 6, 5, 5, 8, 5, 5, 2, 7, 6, 6, 4, 5, 2, 4, 4, 2, 5, 6, 4, 4, 7, 6, 6, 8, 4, 4, 6, 4, 8, 4, 4, 7, 5, 4, 5, 6, 5, 6, 5, 6, 5, 5, 5, 8, 4, 4, 3, 5, 6, 4, 7, 5, 3, 8, 5, 5, 5, 6, 4, 5, 5, 6, 6, 5, 3, 5, 7, 3, 6, 4, 5, 4, 7, 5, 7, 5, 4, 2, 5, 5, 5, 6, 6, 4, 7, 6, 5, 5, 6, 4, 3, 6, 3, 6, 7, 6, 6, 5, 6, 7, 5, 5, 4, 6, 6, 9, 6, 6, 5, 4, 8, 4, 6, 3, 4, 5, 6, 5, 7, 6, 7, 7, 7, 7, 3, 5, 4, 4, 4, 3, 2, 4, 8, 5, 3, 1, 6, 6, 5, 5, 5, 6, 6, 5, 7, 5, 6, 7, 4, 4, 3, 4, 7, 6, 7, 4, 1, 6, 7, 5, 3, 5, 4, 7, 3, 5, 5, 7, 6, 6, 1, 6, 6, 3, 6, 5, 4, 5, 2, 3, 7, 5, 5, 5, 6, 2, 5, 7, 6, 5, 4, 2, 5, 6, 7, 5, 2, 6, 2, 5, 6, 1, 5, 4, 4, 7, 4, 5, 7, 6, 6, 4, 6, 4, 5, 7, 6, 4, 3, 7, 6, 5, 2, 3, 6, 6, 5, 5, 6, 7, 4, 2, 6, 9, 4, 4, 9, 3, 6, 5, 2, 4, 5, 7, 3, 7, 5, 3, 3, 5, 2, 6, 4, 6, 3, 5, 6, 6, 2, 7, 5, 7, 4, 4, 8, 5, 5, 6, 3, 4, 7, 3, 8, 3, 6, 4, 5, 5, 7, 6, 4, 7, 4, 3, 4, 7, 6, 7, 4, 7, 4, 6, 5, 8, 3, 6, 7, 7, 5, 3, 6, 6, 3, 6, 6, 2, 6, 3, 6, 7, 7, 6, 4, 3, 6, 2, 6, 4, 7, 2, 5, 3, 4, 5, 7, 4, 4, 5, 4, 6, 5, 6, 3, 5, 7, 4, 6, 6, 6, 5, 3, 3, 5, 5, 6, 6, 2, 3, 6, 5, 4, 3, 5, 5, 3, 6, 3, 4, 4, 6, 7, 4, 4, 5, 5, 4, 6, 2, 4, 4, 8, 4, 4, 6, 5, 5, 2, 6, 5, 6, 4, 7, 4, 7, 6, 7, 2, 5, 5, 7, 4, 6, 6, 6, 5, 3, 5, 5, 6, 7, 3, 8, 7, 2, 4, 8, 4, 6, 5, 7, 4, 5, 5, 5, 7, 5, 4, 4, 5, 5, 6, 6, 5, 2, 3, 4, 5, 6, 8, 6, 3, 5, 5, 6, 4, 7, 6, 3, 5, 5, 3, 4, 4, 5, 4, 4, 4, 3, 2, 5, 6, 5, 6, 6, 6, 7, 4, 5, 5, 4, 3, 6, 2, 4, 7, 3, 4, 5, 4, 3, 6, 7, 3, 6, 6, 4, 6, 5, 4, 6, 7, 3, 6, 2, 5, 4, 6, 2, 5, 5, 6, 5, 3, 6, 7, 7, 4, 4, 7, 7, 6, 6, 3, 5, 4, 5, 8, 3, 5, 3, 4, 3, 3, 7, 6, 2, 6, 5, 5, 6, 3, 4, 4, 6, 6, 3, 6, 5, 4, 3, 2, 7, 5, 4, 6, 3, 7, 6, 6, 4, 7, 6, 7, 4, 5, 5, 3, 6, 4, 5, 6, 5, 3, 5, 4, 4, 6, 7, 5, 6, 6, 3, 8, 6, 4, 6, 7, 6, 5, 3, 5, 5, 5, 5, 6, 5, 2, 5, 4, 2, 3, 5, 3, 4, 7, 6, 3, 5, 7, 4, 4, 6, 4, 5, 7, 3, 5, 9, 6, 8, 5, 4, 5, 7, 6, 4, 6, 2, 7, 2, 4, 5, 4, 4, 7, 6, 5, 6, 3, 3, 3, 5, 4, 3, 4, 7, 3, 5, 5, 7, 6, 1, 3, 4, 4, 4, 6, 5, 6, 5, 6, 7, 8, 6, 5, 6, 6, 4, 8, 5, 8, 6, 5, 5, 6, 8, 7, 6, 7, 4, 4, 4, 5, 6, 5, 3, 7, 6, 6, 3, 4, 4, 4, 4, 7, 6, 6, 2, 5, 4, 5, 5, 5, 4, 4, 5, 3, 5, 5, 7, 5, 4, 4, 6, 5, 5, 6, 2, 5, 5, 5, 3, 6, 6, 3, 5, 6, 7, 6, 7, 5, 4, 4, 7, 8, 3, 5, 6, 4, 6, 6, 3, 4, 3, 4, 7, 5, 7, 4, 4, 7, 5, 2, 5, 2, 3, 4, 4, 2, 4, 5, 7, 6, 4, 5, 6, 5, 4, 6, 6, 4, 5, 5, 4, 7, 5, 6, 5, 5, 5, 4, 5, 6, 4, 6, 7, 3, 6, 4, 5, 4, 4, 6, 3, 4, 5, 5, 5, 4, 5, 3, 3, 5, 4, 4, 7, 5, 4, 6, 6, 7, 4, 6, 7, 7, 6, 6, 6, 4, 6, 6, 5, 3, 4, 4, 5, 4, 5, 4, 3, 3, 6, 4, 4, 4, 2, 2, 4, 7, 4, 8, 6, 4, 5, 6, 4, 7, 4, 6, 2, 3, 4, 4, 3, 6, 4, 5, 4, 5, 4, 5, 6, 7, 8, 3, 4, 4, 6, 7, 4, 3, 7, 3, 5, 5, 5, 5, 5, 5, 6, 8, 4, 4, 3, 4, 4, 6, 3, 2, 6, 9, 5, 8, 6, 8, 3, 4, 8, 7, 5, 4, 7, 4, 4]\n"
          ]
        },
        {
          "data": {
            "image/png": "[encoded data removed]",
            "text/plain": [
              "<Figure size 432x288 with 1 Axes>"
            ]
          },
          "metadata": {},
          "output_type": "display_data"
        }
      ],
      "source": [
        "%matplotlib inline\n",
        "import matplotlib.pyplot as plt\n",
        "import numpy as np \n",
        "np.random.seed(123)\n",
        "final_tails = []\n",
        "for x in range(10000):\n",
        "    tails = [0]\n",
        "    for x in range(10):\n",
        "        coin = np.random.randint(0, 2)\n",
        "        tails.append(tails[x]+coin)\n",
        "    final_tails.append(tails[-1]) \n",
        "print(final_tails)\n",
        "plt.hist(final_tails,bins=20) \n",
        "plt.show()\n",
        "\n"
      ]
    },
    {
      "cell_type": "code",
      "execution_count": null,
      "metadata": {
        "id": "PlYkDZxx0YYS",
        "outputId": "a45de653-249a-4339-def3-5cf595f7f2a6"
      },
      "outputs": [
        {
          "data": {
            "image/png": "[encoded data removed]",
            "text/plain": [
              "<Figure size 432x288 with 1 Axes>"
            ]
          },
          "metadata": {},
          "output_type": "display_data"
        }
      ],
      "source": [
        "import numpy as np \n",
        "import matplotlib.pyplot as plt\n",
        "all_walks = []\n",
        "for i in range(100000) :\n",
        "    random_walk = [0]\n",
        "    for x in range(100) :\n",
        "        step = random_walk[-1]\n",
        "        dice = np.random.randint(1,7)\n",
        "        if dice <= 2:\n",
        "            step = max(0, step - 1)\n",
        "        elif dice <= 5:\n",
        "            step = step + 1\n",
        "        else:\n",
        "            step = step + np.random.randint(1,7)\n",
        "        \n",
        "        random_walk.append(step)\n",
        "    all_walks.append(random_walk)\n",
        "\n",
        "# Create and plot np_aw_t\n",
        "np_aw_t = np.transpose(np.array(all_walks))\n",
        "\n",
        "# Select last row from np_aw_t: ends\n",
        "end = np_aw_t[-1,:]\n",
        "\n",
        "# Plot histogram of ends, display plot\n",
        "plt.hist(end,bins=10) \n",
        "plt.show()\n"
      ]
    },
    {
      "cell_type": "code",
      "execution_count": null,
      "metadata": {
        "id": "AkGXF4IS0YYT",
        "outputId": "f877538f-6485-41b6-9501-5483ef7249a5"
      },
      "outputs": [
        {
          "name": "stdout",
          "output_type": "stream",
          "text": [
            "[ True False False  True  True False  True  True]\n"
          ]
        }
      ],
      "source": [
        "import numpy as np\n",
        "temperature = np.array([25.45,23.52,24.46,38.4,32.5,24.96,28.97,30.2])\n",
        "print(temperature>25)"
      ]
    },
    {
      "cell_type": "code",
      "execution_count": null,
      "metadata": {
        "collapsed": true,
        "id": "Bu8ciAXL0YYU"
      },
      "outputs": [],
      "source": [
        ""
      ]
    }
  ],
  "metadata": {
    "kernelspec": {
      "display_name": "Python 3",
      "language": "python",
      "name": "python3"
    },
    "language_info": {
      "codemirror_mode": {
        "name": "ipython",
        "version": 3
      },
      "file_extension": ".py",
      "mimetype": "text/x-python",
      "name": "python",
      "nbconvert_exporter": "python",
      "pygments_lexer": "ipython3",
      "version": "3.6.1"
    },
    "colab": {
      "name": "Numpy.ipynb",
      "provenance": [],
      "include_colab_link": true
    }
  },
  "nbformat": 4,
  "nbformat_minor": 0
}